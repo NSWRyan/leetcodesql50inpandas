{
 "cells": [
  {
   "cell_type": "code",
   "execution_count": 1,
   "metadata": {},
   "outputs": [
    {
     "name": "stderr",
     "output_type": "stream",
     "text": [
      "SLF4J: No SLF4J providers were found.\n",
      "SLF4J: Defaulting to no-operation (NOP) logger implementation\n",
      "SLF4J: See https://www.slf4j.org/codes.html#noProviders for further details.\n",
      "Using Spark's default log4j profile: org/apache/spark/log4j2-defaults.properties\n"
     ]
    },
    {
     "name": "stdout",
     "output_type": "stream",
     "text": [
      "Spark is ready!\n"
     ]
    },
    {
     "data": {
      "text/plain": [
       "\u001b[32mimport \u001b[39m\u001b[36m$ivy.$                                      \n",
       "\u001b[39m\n",
       "\u001b[32mimport \u001b[39m\u001b[36morg.apache.spark.sql._\n",
       "\u001b[39m\n",
       "\u001b[32mimport \u001b[39m\u001b[36morg.apache.spark.sql.functions._\n",
       "\u001b[39m\n",
       "\u001b[32mimport \u001b[39m\u001b[36morg.apache.spark.sql.expressions._\n",
       "\n",
       "\u001b[39m\n",
       "\u001b[36mspark\u001b[39m: \u001b[32mSparkSession\u001b[39m = org.apache.spark.sql.SparkSession@e166017"
      ]
     },
     "execution_count": 1,
     "metadata": {},
     "output_type": "execute_result"
    }
   ],
   "source": [
    "import $ivy.`org.apache.spark:spark-sql_2.13:3.3.2`\n",
    "import org.apache.spark.sql._\n",
    "import org.apache.spark.sql.functions._\n",
    "import org.apache.spark.sql.expressions._\n",
    "\n",
    "val spark = SparkSession.builder()\n",
    "  .appName(\"SparkTest\")\n",
    "  .master(\"local[*]\")\n",
    "  .getOrCreate()\n",
    "spark.sparkContext.setLogLevel(\"ERROR\")\n",
    "  \n",
    "// http://localhost:4040/jobs/\n",
    "println(\"Spark is ready!\")"
   ]
  },
  {
   "cell_type": "code",
   "execution_count": 2,
   "metadata": {},
   "outputs": [
    {
     "data": {
      "text/plain": [
       "\u001b[32mimport \u001b[39m\u001b[36mspark.implicits._\n",
       "\n",
       "\u001b[39m\n",
       "defined \u001b[32mclass\u001b[39m \u001b[36mEmployee\u001b[39m\n",
       "\u001b[36memployee\u001b[39m: \u001b[32mSeq\u001b[39m[(\u001b[32mInt\u001b[39m, \u001b[32mString\u001b[39m, \u001b[32mOption\u001b[39m[\u001b[32mInt\u001b[39m], \u001b[32mInt\u001b[39m)] = \u001b[33mList\u001b[39m(\n",
       "  (\u001b[32m3\u001b[39m, \u001b[32m\"Mila\"\u001b[39m, \u001b[33mSome\u001b[39m(value = \u001b[32m9\u001b[39m), \u001b[32m60301\u001b[39m),\n",
       "  (\u001b[32m12\u001b[39m, \u001b[32m\"Antonella\"\u001b[39m, \u001b[32mNone\u001b[39m, \u001b[32m31000\u001b[39m),\n",
       "  (\u001b[32m13\u001b[39m, \u001b[32m\"Emery\"\u001b[39m, \u001b[32mNone\u001b[39m, \u001b[32m67084\u001b[39m),\n",
       "  (\u001b[32m1\u001b[39m, \u001b[32m\"Kalel\"\u001b[39m, \u001b[33mSome\u001b[39m(value = \u001b[32m11\u001b[39m), \u001b[32m21241\u001b[39m),\n",
       "  (\u001b[32m9\u001b[39m, \u001b[32m\"Mikaela\"\u001b[39m, \u001b[32mNone\u001b[39m, \u001b[32m50937\u001b[39m),\n",
       "  (\u001b[32m11\u001b[39m, \u001b[32m\"Joziah\"\u001b[39m, \u001b[33mSome\u001b[39m(value = \u001b[32m6\u001b[39m), \u001b[32m28485\u001b[39m)\n",
       ")\n",
       "\u001b[36memployeesDS\u001b[39m: \u001b[32mDataset\u001b[39m[\u001b[32mEmployee\u001b[39m] = [employee_id: int, name: string ... 2 more fields]"
      ]
     },
     "execution_count": 2,
     "metadata": {},
     "output_type": "execute_result"
    }
   ],
   "source": [
    "import spark.implicits._\n",
    "\n",
    "case class Employee(employee_id: Int, name: String, manager_id: Option[Int], salary: Int)\n",
    "\n",
    "val employee: Seq[(Int, String, Option[Int], Int)] = Seq(\n",
    "  (3, \"Mila\", Some(9), 60301),\n",
    "  (12, \"Antonella\", None, 31000),\n",
    "  (13, \"Emery\", None, 67084),\n",
    "  (1, \"Kalel\", Some(11), 21241),\n",
    "  (9, \"Mikaela\", None, 50937),\n",
    "  (11, \"Joziah\", Some(6), 28485)\n",
    ")\n",
    "\n",
    "val employeesDS = employee.toDF(\"employee_id\", \"name\", \"manager_id\", \"salary\").as[Employee]"
   ]
  },
  {
   "cell_type": "markdown",
   "metadata": {},
   "source": [
    "Find the IDs of the employees whose salary is strictly less than $30000 and whose manager left the company. When a manager leaves the company, their information is deleted from the Employees table, but the reports still have their manager_id set to the manager that left.\n",
    "\n",
    "Return the result table ordered by employee_id.\n",
    "\n",
    "The result format is in the following example.\n",
    "\n",
    "| employee_id |\n",
    "|-------------|\n",
    "| 11          |"
   ]
  },
  {
   "cell_type": "code",
   "execution_count": 3,
   "metadata": {},
   "outputs": [
    {
     "name": "stdout",
     "output_type": "stream",
     "text": [
      "+-----------+\n",
      "|employee_id|\n",
      "+-----------+\n",
      "|         11|\n",
      "+-----------+\n",
      "\n"
     ]
    }
   ],
   "source": [
    "employeesDS\n",
    "    .filter(col(\"salary\") < lit(30000))\n",
    "    .as(\"a\").join(\n",
    "        employeesDS.as(\"b\"), \n",
    "        col(\"a.manager_id\") === col(\"b.employee_id\"),\n",
    "        \"left_outer\"\n",
    "    )\n",
    "    .filter((col(\"b.name\").isNull) && (col(\"a.manager_id\").isNotNull))\n",
    "    .select(\n",
    "        col(\"a.employee_id\").as(\"employee_id\")\n",
    "    )\n",
    "    .show()"
   ]
  },
  {
   "cell_type": "code",
   "execution_count": 4,
   "metadata": {},
   "outputs": [],
   "source": [
    "spark.stop()"
   ]
  }
 ],
 "metadata": {
  "kernelspec": {
   "display_name": "Scala (2.13.10)",
   "language": "scala",
   "name": "scala213"
  },
  "language_info": {
   "codemirror_mode": "text/x-scala",
   "file_extension": ".sc",
   "mimetype": "text/x-scala",
   "name": "scala",
   "nbconvert_exporter": "script",
   "version": "2.13.10"
  }
 },
 "nbformat": 4,
 "nbformat_minor": 2
}
