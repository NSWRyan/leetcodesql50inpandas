{
 "cells": [
  {
   "cell_type": "code",
   "execution_count": 1,
   "metadata": {},
   "outputs": [
    {
     "name": "stderr",
     "output_type": "stream",
     "text": [
      "SLF4J: No SLF4J providers were found.\n",
      "SLF4J: Defaulting to no-operation (NOP) logger implementation\n",
      "SLF4J: See https://www.slf4j.org/codes.html#noProviders for further details.\n",
      "Using Spark's default log4j profile: org/apache/spark/log4j2-defaults.properties\n"
     ]
    },
    {
     "name": "stdout",
     "output_type": "stream",
     "text": [
      "Spark is ready!\n"
     ]
    },
    {
     "data": {
      "text/plain": [
       "\u001b[32mimport \u001b[39m\u001b[36m$ivy.$                                      \n",
       "\u001b[39m\n",
       "\u001b[32mimport \u001b[39m\u001b[36morg.apache.spark.sql._\n",
       "\u001b[39m\n",
       "\u001b[32mimport \u001b[39m\u001b[36morg.apache.spark.sql.functions._\n",
       "\u001b[39m\n",
       "\u001b[32mimport \u001b[39m\u001b[36morg.apache.spark.sql.expressions._\n",
       "\n",
       "\u001b[39m\n",
       "\u001b[36mspark\u001b[39m: \u001b[32mSparkSession\u001b[39m = org.apache.spark.sql.SparkSession@78a0dfe2"
      ]
     },
     "execution_count": 1,
     "metadata": {},
     "output_type": "execute_result"
    }
   ],
   "source": [
    "import $ivy.`org.apache.spark:spark-sql_2.13:3.3.2`\n",
    "import org.apache.spark.sql._\n",
    "import org.apache.spark.sql.functions._\n",
    "import org.apache.spark.sql.expressions._\n",
    "\n",
    "val spark = SparkSession.builder()\n",
    "  .appName(\"SparkTest\")\n",
    "  .master(\"local[*]\")\n",
    "  .getOrCreate()\n",
    "spark.sparkContext.setLogLevel(\"ERROR\")\n",
    "  \n",
    "// http://localhost:4040/jobs/\n",
    "println(\"Spark is ready!\")"
   ]
  },
  {
   "cell_type": "code",
   "execution_count": 2,
   "metadata": {},
   "outputs": [
    {
     "data": {
      "text/plain": [
       "\u001b[32mimport \u001b[39m\u001b[36mspark.implicits._\n",
       "\n",
       "\u001b[39m\n",
       "defined \u001b[32mclass\u001b[39m \u001b[36mEmployee\u001b[39m\n",
       "defined \u001b[32mclass\u001b[39m \u001b[36mDepartment\u001b[39m\n",
       "\u001b[36memployeeData\u001b[39m: \u001b[32mSeq\u001b[39m[(\u001b[32mInt\u001b[39m, \u001b[32mString\u001b[39m, \u001b[32mInt\u001b[39m, \u001b[32mInt\u001b[39m)] = \u001b[33mList\u001b[39m(\n",
       "  (\u001b[32m1\u001b[39m, \u001b[32m\"Joe\"\u001b[39m, \u001b[32m85000\u001b[39m, \u001b[32m1\u001b[39m),\n",
       "  (\u001b[32m2\u001b[39m, \u001b[32m\"Henry\"\u001b[39m, \u001b[32m80000\u001b[39m, \u001b[32m2\u001b[39m),\n",
       "  (\u001b[32m3\u001b[39m, \u001b[32m\"Sam\"\u001b[39m, \u001b[32m60000\u001b[39m, \u001b[32m2\u001b[39m),\n",
       "  (\u001b[32m4\u001b[39m, \u001b[32m\"Max\"\u001b[39m, \u001b[32m90000\u001b[39m, \u001b[32m1\u001b[39m),\n",
       "  (\u001b[32m5\u001b[39m, \u001b[32m\"Janet\"\u001b[39m, \u001b[32m69000\u001b[39m, \u001b[32m1\u001b[39m),\n",
       "  (\u001b[32m6\u001b[39m, \u001b[32m\"Randy\"\u001b[39m, \u001b[32m85000\u001b[39m, \u001b[32m1\u001b[39m),\n",
       "  (\u001b[32m7\u001b[39m, \u001b[32m\"Will\"\u001b[39m, \u001b[32m70000\u001b[39m, \u001b[32m1\u001b[39m)\n",
       ")\n",
       "\u001b[36mdepartmentData\u001b[39m: \u001b[32mSeq\u001b[39m[(\u001b[32mInt\u001b[39m, \u001b[32mString\u001b[39m)] = \u001b[33mList\u001b[39m((\u001b[32m1\u001b[39m, \u001b[32m\"IT\"\u001b[39m), (\u001b[32m2\u001b[39m, \u001b[32m\"Sales\"\u001b[39m))\n",
       "\u001b[36memployeeDS\u001b[39m: \u001b[32mDataset\u001b[39m[\u001b[32mEmployee\u001b[39m] = [id: int, name: string ... 2 more fields]\n",
       "\u001b[36mdepartmentDS\u001b[39m: \u001b[32mDataset\u001b[39m[\u001b[32mDepartment\u001b[39m] = [id: int, name: string]"
      ]
     },
     "execution_count": 2,
     "metadata": {},
     "output_type": "execute_result"
    }
   ],
   "source": [
    "import spark.implicits._\n",
    "\n",
    "case class Employee(id: Int, name: String, salary: Int, departmentId: Int)\n",
    "case class Department(id: Int, name: String)\n",
    "\n",
    "val employeeData: Seq[(Int, String, Int, Int)] = Seq(\n",
    "  (1, \"Joe\", 85000, 1),\n",
    "  (2, \"Henry\", 80000, 2),\n",
    "  (3, \"Sam\", 60000, 2),\n",
    "  (4, \"Max\", 90000, 1),\n",
    "  (5, \"Janet\", 69000, 1),\n",
    "  (6, \"Randy\", 85000, 1),\n",
    "  (7, \"Will\", 70000, 1)\n",
    ")\n",
    "\n",
    "val departmentData: Seq[(Int, String)] = Seq(\n",
    "  (1, \"IT\"),\n",
    "  (2, \"Sales\")\n",
    ")\n",
    "\n",
    "val employeeDS = employeeData.toDF(\"id\", \"name\", \"salary\", \"departmentId\").as[Employee]\n",
    "val departmentDS = departmentData.toDF(\"id\", \"name\").as[Department]"
   ]
  },
  {
   "cell_type": "markdown",
   "metadata": {},
   "source": [
    "A company's executives are interested in seeing who earns the most money in each of the company's departments. A high earner in a department is an employee who has a salary in the top three unique salaries for that department.\n",
    "\n",
    "Write a solution to find the employees who are high earners in each of the departments.\n",
    "\n",
    "Return the result table in any order.\n",
    "\n",
    "The result format is in the following example.\n",
    "\n",
    "| Department | Employee | Salary |\n",
    "|------------|----------|--------|\n",
    "| IT         | Max      | 90000  |\n",
    "| IT         | Joe      | 85000  |\n",
    "| IT         | Randy    | 85000  |\n",
    "| IT         | Will     | 70000  |\n",
    "| Sales      | Henry    | 80000  |\n",
    "| Sales      | Sam      | 60000  |"
   ]
  },
  {
   "cell_type": "code",
   "execution_count": 3,
   "metadata": {},
   "outputs": [
    {
     "name": "stdout",
     "output_type": "stream",
     "text": [
      "+----------+-----+------+\n",
      "|Department| Name|Salary|\n",
      "+----------+-----+------+\n",
      "|         1|  Max| 90000|\n",
      "|         1|  Joe| 85000|\n",
      "|         1|Randy| 85000|\n",
      "|         1| Will| 70000|\n",
      "|         2|Henry| 80000|\n",
      "|         2|  Sam| 60000|\n",
      "+----------+-----+------+\n",
      "\n"
     ]
    },
    {
     "data": {
      "text/plain": [
       "\u001b[36mwindowSpec\u001b[39m: \u001b[32mWindowSpec\u001b[39m = org.apache.spark.sql.expressions.WindowSpec@45b378e9"
      ]
     },
     "execution_count": 3,
     "metadata": {},
     "output_type": "execute_result"
    }
   ],
   "source": [
    "val windowSpec = Window.partitionBy(col(\"departmentId\"))\n",
    "    .orderBy(col(\"salary\").desc)\n",
    "    \n",
    "employeeDS.withColumn(\"rank\", dense_rank().over(windowSpec))\n",
    "    .filter(col(\"rank\") <= 3)\n",
    "    .join(departmentDS, employeeDS(\"departmentId\") === departmentDS(\"id\"), \"left_outer\")\n",
    "    .select(\n",
    "        departmentDS(\"id\").as(\"Department\"),\n",
    "        employeeDS(\"name\").as(\"Name\"),\n",
    "        employeeDS(\"salary\").as(\"Salary\")\n",
    "    )\n",
    "    .show()"
   ]
  },
  {
   "cell_type": "code",
   "execution_count": 4,
   "metadata": {},
   "outputs": [],
   "source": [
    "spark.stop()"
   ]
  }
 ],
 "metadata": {
  "kernelspec": {
   "display_name": "Scala (2.13.10)",
   "language": "scala",
   "name": "scala213"
  },
  "language_info": {
   "codemirror_mode": "text/x-scala",
   "file_extension": ".sc",
   "mimetype": "text/x-scala",
   "name": "scala",
   "nbconvert_exporter": "script",
   "version": "2.13.10"
  }
 },
 "nbformat": 4,
 "nbformat_minor": 2
}
