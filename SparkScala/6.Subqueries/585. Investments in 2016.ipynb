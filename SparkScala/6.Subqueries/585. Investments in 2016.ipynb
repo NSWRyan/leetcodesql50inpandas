{
 "cells": [
  {
   "cell_type": "code",
   "execution_count": 1,
   "metadata": {},
   "outputs": [
    {
     "name": "stderr",
     "output_type": "stream",
     "text": [
      "SLF4J: No SLF4J providers were found.\n",
      "SLF4J: Defaulting to no-operation (NOP) logger implementation\n",
      "SLF4J: See https://www.slf4j.org/codes.html#noProviders for further details.\n",
      "Using Spark's default log4j profile: org/apache/spark/log4j2-defaults.properties\n"
     ]
    },
    {
     "name": "stdout",
     "output_type": "stream",
     "text": [
      "Spark is ready!\n"
     ]
    },
    {
     "data": {
      "text/plain": [
       "\u001b[32mimport \u001b[39m\u001b[36m$ivy.$                                      \n",
       "\u001b[39m\n",
       "\u001b[32mimport \u001b[39m\u001b[36morg.apache.spark.sql._\n",
       "\u001b[39m\n",
       "\u001b[32mimport \u001b[39m\u001b[36morg.apache.spark.sql.functions._\n",
       "\u001b[39m\n",
       "\u001b[32mimport \u001b[39m\u001b[36morg.apache.spark.sql.expressions._\n",
       "\n",
       "\u001b[39m\n",
       "\u001b[36mspark\u001b[39m: \u001b[32mSparkSession\u001b[39m = org.apache.spark.sql.SparkSession@3c847f"
      ]
     },
     "execution_count": 1,
     "metadata": {},
     "output_type": "execute_result"
    }
   ],
   "source": [
    "import $ivy.`org.apache.spark:spark-sql_2.13:3.3.2`\n",
    "import org.apache.spark.sql._\n",
    "import org.apache.spark.sql.functions._\n",
    "import org.apache.spark.sql.expressions._\n",
    "\n",
    "val spark = SparkSession.builder()\n",
    "  .appName(\"SparkTest\")\n",
    "  .master(\"local[*]\")\n",
    "  .getOrCreate()\n",
    "spark.sparkContext.setLogLevel(\"ERROR\")\n",
    "  \n",
    "// http://localhost:4040/jobs/\n",
    "println(\"Spark is ready!\")"
   ]
  },
  {
   "cell_type": "code",
   "execution_count": 2,
   "metadata": {},
   "outputs": [
    {
     "data": {
      "text/plain": [
       "\u001b[32mimport \u001b[39m\u001b[36mspark.implicits._\n",
       "\n",
       "\u001b[39m\n",
       "defined \u001b[32mclass\u001b[39m \u001b[36mInsurance\u001b[39m\n",
       "\u001b[36minsurance\u001b[39m: \u001b[32mSeq\u001b[39m[(\u001b[32mInt\u001b[39m, \u001b[32mDouble\u001b[39m, \u001b[32mDouble\u001b[39m, \u001b[32mDouble\u001b[39m, \u001b[32mDouble\u001b[39m)] = \u001b[33mList\u001b[39m(\n",
       "  (\u001b[32m1\u001b[39m, \u001b[32m10.0\u001b[39m, \u001b[32m5.0\u001b[39m, \u001b[32m10.0\u001b[39m, \u001b[32m10.0\u001b[39m),\n",
       "  (\u001b[32m2\u001b[39m, \u001b[32m20.0\u001b[39m, \u001b[32m20.0\u001b[39m, \u001b[32m20.0\u001b[39m, \u001b[32m20.0\u001b[39m),\n",
       "  (\u001b[32m3\u001b[39m, \u001b[32m10.0\u001b[39m, \u001b[32m30.0\u001b[39m, \u001b[32m20.0\u001b[39m, \u001b[32m20.0\u001b[39m),\n",
       "  (\u001b[32m4\u001b[39m, \u001b[32m10.0\u001b[39m, \u001b[32m40.0\u001b[39m, \u001b[32m40.0\u001b[39m, \u001b[32m40.0\u001b[39m)\n",
       ")\n",
       "\u001b[36minsuranceDS\u001b[39m: \u001b[32mDataset\u001b[39m[\u001b[32mInsurance\u001b[39m] = [pid: int, tiv_2015: double ... 3 more fields]"
      ]
     },
     "execution_count": 2,
     "metadata": {},
     "output_type": "execute_result"
    }
   ],
   "source": [
    "import spark.implicits._\n",
    "\n",
    "case class Insurance(pid: Int, tiv_2015: Double, tiv_2016: Double, lat: Double, lon: Double)\n",
    "\n",
    "val insurance: Seq[(Int, Double, Double, Double, Double)] = Seq(\n",
    "  (1, 10.0, 5.0, 10.0, 10.0),\n",
    "  (2, 20.0, 20.0, 20.0, 20.0),\n",
    "  (3, 10.0, 30.0, 20.0, 20.0),\n",
    "  (4, 10.0, 40.0, 40.0, 40.0)\n",
    ")\n",
    "\n",
    "val insuranceDS = insurance.toDF(\"pid\", \"tiv_2015\", \"tiv_2016\", \"lat\", \"lon\").as[Insurance]"
   ]
  },
  {
   "cell_type": "markdown",
   "metadata": {},
   "source": [
    "Write a solution to report the sum of all total investment values in 2016 tiv_2016, for all policyholders who:\n",
    "\n",
    "* have the same tiv_2015 value as one or more other policyholders, and\n",
    "* are not located in the same city as any other policyholder (i.e., the (lat, lon) attribute pairs must be unique).\n",
    "\n",
    "Round tiv_2016 to two decimal places.\n",
    "\n",
    "The result format is in the following example.\n",
    "\n",
    "| tiv_2016 |\n",
    "|----------|\n",
    "| 45.00    |"
   ]
  },
  {
   "cell_type": "code",
   "execution_count": 3,
   "metadata": {},
   "outputs": [
    {
     "name": "stdout",
     "output_type": "stream",
     "text": [
      "+--------+\n",
      "|tiv_2016|\n",
      "+--------+\n",
      "|    45.0|\n",
      "+--------+\n",
      "\n"
     ]
    },
    {
     "data": {
      "text/plain": [
       "\u001b[36mvalid2015DF\u001b[39m: \u001b[32mDataFrame\u001b[39m = [tiv_2015: double]\n",
       "\u001b[36minvalidLocDF\u001b[39m: \u001b[32mDataFrame\u001b[39m = [lat: double, lon: double]"
      ]
     },
     "execution_count": 3,
     "metadata": {},
     "output_type": "execute_result"
    }
   ],
   "source": [
    "val valid2015DF = insuranceDS.groupBy(col(\"tiv_2015\"))\n",
    "    .agg(count(lit(1)).as(\"cnt\"))\n",
    "    .filter(col(\"cnt\") > 1)\n",
    "    .drop(\"cnt\")\n",
    "\n",
    "val invalidLocDF = insuranceDS.groupBy(col(\"lat\"), col(\"lon\"))\n",
    "    .agg(count(lit(1)).as(\"cnt\"))\n",
    "    .filter(col(\"cnt\") > 1)\n",
    "    .drop(col(\"cnt\"))\n",
    "\n",
    "insuranceDS.join(valid2015DF, Seq(\"tiv_2015\"), \"inner\")\n",
    "    .join(invalidLocDF, Seq(\"lat\", \"lon\"), \"anti\")\n",
    "    .agg(round(sum(\"tiv_2016\"), 2).as(\"tiv_2016\"))\n",
    "    .show()\n"
   ]
  },
  {
   "cell_type": "code",
   "execution_count": 4,
   "metadata": {},
   "outputs": [],
   "source": [
    "spark.stop()"
   ]
  }
 ],
 "metadata": {
  "kernelspec": {
   "display_name": "Scala (2.13.10)",
   "language": "scala",
   "name": "scala213"
  },
  "language_info": {
   "codemirror_mode": "text/x-scala",
   "file_extension": ".sc",
   "mimetype": "text/x-scala",
   "name": "scala",
   "nbconvert_exporter": "script",
   "version": "2.13.10"
  }
 },
 "nbformat": 4,
 "nbformat_minor": 2
}
