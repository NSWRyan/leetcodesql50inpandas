{
 "cells": [
  {
   "cell_type": "code",
   "execution_count": 1,
   "metadata": {},
   "outputs": [
    {
     "name": "stderr",
     "output_type": "stream",
     "text": [
      "SLF4J: No SLF4J providers were found.\n",
      "SLF4J: Defaulting to no-operation (NOP) logger implementation\n",
      "SLF4J: See https://www.slf4j.org/codes.html#noProviders for further details.\n",
      "Using Spark's default log4j profile: org/apache/spark/log4j2-defaults.properties\n"
     ]
    },
    {
     "name": "stdout",
     "output_type": "stream",
     "text": [
      "Spark is ready!\n"
     ]
    },
    {
     "data": {
      "text/plain": [
       "\u001b[32mimport \u001b[39m\u001b[36m$ivy.$                                      \n",
       "\u001b[39m\n",
       "\u001b[32mimport \u001b[39m\u001b[36morg.apache.spark.sql._\n",
       "\u001b[39m\n",
       "\u001b[32mimport \u001b[39m\u001b[36morg.apache.spark.sql.functions._\n",
       "\u001b[39m\n",
       "\u001b[32mimport \u001b[39m\u001b[36morg.apache.spark.sql.expressions._\n",
       "\n",
       "\u001b[39m\n",
       "\u001b[36mspark\u001b[39m: \u001b[32mSparkSession\u001b[39m = org.apache.spark.sql.SparkSession@48764d69"
      ]
     },
     "execution_count": 1,
     "metadata": {},
     "output_type": "execute_result"
    }
   ],
   "source": [
    "import $ivy.`org.apache.spark:spark-sql_2.13:3.3.2`\n",
    "import org.apache.spark.sql._\n",
    "import org.apache.spark.sql.functions._\n",
    "import org.apache.spark.sql.expressions._\n",
    "\n",
    "val spark = SparkSession.builder()\n",
    "  .appName(\"SparkTest\")\n",
    "  .master(\"local[*]\")\n",
    "  .getOrCreate()\n",
    "spark.sparkContext.setLogLevel(\"ERROR\")\n",
    "  \n",
    "// http://localhost:4040/jobs/\n",
    "println(\"Spark is ready!\")"
   ]
  },
  {
   "cell_type": "code",
   "execution_count": 2,
   "metadata": {},
   "outputs": [
    {
     "data": {
      "text/plain": [
       "\u001b[32mimport \u001b[39m\u001b[36mspark.implicits._\n",
       "\n",
       "\u001b[39m\n",
       "defined \u001b[32mclass\u001b[39m \u001b[36mCustomer\u001b[39m\n",
       "\u001b[36mcustomer\u001b[39m: \u001b[32mSeq\u001b[39m[(\u001b[32mInt\u001b[39m, \u001b[32mString\u001b[39m, \u001b[32mString\u001b[39m, \u001b[32mInt\u001b[39m)] = \u001b[33mList\u001b[39m(\n",
       "  (\u001b[32m1\u001b[39m, \u001b[32m\"Jhon\"\u001b[39m, \u001b[32m\"2019-01-01\"\u001b[39m, \u001b[32m100\u001b[39m),\n",
       "  (\u001b[32m2\u001b[39m, \u001b[32m\"Daniel\"\u001b[39m, \u001b[32m\"2019-01-02\"\u001b[39m, \u001b[32m110\u001b[39m),\n",
       "  (\u001b[32m3\u001b[39m, \u001b[32m\"Jade\"\u001b[39m, \u001b[32m\"2019-01-03\"\u001b[39m, \u001b[32m120\u001b[39m),\n",
       "  (\u001b[32m4\u001b[39m, \u001b[32m\"Khaled\"\u001b[39m, \u001b[32m\"2019-01-04\"\u001b[39m, \u001b[32m130\u001b[39m),\n",
       "  (\u001b[32m5\u001b[39m, \u001b[32m\"Winston\"\u001b[39m, \u001b[32m\"2019-01-05\"\u001b[39m, \u001b[32m110\u001b[39m),\n",
       "  (\u001b[32m6\u001b[39m, \u001b[32m\"Elvis\"\u001b[39m, \u001b[32m\"2019-01-06\"\u001b[39m, \u001b[32m140\u001b[39m),\n",
       "  (\u001b[32m7\u001b[39m, \u001b[32m\"Anna\"\u001b[39m, \u001b[32m\"2019-01-07\"\u001b[39m, \u001b[32m150\u001b[39m),\n",
       "  (\u001b[32m8\u001b[39m, \u001b[32m\"Maria\"\u001b[39m, \u001b[32m\"2019-01-08\"\u001b[39m, \u001b[32m80\u001b[39m),\n",
       "  (\u001b[32m9\u001b[39m, \u001b[32m\"Jaze\"\u001b[39m, \u001b[32m\"2019-01-09\"\u001b[39m, \u001b[32m110\u001b[39m),\n",
       "  (\u001b[32m1\u001b[39m, \u001b[32m\"Jhon\"\u001b[39m, \u001b[32m\"2019-01-10\"\u001b[39m, \u001b[32m130\u001b[39m),\n",
       "  (\u001b[32m3\u001b[39m, \u001b[32m\"Jade\"\u001b[39m, \u001b[32m\"2019-01-10\"\u001b[39m, \u001b[32m150\u001b[39m)\n",
       ")\n",
       "\u001b[36mcustomerDS\u001b[39m: \u001b[32mDataset\u001b[39m[\u001b[32mCustomer\u001b[39m] = [customer_id: int, name: string ... 2 more fields]"
      ]
     },
     "execution_count": 2,
     "metadata": {},
     "output_type": "execute_result"
    }
   ],
   "source": [
    "import spark.implicits._\n",
    "\n",
    "case class Customer(customer_id: Int, name: String, visited_on: java.sql.Date, amount: Int)\n",
    "\n",
    "val customer: Seq[(Int, String, String, Int)] = Seq(\n",
    "  (1, \"Jhon\", \"2019-01-01\", 100),\n",
    "  (2, \"Daniel\", \"2019-01-02\", 110),\n",
    "  (3, \"Jade\", \"2019-01-03\", 120),\n",
    "  (4, \"Khaled\", \"2019-01-04\", 130),\n",
    "  (5, \"Winston\", \"2019-01-05\", 110),\n",
    "  (6, \"Elvis\", \"2019-01-06\", 140),\n",
    "  (7, \"Anna\", \"2019-01-07\", 150),\n",
    "  (8, \"Maria\", \"2019-01-08\", 80),\n",
    "  (9, \"Jaze\", \"2019-01-09\", 110),\n",
    "  (1, \"Jhon\", \"2019-01-10\", 130),\n",
    "  (3, \"Jade\", \"2019-01-10\", 150)\n",
    ")\n",
    "\n",
    "val customerDS = customer.toDF(\"customer_id\", \"name\", \"visited_on\", \"amount\")\n",
    "  .withColumn(\"visited_on\", $\"visited_on\".cast(\"date\"))\n",
    "  .as[Customer]"
   ]
  },
  {
   "cell_type": "markdown",
   "metadata": {},
   "source": [
    "You are the restaurant owner and you want to analyze a possible expansion (there will be at least one customer every day).\n",
    "\n",
    "Compute the moving average of how much the customer paid in a seven days window (i.e., current day + 6 days before). average_amount should be rounded to two decimal places.\n",
    "\n",
    "Return the result table ordered by visited_on in ascending order.\n",
    "\n",
    "The result format is in the following example.\n",
    "\n",
    "| visited_on   | amount       | average_amount |\n",
    "|--------------|--------------|----------------|\n",
    "| 2019-01-07   | 860          | 122.86         |\n",
    "| 2019-01-08   | 840          | 120            |\n",
    "| 2019-01-09   | 840          | 120            |\n",
    "| 2019-01-10   | 1000         | 142.86         |"
   ]
  },
  {
   "cell_type": "code",
   "execution_count": 3,
   "metadata": {},
   "outputs": [
    {
     "name": "stdout",
     "output_type": "stream",
     "text": [
      "+----------+------+--------------+\n",
      "|visited_on|amount|average_amount|\n",
      "+----------+------+--------------+\n",
      "|2019-01-07|   860|        122.86|\n",
      "|2019-01-08|   840|         120.0|\n",
      "|2019-01-09|   840|         120.0|\n",
      "|2019-01-10|  1000|        142.86|\n",
      "+----------+------+--------------+\n",
      "\n"
     ]
    },
    {
     "data": {
      "text/plain": [
       "\u001b[36mwindowSpec\u001b[39m: \u001b[32mWindowSpec\u001b[39m = org.apache.spark.sql.expressions.WindowSpec@34f0cddb"
      ]
     },
     "execution_count": 3,
     "metadata": {},
     "output_type": "execute_result"
    }
   ],
   "source": [
    "val windowSpec = Window.rowsBetween(Window.currentRow - 6, Window.currentRow)\n",
    "customerDS\n",
    "    .groupBy(col(\"visited_on\"))\n",
    "    .agg(sum(\"amount\").as(\"amount\"))\n",
    "    .withColumn(\"amount\", sum(col(\"amount\")).over(windowSpec))\n",
    "    .withColumn(\"average_amount\", round(col(\"amount\") / lit(7), 2))\n",
    "    .withColumn(\"day_cnt\", sum(lit(1)).over(windowSpec))\n",
    "    .filter(col(\"day_cnt\") >= 7)\n",
    "    .drop(col(\"day_cnt\"))\n",
    "    .sort(col(\"visited_on\").asc)\n",
    "    .show()"
   ]
  },
  {
   "cell_type": "code",
   "execution_count": 4,
   "metadata": {},
   "outputs": [],
   "source": [
    "spark.stop()"
   ]
  }
 ],
 "metadata": {
  "kernelspec": {
   "display_name": "Scala (2.13.10)",
   "language": "scala",
   "name": "scala213"
  },
  "language_info": {
   "codemirror_mode": "text/x-scala",
   "file_extension": ".sc",
   "mimetype": "text/x-scala",
   "name": "scala",
   "nbconvert_exporter": "script",
   "version": "2.13.10"
  }
 },
 "nbformat": 4,
 "nbformat_minor": 2
}
