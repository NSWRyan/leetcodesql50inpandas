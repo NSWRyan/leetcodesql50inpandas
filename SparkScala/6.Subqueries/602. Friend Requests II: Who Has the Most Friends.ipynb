{
 "cells": [
  {
   "cell_type": "code",
   "execution_count": 1,
   "metadata": {},
   "outputs": [
    {
     "name": "stderr",
     "output_type": "stream",
     "text": [
      "SLF4J: No SLF4J providers were found.\n",
      "SLF4J: Defaulting to no-operation (NOP) logger implementation\n",
      "SLF4J: See https://www.slf4j.org/codes.html#noProviders for further details.\n",
      "Using Spark's default log4j profile: org/apache/spark/log4j2-defaults.properties\n"
     ]
    },
    {
     "name": "stdout",
     "output_type": "stream",
     "text": [
      "Spark is ready!\n"
     ]
    },
    {
     "data": {
      "text/plain": [
       "\u001b[32mimport \u001b[39m\u001b[36m$ivy.$                                      \n",
       "\u001b[39m\n",
       "\u001b[32mimport \u001b[39m\u001b[36morg.apache.spark.sql._\n",
       "\u001b[39m\n",
       "\u001b[32mimport \u001b[39m\u001b[36morg.apache.spark.sql.functions._\n",
       "\u001b[39m\n",
       "\u001b[32mimport \u001b[39m\u001b[36morg.apache.spark.sql.expressions._\n",
       "\n",
       "\u001b[39m\n",
       "\u001b[36mspark\u001b[39m: \u001b[32mSparkSession\u001b[39m = org.apache.spark.sql.SparkSession@43114629"
      ]
     },
     "execution_count": 1,
     "metadata": {},
     "output_type": "execute_result"
    }
   ],
   "source": [
    "import $ivy.`org.apache.spark:spark-sql_2.13:3.3.2`\n",
    "import org.apache.spark.sql._\n",
    "import org.apache.spark.sql.functions._\n",
    "import org.apache.spark.sql.expressions._\n",
    "\n",
    "val spark = SparkSession.builder()\n",
    "  .appName(\"SparkTest\")\n",
    "  .master(\"local[*]\")\n",
    "  .getOrCreate()\n",
    "spark.sparkContext.setLogLevel(\"ERROR\")\n",
    "  \n",
    "// http://localhost:4040/jobs/\n",
    "println(\"Spark is ready!\")"
   ]
  },
  {
   "cell_type": "code",
   "execution_count": 2,
   "metadata": {},
   "outputs": [
    {
     "data": {
      "text/plain": [
       "\u001b[32mimport \u001b[39m\u001b[36mspark.implicits._\n",
       "\n",
       "\u001b[39m\n",
       "defined \u001b[32mclass\u001b[39m \u001b[36mRequestAccepted\u001b[39m\n",
       "\u001b[36mrequestAccepted\u001b[39m: \u001b[32mSeq\u001b[39m[(\u001b[32mInt\u001b[39m, \u001b[32mInt\u001b[39m, \u001b[32mString\u001b[39m)] = \u001b[33mList\u001b[39m(\n",
       "  (\u001b[32m1\u001b[39m, \u001b[32m2\u001b[39m, \u001b[32m\"2016/06/03\"\u001b[39m),\n",
       "  (\u001b[32m1\u001b[39m, \u001b[32m3\u001b[39m, \u001b[32m\"2016/06/08\"\u001b[39m),\n",
       "  (\u001b[32m2\u001b[39m, \u001b[32m3\u001b[39m, \u001b[32m\"2016/06/08\"\u001b[39m),\n",
       "  (\u001b[32m3\u001b[39m, \u001b[32m4\u001b[39m, \u001b[32m\"2016/06/09\"\u001b[39m)\n",
       ")\n",
       "\u001b[36mrequestAcceptedDS\u001b[39m: \u001b[32mDataset\u001b[39m[\u001b[32mRequestAccepted\u001b[39m] = [requester_id: int, accepter_id: int ... 1 more field]"
      ]
     },
     "execution_count": 2,
     "metadata": {},
     "output_type": "execute_result"
    }
   ],
   "source": [
    "import spark.implicits._\n",
    "\n",
    "case class RequestAccepted(requester_id: Int, accepter_id: Int, accept_date: java.sql.Date)\n",
    "\n",
    "val requestAccepted: Seq[(Int, Int, String)] = Seq(\n",
    "  (1, 2, \"2016/06/03\"),\n",
    "  (1, 3, \"2016/06/08\"),\n",
    "  (2, 3, \"2016/06/08\"),\n",
    "  (3, 4, \"2016/06/09\")\n",
    ")\n",
    "\n",
    "val requestAcceptedDS = requestAccepted.toDF(\"requester_id\", \"accepter_id\", \"accept_date\")\n",
    "  .withColumn(\"accept_date\", $\"accept_date\".cast(\"date\"))\n",
    "  .as[RequestAccepted]\n"
   ]
  },
  {
   "cell_type": "markdown",
   "metadata": {},
   "source": [
    "Write a solution to find the people who have the most friends and the most friends number.\n",
    "\n",
    "The test cases are generated so that only one person has the most friends.\n",
    "\n",
    "The result format is in the following example.\n",
    "\n",
    "| id | num |\n",
    "|----|-----|\n",
    "| 3  | 3   |"
   ]
  },
  {
   "cell_type": "code",
   "execution_count": 3,
   "metadata": {},
   "outputs": [
    {
     "name": "stdout",
     "output_type": "stream",
     "text": [
      "+---+---+\n",
      "| id|num|\n",
      "+---+---+\n",
      "|  3|  3|\n",
      "+---+---+\n",
      "\n"
     ]
    },
    {
     "data": {
      "text/plain": [
       "\u001b[36mreverseDF\u001b[39m: \u001b[32mDataFrame\u001b[39m = [a: int]\n",
       "\u001b[36mwindowSpec\u001b[39m: \u001b[32mWindowSpec\u001b[39m = org.apache.spark.sql.expressions.WindowSpec@62006f5b"
      ]
     },
     "execution_count": 3,
     "metadata": {},
     "output_type": "execute_result"
    }
   ],
   "source": [
    "val reverseDF = requestAcceptedDS.select(\n",
    "        col(\"requester_id\").as(\"a\"),\n",
    "    )\n",
    "val windowSpec = Window.orderBy(col(\"cnt\").desc)\n",
    "\n",
    "requestAcceptedDS.select(\n",
    "        col(\"accepter_id\").as(\"a\"),\n",
    "    ).union(reverseDF)\n",
    "    .groupBy(col(\"a\"))\n",
    "    .agg(count(lit(1)).as(\"cnt\"))\n",
    "    .withColumn(\"rank\", dense_rank().over(windowSpec))\n",
    "    .filter(col(\"rank\") === lit(1))\n",
    "    .select(col(\"a\").as(\"id\"), col(\"cnt\").as(\"num\"))\n",
    "    .show()"
   ]
  },
  {
   "cell_type": "code",
   "execution_count": 4,
   "metadata": {},
   "outputs": [],
   "source": [
    "spark.stop()"
   ]
  }
 ],
 "metadata": {
  "kernelspec": {
   "display_name": "Scala (2.13.10)",
   "language": "scala",
   "name": "scala213"
  },
  "language_info": {
   "codemirror_mode": "text/x-scala",
   "file_extension": ".sc",
   "mimetype": "text/x-scala",
   "name": "scala",
   "nbconvert_exporter": "script",
   "version": "2.13.10"
  }
 },
 "nbformat": 4,
 "nbformat_minor": 2
}
