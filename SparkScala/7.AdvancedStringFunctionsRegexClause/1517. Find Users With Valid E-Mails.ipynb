{
 "cells": [
  {
   "cell_type": "code",
   "execution_count": 1,
   "metadata": {},
   "outputs": [
    {
     "name": "stderr",
     "output_type": "stream",
     "text": [
      "SLF4J: No SLF4J providers were found.\n",
      "SLF4J: Defaulting to no-operation (NOP) logger implementation\n",
      "SLF4J: See https://www.slf4j.org/codes.html#noProviders for further details.\n",
      "Using Spark's default log4j profile: org/apache/spark/log4j2-defaults.properties\n"
     ]
    },
    {
     "name": "stdout",
     "output_type": "stream",
     "text": [
      "Spark is ready!\n"
     ]
    },
    {
     "data": {
      "text/plain": [
       "\u001b[32mimport \u001b[39m\u001b[36m$ivy.$                                      \n",
       "\u001b[39m\n",
       "\u001b[32mimport \u001b[39m\u001b[36morg.apache.spark.sql._\n",
       "\u001b[39m\n",
       "\u001b[32mimport \u001b[39m\u001b[36morg.apache.spark.sql.functions._\n",
       "\u001b[39m\n",
       "\u001b[32mimport \u001b[39m\u001b[36morg.apache.spark.sql.expressions._\n",
       "\n",
       "\u001b[39m\n",
       "\u001b[36mspark\u001b[39m: \u001b[32mSparkSession\u001b[39m = org.apache.spark.sql.SparkSession@6b9f74c4"
      ]
     },
     "execution_count": 1,
     "metadata": {},
     "output_type": "execute_result"
    }
   ],
   "source": [
    "import $ivy.`org.apache.spark:spark-sql_2.13:3.3.2`\n",
    "import org.apache.spark.sql._\n",
    "import org.apache.spark.sql.functions._\n",
    "import org.apache.spark.sql.expressions._\n",
    "\n",
    "val spark = SparkSession.builder()\n",
    "  .appName(\"SparkTest\")\n",
    "  .master(\"local[*]\")\n",
    "  .getOrCreate()\n",
    "spark.sparkContext.setLogLevel(\"ERROR\")\n",
    "  \n",
    "// http://localhost:4040/jobs/\n",
    "println(\"Spark is ready!\")"
   ]
  },
  {
   "cell_type": "code",
   "execution_count": 2,
   "metadata": {},
   "outputs": [
    {
     "data": {
      "text/plain": [
       "\u001b[32mimport \u001b[39m\u001b[36mspark.implicits._\n",
       "\n",
       "\u001b[39m\n",
       "defined \u001b[32mclass\u001b[39m \u001b[36mUser\u001b[39m\n",
       "\u001b[36muser\u001b[39m: \u001b[32mSeq\u001b[39m[(\u001b[32mInt\u001b[39m, \u001b[32mString\u001b[39m, \u001b[32mString\u001b[39m)] = \u001b[33mList\u001b[39m(\n",
       "  (\u001b[32m1\u001b[39m, \u001b[32m\"Winston\"\u001b[39m, \u001b[32m\"winston@leetcode.com\"\u001b[39m),\n",
       "  (\u001b[32m2\u001b[39m, \u001b[32m\"Jonathan\"\u001b[39m, \u001b[32m\"jonathanisgreat\"\u001b[39m),\n",
       "  (\u001b[32m3\u001b[39m, \u001b[32m\"Annabelle\"\u001b[39m, \u001b[32m\"bella-@leetcode.com\"\u001b[39m),\n",
       "  (\u001b[32m4\u001b[39m, \u001b[32m\"Sally\"\u001b[39m, \u001b[32m\"sally.come@leetcode.com\"\u001b[39m),\n",
       "  (\u001b[32m5\u001b[39m, \u001b[32m\"Marwan\"\u001b[39m, \u001b[32m\"quarz#2020@leetcode.com\"\u001b[39m),\n",
       "  (\u001b[32m6\u001b[39m, \u001b[32m\"David\"\u001b[39m, \u001b[32m\"david69@gmail.com\"\u001b[39m),\n",
       "  (\u001b[32m7\u001b[39m, \u001b[32m\"Shapiro\"\u001b[39m, \u001b[32m\".shapo@leetcode.com\"\u001b[39m)\n",
       ")\n",
       "\u001b[36muserDS\u001b[39m: \u001b[32mDataset\u001b[39m[\u001b[32mUser\u001b[39m] = [user_id: int, name: string ... 1 more field]"
      ]
     },
     "execution_count": 2,
     "metadata": {},
     "output_type": "execute_result"
    }
   ],
   "source": [
    "import spark.implicits._\n",
    "\n",
    "case class User(user_id: Int, name: String, mail: String)\n",
    "\n",
    "val user: Seq[(Int, String, String)] = Seq(\n",
    "  (1, \"Winston\", \"winston@leetcode.com\"),\n",
    "  (2, \"Jonathan\", \"jonathanisgreat\"),\n",
    "  (3, \"Annabelle\", \"bella-@leetcode.com\"),\n",
    "  (4, \"Sally\", \"sally.come@leetcode.com\"),\n",
    "  (5, \"Marwan\", \"quarz#2020@leetcode.com\"),\n",
    "  (6, \"David\", \"david69@gmail.com\"),\n",
    "  (7, \"Shapiro\", \".shapo@leetcode.com\")\n",
    ")\n",
    "\n",
    "val userDS = user.toDF(\"user_id\", \"name\", \"mail\").as[User]\n"
   ]
  },
  {
   "cell_type": "markdown",
   "metadata": {},
   "source": [
    "Write a solution to find the users who have valid emails.\n",
    "\n",
    "A valid e-mail has a prefix name and a domain where:\n",
    "\n",
    "* The prefix name is a string that may contain letters (upper or lower case), digits, underscore '_', period '.', and/or dash '-'. The prefix name must start with a letter.\n",
    "* The domain is '@leetcode.com'.\n",
    "\n",
    "Return the result table in any order.\n",
    "\n",
    "The result format is in the following example.\n",
    "\n",
    "| user_id | name      | mail                    |\n",
    "|---------|-----------|-------------------------|\n",
    "| 1       | Winston   | winston@leetcode.com    |\n",
    "| 3       | Annabelle | bella-@leetcode.com     |\n",
    "| 4       | Sally     | sally.come@leetcode.com |"
   ]
  },
  {
   "cell_type": "code",
   "execution_count": 3,
   "metadata": {},
   "outputs": [
    {
     "name": "stdout",
     "output_type": "stream",
     "text": [
      "+-------+---------+--------------------+\n",
      "|user_id|     name|                mail|\n",
      "+-------+---------+--------------------+\n",
      "|      1|  Winston|winston@leetcode.com|\n",
      "|      3|Annabelle| bella-@leetcode.com|\n",
      "|      4|    Sally|sally.come@leetco...|\n",
      "+-------+---------+--------------------+\n",
      "\n"
     ]
    }
   ],
   "source": [
    "userDS.filter(col(\"mail\").rlike(\"^[a-zA-Z][\\\\w\\\\d\\\\._-]*@leetcode\\\\.com$\"))\n",
    "    .show()"
   ]
  },
  {
   "cell_type": "code",
   "execution_count": 4,
   "metadata": {},
   "outputs": [],
   "source": [
    "spark.stop()"
   ]
  }
 ],
 "metadata": {
  "kernelspec": {
   "display_name": "Scala (2.13.10)",
   "language": "scala",
   "name": "scala213"
  },
  "language_info": {
   "codemirror_mode": "text/x-scala",
   "file_extension": ".sc",
   "mimetype": "text/x-scala",
   "name": "scala",
   "nbconvert_exporter": "script",
   "version": "2.13.10"
  }
 },
 "nbformat": 4,
 "nbformat_minor": 2
}
