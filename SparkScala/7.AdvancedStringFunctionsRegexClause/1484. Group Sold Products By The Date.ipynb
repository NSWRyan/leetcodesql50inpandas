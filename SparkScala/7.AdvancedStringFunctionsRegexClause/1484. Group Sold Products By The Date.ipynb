{
 "cells": [
  {
   "cell_type": "code",
   "execution_count": 1,
   "metadata": {},
   "outputs": [
    {
     "name": "stderr",
     "output_type": "stream",
     "text": [
      "SLF4J: No SLF4J providers were found.\n",
      "SLF4J: Defaulting to no-operation (NOP) logger implementation\n",
      "SLF4J: See https://www.slf4j.org/codes.html#noProviders for further details.\n",
      "Using Spark's default log4j profile: org/apache/spark/log4j2-defaults.properties\n"
     ]
    },
    {
     "name": "stdout",
     "output_type": "stream",
     "text": [
      "Spark is ready!\n"
     ]
    },
    {
     "data": {
      "text/plain": [
       "\u001b[32mimport \u001b[39m\u001b[36m$ivy.$                                      \n",
       "\u001b[39m\n",
       "\u001b[32mimport \u001b[39m\u001b[36morg.apache.spark.sql._\n",
       "\u001b[39m\n",
       "\u001b[32mimport \u001b[39m\u001b[36morg.apache.spark.sql.functions._\n",
       "\u001b[39m\n",
       "\u001b[32mimport \u001b[39m\u001b[36morg.apache.spark.sql.expressions._\n",
       "\n",
       "\u001b[39m\n",
       "\u001b[36mspark\u001b[39m: \u001b[32mSparkSession\u001b[39m = org.apache.spark.sql.SparkSession@7360deff"
      ]
     },
     "execution_count": 1,
     "metadata": {},
     "output_type": "execute_result"
    }
   ],
   "source": [
    "import $ivy.`org.apache.spark:spark-sql_2.13:3.3.2`\n",
    "import org.apache.spark.sql._\n",
    "import org.apache.spark.sql.functions._\n",
    "import org.apache.spark.sql.expressions._\n",
    "\n",
    "val spark = SparkSession.builder()\n",
    "  .appName(\"SparkTest\")\n",
    "  .master(\"local[*]\")\n",
    "  .getOrCreate()\n",
    "spark.sparkContext.setLogLevel(\"ERROR\")\n",
    "  \n",
    "// http://localhost:4040/jobs/\n",
    "println(\"Spark is ready!\")"
   ]
  },
  {
   "cell_type": "code",
   "execution_count": 2,
   "metadata": {},
   "outputs": [
    {
     "data": {
      "text/plain": [
       "\u001b[32mimport \u001b[39m\u001b[36mspark.implicits._\n",
       "\n",
       "\u001b[39m\n",
       "defined \u001b[32mclass\u001b[39m \u001b[36mActivity\u001b[39m\n",
       "\u001b[36mactivity\u001b[39m: \u001b[32mSeq\u001b[39m[(\u001b[32mString\u001b[39m, \u001b[32mString\u001b[39m)] = \u001b[33mList\u001b[39m(\n",
       "  (\u001b[32m\"2020-05-30\"\u001b[39m, \u001b[32m\"Headphone\"\u001b[39m),\n",
       "  (\u001b[32m\"2020-06-01\"\u001b[39m, \u001b[32m\"Pencil\"\u001b[39m),\n",
       "  (\u001b[32m\"2020-06-02\"\u001b[39m, \u001b[32m\"Mask\"\u001b[39m),\n",
       "  (\u001b[32m\"2020-05-30\"\u001b[39m, \u001b[32m\"Basketball\"\u001b[39m),\n",
       "  (\u001b[32m\"2020-06-01\"\u001b[39m, \u001b[32m\"Bible\"\u001b[39m),\n",
       "  (\u001b[32m\"2020-06-02\"\u001b[39m, \u001b[32m\"Mask\"\u001b[39m),\n",
       "  (\u001b[32m\"2020-05-30\"\u001b[39m, \u001b[32m\"T-Shirt\"\u001b[39m)\n",
       ")\n",
       "\u001b[36mactivityDS\u001b[39m: \u001b[32mDataset\u001b[39m[\u001b[32mActivity\u001b[39m] = [sell_date: string, product: string]"
      ]
     },
     "execution_count": 2,
     "metadata": {},
     "output_type": "execute_result"
    }
   ],
   "source": [
    "import spark.implicits._\n",
    "\n",
    "case class Activity(sell_date: String, product: String)\n",
    "\n",
    "val activity: Seq[(String, String)] = Seq(\n",
    "  (\"2020-05-30\", \"Headphone\"),\n",
    "  (\"2020-06-01\", \"Pencil\"),\n",
    "  (\"2020-06-02\", \"Mask\"),\n",
    "  (\"2020-05-30\", \"Basketball\"),\n",
    "  (\"2020-06-01\", \"Bible\"),\n",
    "  (\"2020-06-02\", \"Mask\"),\n",
    "  (\"2020-05-30\", \"T-Shirt\")\n",
    ")\n",
    "\n",
    "val activityDS = activity.toDF(\"sell_date\", \"product\").as[Activity]\n"
   ]
  },
  {
   "cell_type": "markdown",
   "metadata": {},
   "source": [
    "Write a solution to find for each date the number of different products sold and their names.\n",
    "\n",
    "The sold products names for each date should be sorted lexicographically.\n",
    "\n",
    "Return the result table ordered by sell_date.\n",
    "\n",
    "The result format is in the following example.\n",
    "\n",
    "| sell_date  | num_sold | products                     |\n",
    "|------------|----------|------------------------------|\n",
    "| 2020-05-30 | 3        | Basketball,Headphone,T-shirt |\n",
    "| 2020-06-01 | 2        | Bible,Pencil                 |\n",
    "| 2020-06-02 | 1        | Mask                         |"
   ]
  },
  {
   "cell_type": "code",
   "execution_count": 3,
   "metadata": {},
   "outputs": [
    {
     "name": "stdout",
     "output_type": "stream",
     "text": [
      "+----------+--------+--------------------+\n",
      "| sell_date|num_sold|            products|\n",
      "+----------+--------+--------------------+\n",
      "|2020-05-30|       3|Basketball,Headph...|\n",
      "|2020-06-01|       2|        Bible,Pencil|\n",
      "|2020-06-02|       1|                Mask|\n",
      "+----------+--------+--------------------+\n",
      "\n"
     ]
    }
   ],
   "source": [
    "activityDS\n",
    "    .distinct()\n",
    "    .groupBy(col(\"sell_date\"))\n",
    "    .agg(\n",
    "        count(lit(1)).as(\"num_sold\"),\n",
    "        concat_ws(\",\", sort_array(collect_list(col(\"product\")))).as(\"products\")\n",
    "    )\n",
    "    .show()"
   ]
  },
  {
   "cell_type": "code",
   "execution_count": 4,
   "metadata": {},
   "outputs": [],
   "source": [
    "spark.stop()"
   ]
  }
 ],
 "metadata": {
  "kernelspec": {
   "display_name": "Scala (2.13.10)",
   "language": "scala",
   "name": "scala213"
  },
  "language_info": {
   "codemirror_mode": "text/x-scala",
   "file_extension": ".sc",
   "mimetype": "text/x-scala",
   "name": "scala",
   "nbconvert_exporter": "script",
   "version": "2.13.10"
  }
 },
 "nbformat": 4,
 "nbformat_minor": 2
}
