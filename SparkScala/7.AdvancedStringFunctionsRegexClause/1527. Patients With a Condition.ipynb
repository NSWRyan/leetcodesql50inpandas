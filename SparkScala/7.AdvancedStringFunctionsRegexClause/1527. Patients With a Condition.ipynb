{
 "cells": [
  {
   "cell_type": "code",
   "execution_count": 1,
   "metadata": {},
   "outputs": [
    {
     "name": "stderr",
     "output_type": "stream",
     "text": [
      "SLF4J: No SLF4J providers were found.\n",
      "SLF4J: Defaulting to no-operation (NOP) logger implementation\n",
      "SLF4J: See https://www.slf4j.org/codes.html#noProviders for further details.\n",
      "Using Spark's default log4j profile: org/apache/spark/log4j2-defaults.properties\n"
     ]
    },
    {
     "name": "stdout",
     "output_type": "stream",
     "text": [
      "Spark is ready!\n"
     ]
    },
    {
     "data": {
      "text/plain": [
       "\u001b[32mimport \u001b[39m\u001b[36m$ivy.$                                      \n",
       "\u001b[39m\n",
       "\u001b[32mimport \u001b[39m\u001b[36morg.apache.spark.sql._\n",
       "\u001b[39m\n",
       "\u001b[32mimport \u001b[39m\u001b[36morg.apache.spark.sql.functions._\n",
       "\u001b[39m\n",
       "\u001b[32mimport \u001b[39m\u001b[36morg.apache.spark.sql.expressions._\n",
       "\n",
       "\u001b[39m\n",
       "\u001b[36mspark\u001b[39m: \u001b[32mSparkSession\u001b[39m = org.apache.spark.sql.SparkSession@3bc51b9b"
      ]
     },
     "execution_count": 1,
     "metadata": {},
     "output_type": "execute_result"
    }
   ],
   "source": [
    "import $ivy.`org.apache.spark:spark-sql_2.13:3.3.2`\n",
    "import org.apache.spark.sql._\n",
    "import org.apache.spark.sql.functions._\n",
    "import org.apache.spark.sql.expressions._\n",
    "\n",
    "val spark = SparkSession.builder()\n",
    "  .appName(\"SparkTest\")\n",
    "  .master(\"local[*]\")\n",
    "  .getOrCreate()\n",
    "spark.sparkContext.setLogLevel(\"ERROR\")\n",
    "  \n",
    "// http://localhost:4040/jobs/\n",
    "println(\"Spark is ready!\")"
   ]
  },
  {
   "cell_type": "code",
   "execution_count": 2,
   "metadata": {},
   "outputs": [
    {
     "data": {
      "text/plain": [
       "\u001b[32mimport \u001b[39m\u001b[36mspark.implicits._\n",
       "\n",
       "\u001b[39m\n",
       "defined \u001b[32mclass\u001b[39m \u001b[36mPatient\u001b[39m\n",
       "\u001b[36mpatient\u001b[39m: \u001b[32mSeq\u001b[39m[(\u001b[32mInt\u001b[39m, \u001b[32mString\u001b[39m, \u001b[32mString\u001b[39m)] = \u001b[33mList\u001b[39m(\n",
       "  (\u001b[32m1\u001b[39m, \u001b[32m\"Daniel\"\u001b[39m, \u001b[32m\"YFEV COUGH\"\u001b[39m),\n",
       "  (\u001b[32m2\u001b[39m, \u001b[32m\"Alice\"\u001b[39m, \u001b[32m\"\"\u001b[39m),\n",
       "  (\u001b[32m3\u001b[39m, \u001b[32m\"Bob\"\u001b[39m, \u001b[32m\"DIAB100 MYOP\"\u001b[39m),\n",
       "  (\u001b[32m4\u001b[39m, \u001b[32m\"George\"\u001b[39m, \u001b[32m\"ACNE DIAB100\"\u001b[39m),\n",
       "  (\u001b[32m5\u001b[39m, \u001b[32m\"Alain\"\u001b[39m, \u001b[32m\"DIAB201\"\u001b[39m),\n",
       "  (\u001b[32m6\u001b[39m, \u001b[32m\"Alai\"\u001b[39m, \u001b[32m\"SADIAB100\"\u001b[39m)\n",
       ")\n",
       "\u001b[36mpatientDS\u001b[39m: \u001b[32mDataset\u001b[39m[\u001b[32mPatient\u001b[39m] = [patient_id: int, patient_name: string ... 1 more field]"
      ]
     },
     "execution_count": 2,
     "metadata": {},
     "output_type": "execute_result"
    }
   ],
   "source": [
    "import spark.implicits._\n",
    "\n",
    "case class Patient(patient_id: Int, patient_name: String, conditions: String)\n",
    "\n",
    "val patient: Seq[(Int, String, String)] = Seq(\n",
    "  (1, \"Daniel\", \"YFEV COUGH\"),\n",
    "  (2, \"Alice\", \"\"),\n",
    "  (3, \"Bob\", \"DIAB100 MYOP\"),\n",
    "  (4, \"George\", \"ACNE DIAB100\"),\n",
    "  (5, \"Alain\", \"DIAB201\"),\n",
    "  (6, \"Alai\", \"SADIAB100\")\n",
    ")\n",
    "\n",
    "val patientDS = patient.toDF(\"patient_id\", \"patient_name\", \"conditions\").as[Patient]"
   ]
  },
  {
   "cell_type": "markdown",
   "metadata": {},
   "source": [
    "Write a solution to find the patient_id, patient_name, and conditions of the patients who have Type I Diabetes. Type I Diabetes always starts with DIAB1 prefix.\n",
    "\n",
    "Return the result table in any order.\n",
    "\n",
    "The result format is in the following example.\n",
    "\n",
    "| patient_id | patient_name | conditions   |\n",
    "|------------|--------------|--------------|\n",
    "| 3          | Bob          | DIAB100 MYOP |\n",
    "| 4          | George       | ACNE DIAB100 | "
   ]
  },
  {
   "cell_type": "code",
   "execution_count": 3,
   "metadata": {},
   "outputs": [
    {
     "name": "stdout",
     "output_type": "stream",
     "text": [
      "+----------+------------+------------+\n",
      "|patient_id|patient_name|  conditions|\n",
      "+----------+------------+------------+\n",
      "|         3|         Bob|DIAB100 MYOP|\n",
      "|         4|      George|ACNE DIAB100|\n",
      "+----------+------------+------------+\n",
      "\n"
     ]
    }
   ],
   "source": [
    "patientDS.filter(col(\"conditions\").rlike(\"(?:^| )DIAB1\"))\n",
    "    .show()"
   ]
  },
  {
   "cell_type": "code",
   "execution_count": 4,
   "metadata": {},
   "outputs": [],
   "source": [
    "spark.stop()"
   ]
  }
 ],
 "metadata": {
  "kernelspec": {
   "display_name": "Scala (2.13.10)",
   "language": "scala",
   "name": "scala213"
  },
  "language_info": {
   "codemirror_mode": "text/x-scala",
   "file_extension": ".sc",
   "mimetype": "text/x-scala",
   "name": "scala",
   "nbconvert_exporter": "script",
   "version": "2.13.10"
  }
 },
 "nbformat": 4,
 "nbformat_minor": 2
}
