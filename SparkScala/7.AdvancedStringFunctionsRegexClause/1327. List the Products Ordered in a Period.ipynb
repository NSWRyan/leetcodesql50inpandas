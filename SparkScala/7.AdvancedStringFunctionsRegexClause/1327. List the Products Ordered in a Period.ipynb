{
 "cells": [
  {
   "cell_type": "code",
   "execution_count": 1,
   "metadata": {},
   "outputs": [
    {
     "name": "stderr",
     "output_type": "stream",
     "text": [
      "SLF4J: No SLF4J providers were found.\n",
      "SLF4J: Defaulting to no-operation (NOP) logger implementation\n",
      "SLF4J: See https://www.slf4j.org/codes.html#noProviders for further details.\n",
      "Using Spark's default log4j profile: org/apache/spark/log4j2-defaults.properties\n"
     ]
    },
    {
     "name": "stdout",
     "output_type": "stream",
     "text": [
      "Spark is ready!\n"
     ]
    },
    {
     "data": {
      "text/plain": [
       "\u001b[32mimport \u001b[39m\u001b[36m$ivy.$                                      \n",
       "\u001b[39m\n",
       "\u001b[32mimport \u001b[39m\u001b[36morg.apache.spark.sql._\n",
       "\u001b[39m\n",
       "\u001b[32mimport \u001b[39m\u001b[36morg.apache.spark.sql.functions._\n",
       "\u001b[39m\n",
       "\u001b[32mimport \u001b[39m\u001b[36morg.apache.spark.sql.expressions._\n",
       "\n",
       "\u001b[39m\n",
       "\u001b[36mspark\u001b[39m: \u001b[32mSparkSession\u001b[39m = org.apache.spark.sql.SparkSession@5b5381d6"
      ]
     },
     "execution_count": 1,
     "metadata": {},
     "output_type": "execute_result"
    }
   ],
   "source": [
    "import $ivy.`org.apache.spark:spark-sql_2.13:3.3.2`\n",
    "import org.apache.spark.sql._\n",
    "import org.apache.spark.sql.functions._\n",
    "import org.apache.spark.sql.expressions._\n",
    "\n",
    "val spark = SparkSession.builder()\n",
    "  .appName(\"SparkTest\")\n",
    "  .master(\"local[*]\")\n",
    "  .getOrCreate()\n",
    "spark.sparkContext.setLogLevel(\"ERROR\")\n",
    "  \n",
    "// http://localhost:4040/jobs/\n",
    "println(\"Spark is ready!\")"
   ]
  },
  {
   "cell_type": "code",
   "execution_count": 2,
   "metadata": {},
   "outputs": [
    {
     "data": {
      "text/plain": [
       "\u001b[32mimport \u001b[39m\u001b[36mspark.implicits._\n",
       "\n",
       "\u001b[39m\n",
       "defined \u001b[32mclass\u001b[39m \u001b[36mProduct\u001b[39m\n",
       "defined \u001b[32mclass\u001b[39m \u001b[36mOrder\u001b[39m\n",
       "\u001b[36mproduct\u001b[39m: \u001b[32mSeq\u001b[39m[(\u001b[32mInt\u001b[39m, \u001b[32mString\u001b[39m, \u001b[32mString\u001b[39m)] = \u001b[33mList\u001b[39m(\n",
       "  (\u001b[32m1\u001b[39m, \u001b[32m\"Leetcode Solutions\"\u001b[39m, \u001b[32m\"Book\"\u001b[39m),\n",
       "  (\u001b[32m2\u001b[39m, \u001b[32m\"Jewels of Stringology\"\u001b[39m, \u001b[32m\"Book\"\u001b[39m),\n",
       "  (\u001b[32m3\u001b[39m, \u001b[32m\"HP\"\u001b[39m, \u001b[32m\"Laptop\"\u001b[39m),\n",
       "  (\u001b[32m4\u001b[39m, \u001b[32m\"Lenovo\"\u001b[39m, \u001b[32m\"Laptop\"\u001b[39m),\n",
       "  (\u001b[32m5\u001b[39m, \u001b[32m\"Leetcode Kit\"\u001b[39m, \u001b[32m\"T-shirt\"\u001b[39m)\n",
       ")\n",
       "\u001b[36morder\u001b[39m: \u001b[32mSeq\u001b[39m[(\u001b[32mInt\u001b[39m, \u001b[32mString\u001b[39m, \u001b[32mInt\u001b[39m)] = \u001b[33mList\u001b[39m(\n",
       "  (\u001b[32m1\u001b[39m, \u001b[32m\"2020-02-05\"\u001b[39m, \u001b[32m60\u001b[39m),\n",
       "  (\u001b[32m1\u001b[39m, \u001b[32m\"2020-02-10\"\u001b[39m, \u001b[32m70\u001b[39m),\n",
       "  (\u001b[32m2\u001b[39m, \u001b[32m\"2020-01-18\"\u001b[39m, \u001b[32m30\u001b[39m),\n",
       "  (\u001b[32m2\u001b[39m, \u001b[32m\"2020-02-11\"\u001b[39m, \u001b[32m80\u001b[39m),\n",
       "  (\u001b[32m3\u001b[39m, \u001b[32m\"2020-02-17\"\u001b[39m, \u001b[32m2\u001b[39m),\n",
       "  (\u001b[32m3\u001b[39m, \u001b[32m\"2020-02-24\"\u001b[39m, \u001b[32m3\u001b[39m),\n",
       "  (\u001b[32m4\u001b[39m, \u001b[32m\"2020-03-01\"\u001b[39m, \u001b[32m20\u001b[39m),\n",
       "  (\u001b[32m4\u001b[39m, \u001b[32m\"2020-03-04\"\u001b[39m, \u001b[32m30\u001b[39m),\n",
       "  (\u001b[32m4\u001b[39m, \u001b[32m\"2020-03-04\"\u001b[39m, \u001b[32m60\u001b[39m),\n",
       "  (\u001b[32m5\u001b[39m, \u001b[32m\"2020-02-25\"\u001b[39m, \u001b[32m50\u001b[39m),\n",
       "  (\u001b[32m5\u001b[39m, \u001b[32m\"2020-02-27\"\u001b[39m, \u001b[32m50\u001b[39m),\n",
       "  (\u001b[32m5\u001b[39m, \u001b[32m\"2020-03-01\"\u001b[39m, \u001b[32m50\u001b[39m)\n",
       ")\n",
       "\u001b[36mproductDS\u001b[39m: \u001b[32mDataset\u001b[39m[\u001b[32mProduct\u001b[39m] = [product_id: int, product_name: string ... 1 more field]\n",
       "\u001b[36morderDS\u001b[39m: \u001b[32mDataset\u001b[39m[\u001b[32mOrder\u001b[39m] = [product_id: int, order_date: string ... 1 more field]"
      ]
     },
     "execution_count": 2,
     "metadata": {},
     "output_type": "execute_result"
    }
   ],
   "source": [
    "import spark.implicits._\n",
    "\n",
    "case class Product(product_id: Int, product_name: String, product_category: String)\n",
    "case class Order(product_id: Int, order_date: String, unit: Int)\n",
    "\n",
    "val product: Seq[(Int, String, String)] = Seq(\n",
    "  (1, \"Leetcode Solutions\", \"Book\"),\n",
    "  (2, \"Jewels of Stringology\", \"Book\"),\n",
    "  (3, \"HP\", \"Laptop\"),\n",
    "  (4, \"Lenovo\", \"Laptop\"),\n",
    "  (5, \"Leetcode Kit\", \"T-shirt\")\n",
    ")\n",
    "\n",
    "val order: Seq[(Int, String, Int)] = Seq(\n",
    "  (1, \"2020-02-05\", 60),\n",
    "  (1, \"2020-02-10\", 70),\n",
    "  (2, \"2020-01-18\", 30),\n",
    "  (2, \"2020-02-11\", 80),\n",
    "  (3, \"2020-02-17\", 2),\n",
    "  (3, \"2020-02-24\", 3),\n",
    "  (4, \"2020-03-01\", 20),\n",
    "  (4, \"2020-03-04\", 30),\n",
    "  (4, \"2020-03-04\", 60),\n",
    "  (5, \"2020-02-25\", 50),\n",
    "  (5, \"2020-02-27\", 50),\n",
    "  (5, \"2020-03-01\", 50)\n",
    ")\n",
    "\n",
    "val productDS = product.toDF(\"product_id\", \"product_name\", \"product_category\").as[Product]\n",
    "val orderDS = order.toDF(\"product_id\", \"order_date\", \"unit\").as[Order]"
   ]
  },
  {
   "cell_type": "markdown",
   "metadata": {},
   "source": [
    "Write a solution to get the names of products that have at least 100 units ordered in February 2020 and their amount.\n",
    "\n",
    "Return the result table in any order.\n",
    "\n",
    "The result format is in the following example.\n",
    "\n",
    "| product_name       | unit    |\n",
    "|--------------------|---------|\n",
    "| Leetcode Solutions | 130     |\n",
    "| Leetcode Kit       | 100     |"
   ]
  },
  {
   "cell_type": "code",
   "execution_count": 3,
   "metadata": {},
   "outputs": [
    {
     "name": "stdout",
     "output_type": "stream",
     "text": [
      "+------------------+----+\n",
      "|      product_name|unit|\n",
      "+------------------+----+\n",
      "|Leetcode Solutions| 130|\n",
      "|      Leetcode Kit| 100|\n",
      "+------------------+----+\n",
      "\n"
     ]
    }
   ],
   "source": [
    "orderDS.select(\n",
    "        col(\"product_id\"),\n",
    "        date_trunc(\"month\", col(\"order_date\")).as(\"order_month\"),\n",
    "        col(\"unit\")\n",
    "    )\n",
    "    .filter(col(\"order_month\") === to_date(lit(\"2020-02-01\")))\n",
    "    .groupBy(\"product_id\")\n",
    "    .agg(sum(col(\"unit\")).as(\"unit\"))\n",
    "    .filter(col(\"unit\") >= lit(100))\n",
    "    .join(productDS, Seq(\"product_id\"), \"left_outer\")\n",
    "    .select(col(\"product_name\"), col(\"unit\"))\n",
    "    .show()"
   ]
  },
  {
   "cell_type": "code",
   "execution_count": 4,
   "metadata": {},
   "outputs": [],
   "source": [
    "spark.stop()"
   ]
  }
 ],
 "metadata": {
  "kernelspec": {
   "display_name": "Scala (2.13.10)",
   "language": "scala",
   "name": "scala213"
  },
  "language_info": {
   "codemirror_mode": "text/x-scala",
   "file_extension": ".sc",
   "mimetype": "text/x-scala",
   "name": "scala",
   "nbconvert_exporter": "script",
   "version": "2.13.10"
  }
 },
 "nbformat": 4,
 "nbformat_minor": 2
}
