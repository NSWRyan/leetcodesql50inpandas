{
 "cells": [
  {
   "cell_type": "code",
   "execution_count": 1,
   "metadata": {},
   "outputs": [
    {
     "name": "stderr",
     "output_type": "stream",
     "text": [
      "SLF4J: No SLF4J providers were found.\n",
      "SLF4J: Defaulting to no-operation (NOP) logger implementation\n",
      "SLF4J: See https://www.slf4j.org/codes.html#noProviders for further details.\n",
      "Using Spark's default log4j profile: org/apache/spark/log4j2-defaults.properties\n"
     ]
    },
    {
     "name": "stdout",
     "output_type": "stream",
     "text": [
      "Spark is ready!\n"
     ]
    },
    {
     "data": {
      "text/plain": [
       "\u001b[32mimport \u001b[39m\u001b[36m$ivy.$                                      \n",
       "\u001b[39m\n",
       "\u001b[32mimport \u001b[39m\u001b[36morg.apache.spark.sql._\n",
       "\u001b[39m\n",
       "\u001b[32mimport \u001b[39m\u001b[36morg.apache.spark.sql.functions._\n",
       "\n",
       "\u001b[39m\n",
       "\u001b[36mspark\u001b[39m: \u001b[32mSparkSession\u001b[39m = org.apache.spark.sql.SparkSession@72111b65"
      ]
     },
     "execution_count": 1,
     "metadata": {},
     "output_type": "execute_result"
    }
   ],
   "source": [
    "import $ivy.`org.apache.spark:spark-sql_2.13:3.3.2`\n",
    "import org.apache.spark.sql._\n",
    "import org.apache.spark.sql.functions._\n",
    "\n",
    "val spark = SparkSession.builder()\n",
    "  .appName(\"SparkTest\")\n",
    "  .master(\"local[*]\")\n",
    "  .getOrCreate()\n",
    "spark.sparkContext.setLogLevel(\"ERROR\")\n",
    "  \n",
    "// http://localhost:4040/jobs/\n",
    "println(\"Spark is ready!\")"
   ]
  },
  {
   "cell_type": "code",
   "execution_count": 2,
   "metadata": {},
   "outputs": [
    {
     "data": {
      "text/plain": [
       "\u001b[32mimport \u001b[39m\u001b[36mspark.implicits._\n",
       "\n",
       "\u001b[39m\n",
       "defined \u001b[32mclass\u001b[39m \u001b[36mSale\u001b[39m\n",
       "defined \u001b[32mclass\u001b[39m \u001b[36mProduct\u001b[39m\n",
       "\u001b[36msalesData\u001b[39m: \u001b[32mSeq\u001b[39m[(\u001b[32mInt\u001b[39m, \u001b[32mInt\u001b[39m, \u001b[32mInt\u001b[39m, \u001b[32mInt\u001b[39m, \u001b[32mInt\u001b[39m)] = \u001b[33mList\u001b[39m(\n",
       "  (\u001b[32m1\u001b[39m, \u001b[32m100\u001b[39m, \u001b[32m2008\u001b[39m, \u001b[32m10\u001b[39m, \u001b[32m5000\u001b[39m),\n",
       "  (\u001b[32m2\u001b[39m, \u001b[32m100\u001b[39m, \u001b[32m2009\u001b[39m, \u001b[32m12\u001b[39m, \u001b[32m5000\u001b[39m),\n",
       "  (\u001b[32m7\u001b[39m, \u001b[32m200\u001b[39m, \u001b[32m2011\u001b[39m, \u001b[32m15\u001b[39m, \u001b[32m9000\u001b[39m)\n",
       ")\n",
       "\u001b[36mproductData\u001b[39m: \u001b[32mSeq\u001b[39m[(\u001b[32mInt\u001b[39m, \u001b[32mString\u001b[39m)] = \u001b[33mList\u001b[39m(\n",
       "  (\u001b[32m100\u001b[39m, \u001b[32m\"Nokia\"\u001b[39m),\n",
       "  (\u001b[32m200\u001b[39m, \u001b[32m\"Apple\"\u001b[39m),\n",
       "  (\u001b[32m300\u001b[39m, \u001b[32m\"Samsung\"\u001b[39m)\n",
       ")\n",
       "\u001b[36msalesDS\u001b[39m: \u001b[32mDataset\u001b[39m[\u001b[32mSale\u001b[39m] = [sale_id: int, product_id: int ... 3 more fields]\n",
       "\u001b[36mproductDS\u001b[39m: \u001b[32mDataset\u001b[39m[\u001b[32mProduct\u001b[39m] = [product_id: int, product_name: string]"
      ]
     },
     "execution_count": 2,
     "metadata": {},
     "output_type": "execute_result"
    }
   ],
   "source": [
    "import spark.implicits._\n",
    "\n",
    "case class Sale(sale_id: Int, product_id: Int, year: Int, quantity: Int, price: Int)\n",
    "case class Product(product_id: Int, product_name: String)\n",
    "\n",
    "val salesData: Seq[(Int, Int, Int, Int, Int)] = Seq(\n",
    "  (1, 100, 2008, 10, 5000),\n",
    "  (2, 100, 2009, 12, 5000),\n",
    "  (7, 200, 2011, 15, 9000)\n",
    ")\n",
    "\n",
    "val productData: Seq[(Int, String)] = Seq(\n",
    "  (100, \"Nokia\"),\n",
    "  (200, \"Apple\"),\n",
    "  (300, \"Samsung\")\n",
    ")\n",
    "\n",
    "val salesDS = salesData.toDF(\"sale_id\", \"product_id\", \"year\", \"quantity\", \"price\").as[Sale]\n",
    "val productDS = productData.toDF(\"product_id\", \"product_name\").as[Product]\n"
   ]
  },
  {
   "cell_type": "markdown",
   "metadata": {},
   "source": [
    "Write a solution to select the product id, year, quantity, and price for the first year of every product sold.\n",
    "\n",
    "Return the resulting table in any order.\n",
    "\n",
    "The result format is in the following example.\n",
    "\n",
    "| product_id | first_year | quantity | price |\n",
    "|------------|------------|----------|-------| \n",
    "| 100        | 2008       | 10       | 5000  |\n",
    "| 200        | 2011       | 15       | 9000  |"
   ]
  },
  {
   "cell_type": "code",
   "execution_count": 3,
   "metadata": {},
   "outputs": [
    {
     "name": "stdout",
     "output_type": "stream",
     "text": [
      "+-------+----------+----+--------+-----+\n",
      "|sale_id|product_id|year|quantity|price|\n",
      "+-------+----------+----+--------+-----+\n",
      "|      1|       100|2008|      10| 5000|\n",
      "|      2|       100|2009|      12| 5000|\n",
      "|      7|       200|2011|      15| 9000|\n",
      "+-------+----------+----+--------+-----+\n",
      "\n",
      "+----------+------------+\n",
      "|product_id|product_name|\n",
      "+----------+------------+\n",
      "|       100|       Nokia|\n",
      "|       200|       Apple|\n",
      "|       300|     Samsung|\n",
      "+----------+------------+\n",
      "\n",
      "+----------+----------+--------+-----+\n",
      "|product_id|first_year|quantity|price|\n",
      "+----------+----------+--------+-----+\n",
      "|       100|      2008|      10| 5000|\n",
      "|       200|      2011|      15| 9000|\n",
      "+----------+----------+--------+-----+\n",
      "\n"
     ]
    }
   ],
   "source": [
    "salesDS.show()\n",
    "productDS.show()\n",
    "\n",
    "// val firstDF = \n",
    "salesDS.groupBy(col(\"product_id\"))\n",
    "    .agg(min(col(\"year\")).as(\"year\"))\n",
    "    .as(\"a\")\n",
    "    .join(salesDS.as(\"b\"), Seq(\"product_id\", \"year\"), \"inner\")\n",
    "    .select(col(\"product_id\"), col(\"year\").as(\"first_year\"), col(\"quantity\"), col(\"price\"))\n",
    "    .show()"
   ]
  },
  {
   "cell_type": "code",
   "execution_count": 4,
   "metadata": {},
   "outputs": [],
   "source": [
    "spark.stop()"
   ]
  }
 ],
 "metadata": {
  "kernelspec": {
   "display_name": "Scala (2.13.10)",
   "language": "scala",
   "name": "scala213"
  },
  "language_info": {
   "codemirror_mode": "text/x-scala",
   "file_extension": ".sc",
   "mimetype": "text/x-scala",
   "name": "scala",
   "nbconvert_exporter": "script",
   "version": "2.13.10"
  }
 },
 "nbformat": 4,
 "nbformat_minor": 2
}
