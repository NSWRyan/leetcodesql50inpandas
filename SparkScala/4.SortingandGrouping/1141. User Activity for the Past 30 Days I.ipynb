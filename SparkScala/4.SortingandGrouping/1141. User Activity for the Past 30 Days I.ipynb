{
 "cells": [
  {
   "cell_type": "code",
   "execution_count": 1,
   "metadata": {},
   "outputs": [
    {
     "name": "stderr",
     "output_type": "stream",
     "text": [
      "SLF4J: No SLF4J providers were found.\n",
      "SLF4J: Defaulting to no-operation (NOP) logger implementation\n",
      "SLF4J: See https://www.slf4j.org/codes.html#noProviders for further details.\n",
      "Using Spark's default log4j profile: org/apache/spark/log4j2-defaults.properties\n"
     ]
    },
    {
     "name": "stdout",
     "output_type": "stream",
     "text": [
      "Spark is ready!\n"
     ]
    },
    {
     "data": {
      "text/plain": [
       "\u001b[32mimport \u001b[39m\u001b[36m$ivy.$                                      \n",
       "\u001b[39m\n",
       "\u001b[32mimport \u001b[39m\u001b[36morg.apache.spark.sql._\n",
       "\u001b[39m\n",
       "\u001b[32mimport \u001b[39m\u001b[36morg.apache.spark.sql.functions._\n",
       "\n",
       "\u001b[39m\n",
       "\u001b[36mspark\u001b[39m: \u001b[32mSparkSession\u001b[39m = org.apache.spark.sql.SparkSession@2600fd33"
      ]
     },
     "execution_count": 1,
     "metadata": {},
     "output_type": "execute_result"
    }
   ],
   "source": [
    "import $ivy.`org.apache.spark:spark-sql_2.13:3.3.2`\n",
    "import org.apache.spark.sql._\n",
    "import org.apache.spark.sql.functions._\n",
    "\n",
    "val spark = SparkSession.builder()\n",
    "  .appName(\"SparkTest\")\n",
    "  .master(\"local[*]\")\n",
    "  .getOrCreate()\n",
    "spark.sparkContext.setLogLevel(\"ERROR\")\n",
    "  \n",
    "// http://localhost:4040/jobs/\n",
    "println(\"Spark is ready!\")"
   ]
  },
  {
   "cell_type": "code",
   "execution_count": 2,
   "metadata": {},
   "outputs": [
    {
     "data": {
      "text/plain": [
       "\u001b[32mimport \u001b[39m\u001b[36mspark.implicits._\n",
       "\u001b[39m\n",
       "\u001b[32mimport \u001b[39m\u001b[36mjava.sql.Date\n",
       "\n",
       "\u001b[39m\n",
       "defined \u001b[32mclass\u001b[39m \u001b[36mActivity\u001b[39m\n",
       "\u001b[36mactivityData\u001b[39m: \u001b[32mSeq\u001b[39m[(\u001b[32mInt\u001b[39m, \u001b[32mInt\u001b[39m, \u001b[32mDate\u001b[39m, \u001b[32mString\u001b[39m)] = \u001b[33mList\u001b[39m(\n",
       "  (\u001b[32m1\u001b[39m, \u001b[32m1\u001b[39m, 2019-07-20, \u001b[32m\"open_session\"\u001b[39m),\n",
       "  (\u001b[32m1\u001b[39m, \u001b[32m1\u001b[39m, 2019-07-20, \u001b[32m\"scroll_down\"\u001b[39m),\n",
       "  (\u001b[32m1\u001b[39m, \u001b[32m1\u001b[39m, 2019-07-20, \u001b[32m\"end_session\"\u001b[39m),\n",
       "  (\u001b[32m2\u001b[39m, \u001b[32m4\u001b[39m, 2019-07-20, \u001b[32m\"open_session\"\u001b[39m),\n",
       "  (\u001b[32m2\u001b[39m, \u001b[32m4\u001b[39m, 2019-07-21, \u001b[32m\"send_message\"\u001b[39m),\n",
       "  (\u001b[32m2\u001b[39m, \u001b[32m4\u001b[39m, 2019-07-21, \u001b[32m\"end_session\"\u001b[39m),\n",
       "  (\u001b[32m3\u001b[39m, \u001b[32m2\u001b[39m, 2019-07-21, \u001b[32m\"open_session\"\u001b[39m),\n",
       "  (\u001b[32m3\u001b[39m, \u001b[32m2\u001b[39m, 2019-07-21, \u001b[32m\"send_message\"\u001b[39m),\n",
       "  (\u001b[32m3\u001b[39m, \u001b[32m2\u001b[39m, 2019-07-21, \u001b[32m\"end_session\"\u001b[39m),\n",
       "  (\u001b[32m4\u001b[39m, \u001b[32m3\u001b[39m, 2019-06-25, \u001b[32m\"open_session\"\u001b[39m),\n",
       "  (\u001b[32m4\u001b[39m, \u001b[32m3\u001b[39m, 2019-06-25, \u001b[32m\"end_session\"\u001b[39m)\n",
       ")\n",
       "\u001b[36mactivityDS\u001b[39m: \u001b[32mDataset\u001b[39m[\u001b[32mActivity\u001b[39m] = [user_id: int, session_id: int ... 2 more fields]"
      ]
     },
     "execution_count": 2,
     "metadata": {},
     "output_type": "execute_result"
    }
   ],
   "source": [
    "import spark.implicits._\n",
    "import java.sql.Date\n",
    "\n",
    "case class Activity(\n",
    "  user_id: Int,\n",
    "  session_id: Int,\n",
    "  activity_date: Date,\n",
    "  activity_type: String\n",
    ")\n",
    "\n",
    "val activityData: Seq[(Int, Int, Date, String)] = Seq(\n",
    "  (1, 1, Date.valueOf(\"2019-07-20\"), \"open_session\"),\n",
    "  (1, 1, Date.valueOf(\"2019-07-20\"), \"scroll_down\"),\n",
    "  (1, 1, Date.valueOf(\"2019-07-20\"), \"end_session\"),\n",
    "  (2, 4, Date.valueOf(\"2019-07-20\"), \"open_session\"),\n",
    "  (2, 4, Date.valueOf(\"2019-07-21\"), \"send_message\"),\n",
    "  (2, 4, Date.valueOf(\"2019-07-21\"), \"end_session\"),\n",
    "  (3, 2, Date.valueOf(\"2019-07-21\"), \"open_session\"),\n",
    "  (3, 2, Date.valueOf(\"2019-07-21\"), \"send_message\"),\n",
    "  (3, 2, Date.valueOf(\"2019-07-21\"), \"end_session\"),\n",
    "  (4, 3, Date.valueOf(\"2019-06-25\"), \"open_session\"),\n",
    "  (4, 3, Date.valueOf(\"2019-06-25\"), \"end_session\")\n",
    ")\n",
    "\n",
    "val activityDS = activityData.toDF(\n",
    "  \"user_id\",\n",
    "  \"session_id\",\n",
    "  \"activity_date\",\n",
    "  \"activity_type\"\n",
    ").as[Activity]\n"
   ]
  },
  {
   "cell_type": "markdown",
   "metadata": {},
   "source": [
    "Write a solution to find the daily active user count for a period of 30 days ending 2019-07-27 inclusively. A user was active on someday if they made at least one activity on that day.\n",
    "\n",
    "Return the result table in any order.\n",
    "\n",
    "The result format is in the following example.\n",
    "\n",
    "| day        | active_users |\n",
    "|------------|--------------| \n",
    "| 2019-07-20 | 2            |\n",
    "| 2019-07-21 | 2            |"
   ]
  },
  {
   "cell_type": "code",
   "execution_count": 3,
   "metadata": {},
   "outputs": [
    {
     "name": "stdout",
     "output_type": "stream",
     "text": [
      "+-------+----------+-------------+-------------+\n",
      "|user_id|session_id|activity_date|activity_type|\n",
      "+-------+----------+-------------+-------------+\n",
      "|      1|         1|   2019-07-20| open_session|\n",
      "|      1|         1|   2019-07-20|  scroll_down|\n",
      "|      1|         1|   2019-07-20|  end_session|\n",
      "|      2|         4|   2019-07-20| open_session|\n",
      "|      2|         4|   2019-07-21| send_message|\n",
      "|      2|         4|   2019-07-21|  end_session|\n",
      "|      3|         2|   2019-07-21| open_session|\n",
      "|      3|         2|   2019-07-21| send_message|\n",
      "|      3|         2|   2019-07-21|  end_session|\n",
      "|      4|         3|   2019-06-25| open_session|\n",
      "|      4|         3|   2019-06-25|  end_session|\n",
      "+-------+----------+-------------+-------------+\n",
      "\n",
      "+-------------+------------+\n",
      "|activity_date|active_users|\n",
      "+-------------+------------+\n",
      "|   2019-07-21|           2|\n",
      "|   2019-07-20|           2|\n",
      "+-------------+------------+\n",
      "\n"
     ]
    }
   ],
   "source": [
    "activityDS.show()\n",
    "activityDS.filter(\n",
    "        (col(\"activity_date\") > date_add(to_date(lit(\"2019-07-27\")), -29)) &&\n",
    "        (col(\"activity_date\") <= to_date(lit(\"2019-07-27\")))\n",
    "    )\n",
    "    .groupBy(col(\"activity_date\"))\n",
    "    .agg(count_distinct(col(\"user_id\")).as(\"active_users\"))\n",
    "    .show()"
   ]
  },
  {
   "cell_type": "code",
   "execution_count": 4,
   "metadata": {},
   "outputs": [],
   "source": [
    "spark.stop()"
   ]
  }
 ],
 "metadata": {
  "kernelspec": {
   "display_name": "Scala (2.13.10)",
   "language": "scala",
   "name": "scala213"
  },
  "language_info": {
   "codemirror_mode": "text/x-scala",
   "file_extension": ".sc",
   "mimetype": "text/x-scala",
   "name": "scala",
   "nbconvert_exporter": "script",
   "version": "2.13.10"
  }
 },
 "nbformat": 4,
 "nbformat_minor": 2
}
