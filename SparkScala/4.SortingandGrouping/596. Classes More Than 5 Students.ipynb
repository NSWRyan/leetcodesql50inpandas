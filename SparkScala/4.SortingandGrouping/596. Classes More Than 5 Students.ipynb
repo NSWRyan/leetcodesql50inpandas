{
 "cells": [
  {
   "cell_type": "code",
   "execution_count": 1,
   "metadata": {},
   "outputs": [
    {
     "name": "stderr",
     "output_type": "stream",
     "text": [
      "SLF4J: No SLF4J providers were found.\n",
      "SLF4J: Defaulting to no-operation (NOP) logger implementation\n",
      "SLF4J: See https://www.slf4j.org/codes.html#noProviders for further details.\n",
      "Using Spark's default log4j profile: org/apache/spark/log4j2-defaults.properties\n"
     ]
    },
    {
     "name": "stdout",
     "output_type": "stream",
     "text": [
      "Spark is ready!\n"
     ]
    },
    {
     "data": {
      "text/plain": [
       "\u001b[32mimport \u001b[39m\u001b[36m$ivy.$                                      \n",
       "\u001b[39m\n",
       "\u001b[32mimport \u001b[39m\u001b[36morg.apache.spark.sql._\n",
       "\u001b[39m\n",
       "\u001b[32mimport \u001b[39m\u001b[36morg.apache.spark.sql.functions._\n",
       "\n",
       "\u001b[39m\n",
       "\u001b[36mspark\u001b[39m: \u001b[32mSparkSession\u001b[39m = org.apache.spark.sql.SparkSession@5e55e0ce"
      ]
     },
     "execution_count": 1,
     "metadata": {},
     "output_type": "execute_result"
    }
   ],
   "source": [
    "import $ivy.`org.apache.spark:spark-sql_2.13:3.3.2`\n",
    "import org.apache.spark.sql._\n",
    "import org.apache.spark.sql.functions._\n",
    "\n",
    "val spark = SparkSession.builder()\n",
    "  .appName(\"SparkTest\")\n",
    "  .master(\"local[*]\")\n",
    "  .getOrCreate()\n",
    "spark.sparkContext.setLogLevel(\"ERROR\")\n",
    "  \n",
    "// http://localhost:4040/jobs/\n",
    "println(\"Spark is ready!\")"
   ]
  },
  {
   "cell_type": "code",
   "execution_count": 2,
   "metadata": {},
   "outputs": [
    {
     "data": {
      "text/plain": [
       "\u001b[32mimport \u001b[39m\u001b[36mspark.implicits._\n",
       "\n",
       "\u001b[39m\n",
       "defined \u001b[32mclass\u001b[39m \u001b[36mCourse\u001b[39m\n",
       "\u001b[36mcourseData\u001b[39m: \u001b[32mSeq\u001b[39m[(\u001b[32mString\u001b[39m, \u001b[32mString\u001b[39m)] = \u001b[33mList\u001b[39m(\n",
       "  (\u001b[32m\"A\"\u001b[39m, \u001b[32m\"Math\"\u001b[39m),\n",
       "  (\u001b[32m\"B\"\u001b[39m, \u001b[32m\"English\"\u001b[39m),\n",
       "  (\u001b[32m\"C\"\u001b[39m, \u001b[32m\"Math\"\u001b[39m),\n",
       "  (\u001b[32m\"D\"\u001b[39m, \u001b[32m\"Biology\"\u001b[39m),\n",
       "  (\u001b[32m\"E\"\u001b[39m, \u001b[32m\"Math\"\u001b[39m),\n",
       "  (\u001b[32m\"F\"\u001b[39m, \u001b[32m\"Computer\"\u001b[39m),\n",
       "  (\u001b[32m\"G\"\u001b[39m, \u001b[32m\"Math\"\u001b[39m),\n",
       "  (\u001b[32m\"H\"\u001b[39m, \u001b[32m\"Math\"\u001b[39m),\n",
       "  (\u001b[32m\"I\"\u001b[39m, \u001b[32m\"Math\"\u001b[39m)\n",
       ")\n",
       "\u001b[36mcoursesDS\u001b[39m: \u001b[32mDataset\u001b[39m[\u001b[32mCourse\u001b[39m] = [student: string, class_name: string]"
      ]
     },
     "execution_count": 2,
     "metadata": {},
     "output_type": "execute_result"
    }
   ],
   "source": [
    "import spark.implicits._\n",
    "\n",
    "case class Course(student: String, class_name: String)\n",
    "\n",
    "val courseData: Seq[(String, String)] = Seq(\n",
    "  (\"A\", \"Math\"),\n",
    "  (\"B\", \"English\"),\n",
    "  (\"C\", \"Math\"),\n",
    "  (\"D\", \"Biology\"),\n",
    "  (\"E\", \"Math\"),\n",
    "  (\"F\", \"Computer\"),\n",
    "  (\"G\", \"Math\"),\n",
    "  (\"H\", \"Math\"),\n",
    "  (\"I\", \"Math\")\n",
    ")\n",
    "\n",
    "val coursesDS = courseData.toDF(\"student\", \"class_name\").as[Course]\n"
   ]
  },
  {
   "cell_type": "code",
   "execution_count": 3,
   "metadata": {},
   "outputs": [
    {
     "name": "stdout",
     "output_type": "stream",
     "text": [
      "+-------+----------+\n",
      "|student|class_name|\n",
      "+-------+----------+\n",
      "|      A|      Math|\n",
      "|      B|   English|\n",
      "|      C|      Math|\n",
      "|      D|   Biology|\n",
      "|      E|      Math|\n",
      "|      F|  Computer|\n",
      "|      G|      Math|\n",
      "|      H|      Math|\n",
      "|      I|      Math|\n",
      "+-------+----------+\n",
      "\n"
     ]
    }
   ],
   "source": [
    "coursesDS.show()"
   ]
  },
  {
   "cell_type": "markdown",
   "metadata": {},
   "source": [
    "Write a solution to find all the classes that have at least five students.\n",
    "\n",
    "Return the result table in any order.\n",
    "\n",
    "The result format is in the following example.\n",
    "\n",
    "| class   |\n",
    "|---------|\n",
    "| Math    |"
   ]
  },
  {
   "cell_type": "code",
   "execution_count": 4,
   "metadata": {},
   "outputs": [
    {
     "name": "stdout",
     "output_type": "stream",
     "text": [
      "+-----+\n",
      "|class|\n",
      "+-----+\n",
      "| Math|\n",
      "+-----+\n",
      "\n"
     ]
    }
   ],
   "source": [
    "coursesDS.groupBy(col(\"class_name\"))\n",
    "    .agg(count(lit(1)).as(\"cnt\"))\n",
    "    .filter(col(\"cnt\") >= 5)\n",
    "    .select(col(\"class_name\").as(\"class\"))\n",
    "    .show()"
   ]
  },
  {
   "cell_type": "code",
   "execution_count": 5,
   "metadata": {},
   "outputs": [],
   "source": [
    "spark.stop()"
   ]
  }
 ],
 "metadata": {
  "kernelspec": {
   "display_name": "Scala (2.13.10)",
   "language": "scala",
   "name": "scala213"
  },
  "language_info": {
   "codemirror_mode": "text/x-scala",
   "file_extension": ".sc",
   "mimetype": "text/x-scala",
   "name": "scala",
   "nbconvert_exporter": "script",
   "version": "2.13.10"
  }
 },
 "nbformat": 4,
 "nbformat_minor": 2
}
