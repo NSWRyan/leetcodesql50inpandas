{
 "cells": [
  {
   "cell_type": "code",
   "execution_count": 1,
   "metadata": {},
   "outputs": [
    {
     "name": "stderr",
     "output_type": "stream",
     "text": [
      "SLF4J: No SLF4J providers were found.\n",
      "SLF4J: Defaulting to no-operation (NOP) logger implementation\n",
      "SLF4J: See https://www.slf4j.org/codes.html#noProviders for further details.\n",
      "Using Spark's default log4j profile: org/apache/spark/log4j2-defaults.properties\n"
     ]
    },
    {
     "name": "stdout",
     "output_type": "stream",
     "text": [
      "Spark is ready!\n"
     ]
    },
    {
     "data": {
      "text/plain": [
       "\u001b[32mimport \u001b[39m\u001b[36m$ivy.$                                      \n",
       "\u001b[39m\n",
       "\u001b[32mimport \u001b[39m\u001b[36morg.apache.spark.sql._\n",
       "\u001b[39m\n",
       "\u001b[32mimport \u001b[39m\u001b[36morg.apache.spark.sql.functions._\n",
       "\n",
       "\u001b[39m\n",
       "\u001b[36mspark\u001b[39m: \u001b[32mSparkSession\u001b[39m = org.apache.spark.sql.SparkSession@2fb564c4"
      ]
     },
     "execution_count": 1,
     "metadata": {},
     "output_type": "execute_result"
    }
   ],
   "source": [
    "import $ivy.`org.apache.spark:spark-sql_2.13:3.3.2`\n",
    "import org.apache.spark.sql._\n",
    "import org.apache.spark.sql.functions._\n",
    "\n",
    "val spark = SparkSession.builder()\n",
    "  .appName(\"SparkTest\")\n",
    "  .master(\"local[*]\")\n",
    "  .getOrCreate()\n",
    "spark.sparkContext.setLogLevel(\"ERROR\")\n",
    "  \n",
    "// http://localhost:4040/jobs/\n",
    "println(\"Spark is ready!\")"
   ]
  },
  {
   "cell_type": "code",
   "execution_count": 2,
   "metadata": {},
   "outputs": [
    {
     "name": "stdout",
     "output_type": "stream",
     "text": [
      "+----------+------------+\n",
      "|student_id|subject_name|\n",
      "+----------+------------+\n",
      "|         1|        Math|\n",
      "|         1|     Physics|\n",
      "|         1| Programming|\n",
      "|         2| Programming|\n",
      "|         1|     Physics|\n",
      "|         1|        Math|\n",
      "|        13|        Math|\n",
      "|        13| Programming|\n",
      "|        13|     Physics|\n",
      "|         2|        Math|\n",
      "|         1|        Math|\n",
      "+----------+------------+\n",
      "\n",
      "+----------+------------+\n",
      "|student_id|student_name|\n",
      "+----------+------------+\n",
      "|         1|       Alice|\n",
      "|         2|         Bob|\n",
      "|        13|        John|\n",
      "|         6|        Alex|\n",
      "+----------+------------+\n",
      "\n",
      "+------------+\n",
      "|subject_name|\n",
      "+------------+\n",
      "|        Math|\n",
      "|     Physics|\n",
      "| Programming|\n",
      "+------------+\n",
      "\n"
     ]
    },
    {
     "data": {
      "text/plain": [
       "\u001b[32mimport \u001b[39m\u001b[36mspark.implicits._\n",
       "\u001b[39m\n",
       "defined \u001b[32mclass\u001b[39m \u001b[36mStudent\u001b[39m\n",
       "defined \u001b[32mclass\u001b[39m \u001b[36mSubject\u001b[39m\n",
       "defined \u001b[32mclass\u001b[39m \u001b[36mExamination\u001b[39m\n",
       "\u001b[36mstudentsData\u001b[39m: \u001b[32mSeq\u001b[39m[(\u001b[32mInt\u001b[39m, \u001b[32mString\u001b[39m)] = \u001b[33mList\u001b[39m(\n",
       "  (\u001b[32m1\u001b[39m, \u001b[32m\"Alice\"\u001b[39m),\n",
       "  (\u001b[32m2\u001b[39m, \u001b[32m\"Bob\"\u001b[39m),\n",
       "  (\u001b[32m13\u001b[39m, \u001b[32m\"John\"\u001b[39m),\n",
       "  (\u001b[32m6\u001b[39m, \u001b[32m\"Alex\"\u001b[39m)\n",
       ")\n",
       "\u001b[36msubjectsData\u001b[39m: \u001b[32mSeq\u001b[39m[\u001b[32mString\u001b[39m] = \u001b[33mList\u001b[39m(\u001b[32m\"Math\"\u001b[39m, \u001b[32m\"Physics\"\u001b[39m, \u001b[32m\"Programming\"\u001b[39m)\n",
       "\u001b[36mexaminationsData\u001b[39m: \u001b[32mSeq\u001b[39m[(\u001b[32mInt\u001b[39m, \u001b[32mString\u001b[39m)] = \u001b[33mList\u001b[39m(\n",
       "  (\u001b[32m1\u001b[39m, \u001b[32m\"Math\"\u001b[39m),\n",
       "  (\u001b[32m1\u001b[39m, \u001b[32m\"Physics\"\u001b[39m),\n",
       "  (\u001b[32m1\u001b[39m, \u001b[32m\"Programming\"\u001b[39m),\n",
       "  (\u001b[32m2\u001b[39m, \u001b[32m\"Programming\"\u001b[39m),\n",
       "  (\u001b[32m1\u001b[39m, \u001b[32m\"Physics\"\u001b[39m),\n",
       "  (\u001b[32m1\u001b[39m, \u001b[32m\"Math\"\u001b[39m),\n",
       "  (\u001b[32m13\u001b[39m, \u001b[32m\"Math\"\u001b[39m),\n",
       "  (\u001b[32m13\u001b[39m, \u001b[32m\"Programming\"\u001b[39m),\n",
       "  (\u001b[32m13\u001b[39m, \u001b[32m\"Physics\"\u001b[39m),\n",
       "  (\u001b[32m2\u001b[39m, \u001b[32m\"Math\"\u001b[39m),\n",
       "  (\u001b[32m1\u001b[39m, \u001b[32m\"Math\"\u001b[39m)\n",
       ")\n",
       "\u001b[36mexaminations\u001b[39m: \u001b[32mDataset\u001b[39m[\u001b[32mExamination\u001b[39m] = [student_id: int, subject_name: string]\n",
       "\u001b[36mstudents\u001b[39m: \u001b[32mDataset\u001b[39m[\u001b[32mStudent\u001b[39m] = [student_id: int, student_name: string]\n",
       "\u001b[36msubjects\u001b[39m: \u001b[32mDataset\u001b[39m[\u001b[32mSubject\u001b[39m] = [subject_name: string]"
      ]
     },
     "execution_count": 2,
     "metadata": {},
     "output_type": "execute_result"
    }
   ],
   "source": [
    "import spark.implicits._\n",
    "case class Student(student_id: Int, student_name: String)\n",
    "case class Subject(subject_name: String)\n",
    "case class Examination(student_id: Int, subject_name: String)\n",
    "\n",
    "val studentsData = Seq(\n",
    "  (1, \"Alice\"), (2, \"Bob\"), (13, \"John\"), (6, \"Alex\")\n",
    ")\n",
    "\n",
    "val subjectsData = Seq(\n",
    "  (\"Math\"), (\"Physics\"), (\"Programming\")\n",
    ")\n",
    "\n",
    "val examinationsData = Seq(\n",
    "  (1, \"Math\"), (1, \"Physics\"), (1, \"Programming\"), (2, \"Programming\"),\n",
    "  (1, \"Physics\"), (1, \"Math\"), (13, \"Math\"), (13, \"Programming\"),\n",
    "  (13, \"Physics\"), (2, \"Math\"), (1, \"Math\")\n",
    ")\n",
    "\n",
    "val examinations = examinationsData.toDF(\"student_id\", \"subject_name\").as[Examination]\n",
    "val students = studentsData.toDF(\"student_id\", \"student_name\").as[Student]\n",
    "val subjects = subjectsData.toDF(\"subject_name\").as[Subject]\n",
    "\n",
    "examinations.show()\n",
    "students.show()\n",
    "subjects.show()\n"
   ]
  },
  {
   "cell_type": "markdown",
   "metadata": {},
   "source": [
    "Write a solution to find the number of times each student attended each exam.\n",
    "\n",
    "Return the result table ordered by student_id and subject_name.\n",
    "\n",
    "The result format is in the following example.\n",
    "\n",
    "| student_id | student_name | subject_name | attended_exams |\n",
    "|------------|--------------|--------------|----------------|\n",
    "| 1          | Alice        | Math         | 3              |\n",
    "| 1          | Alice        | Physics      | 2              |\n",
    "| 1          | Alice        | Programming  | 1              |\n",
    "| 2          | Bob          | Math         | 1              |\n",
    "| 2          | Bob          | Physics      | 0              |\n",
    "| 2          | Bob          | Programming  | 1              |\n",
    "| 6          | Alex         | Math         | 0              |\n",
    "| 6          | Alex         | Physics      | 0              |\n",
    "| 6          | Alex         | Programming  | 0              |\n",
    "| 13         | John         | Math         | 1              |\n",
    "| 13         | John         | Physics      | 1              |\n",
    "| 13         | John         | Programming  | 1              |"
   ]
  },
  {
   "cell_type": "code",
   "execution_count": 3,
   "metadata": {},
   "outputs": [
    {
     "name": "stdout",
     "output_type": "stream",
     "text": [
      "+----------+------------+------------+--------------+\n",
      "|student_id|student_name|subject_name|attended_exams|\n",
      "+----------+------------+------------+--------------+\n",
      "|         1|       Alice|     Physics|             2|\n",
      "|         1|       Alice|        Math|             3|\n",
      "|         1|       Alice| Programming|             1|\n",
      "|         2|         Bob|     Physics|             0|\n",
      "|         2|         Bob|        Math|             1|\n",
      "|         2|         Bob| Programming|             1|\n",
      "|         6|        Alex|        Math|             0|\n",
      "|         6|        Alex| Programming|             0|\n",
      "|         6|        Alex|     Physics|             0|\n",
      "|        13|        John|        Math|             1|\n",
      "|        13|        John|     Physics|             1|\n",
      "|        13|        John| Programming|             1|\n",
      "+----------+------------+------------+--------------+\n",
      "\n"
     ]
    },
    {
     "data": {
      "text/plain": [
       "\u001b[36mcountDF\u001b[39m: \u001b[32mDataFrame\u001b[39m = [student_id: int, subject_name: string ... 1 more field]\n",
       "\u001b[36mstudentsSubjects\u001b[39m: \u001b[32mDataFrame\u001b[39m = [student_id: int, student_name: string ... 1 more field]"
      ]
     },
     "execution_count": 3,
     "metadata": {},
     "output_type": "execute_result"
    }
   ],
   "source": [
    "val countDF = examinations.groupBy(\"student_id\", \"subject_name\")\n",
    "    .agg(count(\"subject_name\").as(\"attended_exams\"))\n",
    "val studentsSubjects = students.join(subjects)\n",
    "    .select(students(\"student_id\"), students(\"student_name\"), subjects(\"subject_name\"))\n",
    "studentsSubjects.join(\n",
    "        countDF, \n",
    "        (studentsSubjects(\"student_id\") === countDF(\"student_id\")) &&\n",
    "        (studentsSubjects(\"subject_name\") === countDF(\"subject_name\")), \n",
    "        \"left_outer\"\n",
    "    )\n",
    "    .select(studentsSubjects(\"student_id\"), studentsSubjects(\"student_name\"), studentsSubjects(\"subject_name\"), coalesce(countDF(\"attended_exams\"), lit(0)).as(\"attended_exams\"))\n",
    "    .sort(studentsSubjects(\"student_id\"), studentsSubjects(\"student_name\"))\n",
    "    .show()"
   ]
  },
  {
   "cell_type": "code",
   "execution_count": 4,
   "metadata": {},
   "outputs": [],
   "source": [
    "spark.stop()"
   ]
  }
 ],
 "metadata": {
  "kernelspec": {
   "display_name": "Scala (2.13.10)",
   "language": "scala",
   "name": "scala213"
  },
  "language_info": {
   "codemirror_mode": "text/x-scala",
   "file_extension": ".sc",
   "mimetype": "text/x-scala",
   "name": "scala",
   "nbconvert_exporter": "script",
   "version": "2.13.10"
  }
 },
 "nbformat": 4,
 "nbformat_minor": 2
}
