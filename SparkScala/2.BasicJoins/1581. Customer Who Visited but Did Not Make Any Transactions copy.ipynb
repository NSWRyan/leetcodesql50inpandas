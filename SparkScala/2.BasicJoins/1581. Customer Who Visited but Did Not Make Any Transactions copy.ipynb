{
    "cells": [
        {
            "cell_type": "code",
            "execution_count": 1,
            "metadata": {},
            "outputs": [
                {
                    "name": "stderr",
                    "output_type": "stream",
                    "text": [
                        "SLF4J: No SLF4J providers were found.\n",
                        "SLF4J: Defaulting to no-operation (NOP) logger implementation\n",
                        "SLF4J: See https://www.slf4j.org/codes.html#noProviders for further details.\n",
                        "Using Spark's default log4j profile: org/apache/spark/log4j2-defaults.properties\n"
                    ]
                },
                {
                    "name": "stdout",
                    "output_type": "stream",
                    "text": [
                        "Spark is ready!\n"
                    ]
                },
                {
                    "data": {
                        "text/plain": [
                            "\u001b[32mimport \u001b[39m\u001b[36m$ivy.$                                      \n",
                            "\u001b[39m\n",
                            "\u001b[32mimport \u001b[39m\u001b[36morg.apache.spark.sql._\n",
                            "\u001b[39m\n",
                            "\u001b[32mimport \u001b[39m\u001b[36morg.apache.spark.sql.functions._\n",
                            "\n",
                            "\u001b[39m\n",
                            "\u001b[36mspark\u001b[39m: \u001b[32mSparkSession\u001b[39m = org.apache.spark.sql.SparkSession@47e24cff"
                        ]
                    },
                    "execution_count": 1,
                    "metadata": {},
                    "output_type": "execute_result"
                }
            ],
            "source": [
                "import $ivy.`org.apache.spark:spark-sql_2.13:3.3.2`\n",
                "import org.apache.spark.sql._\n",
                "import org.apache.spark.sql.functions._\n",
                "\n",
                "val spark = SparkSession.builder()\n",
                "  .appName(\"SparkTest\")\n",
                "  .master(\"local[*]\")\n",
                "  .getOrCreate()\n",
                "spark.sparkContext.setLogLevel(\"ERROR\")\n",
                "  \n",
                "// http://localhost:4040/jobs/\n",
                "println(\"Spark is ready!\")"
            ]
        },
        {
            "cell_type": "code",
            "execution_count": 2,
            "metadata": {},
            "outputs": [
                {
                    "name": "stdout",
                    "output_type": "stream",
                    "text": [
                        "+--------+-----------+\n",
                        "|visit_id|customer_id|\n",
                        "+--------+-----------+\n",
                        "|       1|         23|\n",
                        "|       2|          9|\n",
                        "|       4|         30|\n",
                        "|       5|         54|\n",
                        "|       6|         96|\n",
                        "|       7|         54|\n",
                        "|       8|         54|\n",
                        "+--------+-----------+\n",
                        "\n",
                        "+--------------+--------+------+\n",
                        "|transaction_id|visit_id|amount|\n",
                        "+--------------+--------+------+\n",
                        "|             2|       5|   310|\n",
                        "|             3|       5|   300|\n",
                        "|             9|       5|   200|\n",
                        "|            12|       1|   910|\n",
                        "|            13|       2|   970|\n",
                        "+--------------+--------+------+\n",
                        "\n"
                    ]
                },
                {
                    "data": {
                        "text/plain": [
                            "\u001b[32mimport \u001b[39m\u001b[36mspark.implicits._\n",
                            "\u001b[39m\n",
                            "defined \u001b[32mclass\u001b[39m \u001b[36mVisits\u001b[39m\n",
                            "defined \u001b[32mclass\u001b[39m \u001b[36mTransactions\u001b[39m\n",
                            "\u001b[36mdata\u001b[39m: \u001b[32mSeq\u001b[39m[(\u001b[32mInt\u001b[39m, \u001b[32mInt\u001b[39m)] = \u001b[33mList\u001b[39m(\n",
                            "  (\u001b[32m1\u001b[39m, \u001b[32m23\u001b[39m),\n",
                            "  (\u001b[32m2\u001b[39m, \u001b[32m9\u001b[39m),\n",
                            "  (\u001b[32m4\u001b[39m, \u001b[32m30\u001b[39m),\n",
                            "  (\u001b[32m5\u001b[39m, \u001b[32m54\u001b[39m),\n",
                            "  (\u001b[32m6\u001b[39m, \u001b[32m96\u001b[39m),\n",
                            "  (\u001b[32m7\u001b[39m, \u001b[32m54\u001b[39m),\n",
                            "  (\u001b[32m8\u001b[39m, \u001b[32m54\u001b[39m)\n",
                            ")\n",
                            "\u001b[36mvisits\u001b[39m: \u001b[32mDataset\u001b[39m[\u001b[32mVisits\u001b[39m] = [visit_id: int, customer_id: int]\n",
                            "\u001b[36mdata2\u001b[39m: \u001b[32mSeq\u001b[39m[(\u001b[32mInt\u001b[39m, \u001b[32mInt\u001b[39m, \u001b[32mInt\u001b[39m)] = \u001b[33mList\u001b[39m(\n",
                            "  (\u001b[32m2\u001b[39m, \u001b[32m5\u001b[39m, \u001b[32m310\u001b[39m),\n",
                            "  (\u001b[32m3\u001b[39m, \u001b[32m5\u001b[39m, \u001b[32m300\u001b[39m),\n",
                            "  (\u001b[32m9\u001b[39m, \u001b[32m5\u001b[39m, \u001b[32m200\u001b[39m),\n",
                            "  (\u001b[32m12\u001b[39m, \u001b[32m1\u001b[39m, \u001b[32m910\u001b[39m),\n",
                            "  (\u001b[32m13\u001b[39m, \u001b[32m2\u001b[39m, \u001b[32m970\u001b[39m)\n",
                            ")\n",
                            "\u001b[36mtransactions\u001b[39m: \u001b[32mDataset\u001b[39m[\u001b[32mTransactions\u001b[39m] = [transaction_id: int, visit_id: int ... 1 more field]"
                        ]
                    },
                    "execution_count": 2,
                    "metadata": {},
                    "output_type": "execute_result"
                }
            ],
            "source": [
                "import spark.implicits._\n",
                "case class Visits(visit_id: Int, customer_id: Int)\n",
                "case class Transactions(transaction_id: Int, visit_id: Int, amount: Int)\n",
                "\n",
                "val data = Seq[(Int, Int)]((1, 23), (2, 9), (4, 30), (5, 54), (6, 96), (7, 54), (8, 54))\n",
                "val visits = data.toDF(\"visit_id\", \"customer_id\")\n",
                "    .as[Visits]\n",
                "visits.show()\n",
                "\n",
                "val data2 = Seq[(Int, Int, Int)]((2, 5, 310), (3, 5, 300), (9, 5, 200), (12, 1, 910), (13, 2, 970))\n",
                "val transactions = data2.toDF(\"transaction_id\", \"visit_id\", \"amount\")\n",
                "    .as[Transactions]\n",
                "transactions.show()"
            ]
        },
        {
            "cell_type": "markdown",
            "metadata": {},
            "source": [
                "Write a solution to find the IDs of the users who visited without making any transactions and the number of times they made these types of visits.\n",
                "\n",
                "Return the result table sorted in any order.\n",
                "\n",
                "The result format is in the following example.\n",
                "\n",
                "| customer_id | count_no_trans |\n",
                "|-------------|----------------|\n",
                "| 54          | 2              |\n",
                "| 30          | 1              |\n",
                "| 96          | 1              |"
            ]
        },
        {
            "cell_type": "code",
            "execution_count": 3,
            "metadata": {},
            "outputs": [
                {
                    "name": "stdout",
                    "output_type": "stream",
                    "text": [
                        "+-----------+--------------+\n",
                        "|customer_id|count_no_trans|\n",
                        "+-----------+--------------+\n",
                        "|         30|             1|\n",
                        "|         96|             1|\n",
                        "|         54|             2|\n",
                        "+-----------+--------------+\n",
                        "\n"
                    ]
                },
                {
                    "data": {
                        "text/plain": [
                            "\u001b[36mvisitWithPurchase\u001b[39m: \u001b[32mDataFrame\u001b[39m = [visit_id: int, transaction_id: bigint]"
                        ]
                    },
                    "execution_count": 3,
                    "metadata": {},
                    "output_type": "execute_result"
                }
            ],
            "source": [
                "val visitWithPurchase = transactions.groupBy(transactions(\"visit_id\"))\n",
                "    .agg(sum(transactions(\"transaction_id\")).as(\"transaction_id\"))\n",
                "\n",
                "visits.join(transactions, Seq(\"visit_id\"), \"left_outer\")\n",
                "    .filter((transactions(\"transaction_id\").isNull))\n",
                "    .select(visits(\"customer_id\"))\n",
                "    .groupBy(visits(\"customer_id\"))\n",
                "    .agg(count(visits(\"customer_id\")).as(\"count_no_trans\"))\n",
                "    .show()\n"
            ]
        },
        {
            "cell_type": "code",
            "execution_count": 4,
            "metadata": {},
            "outputs": [],
            "source": [
                "spark.stop()"
            ]
        }
    ],
    "metadata": {
        "kernelspec": {
            "display_name": "Scala (2.13.10)",
            "language": "scala",
            "name": "scala213"
        },
        "language_info": {
            "codemirror_mode": "text/x-scala",
            "file_extension": ".sc",
            "mimetype": "text/x-scala",
            "name": "scala",
            "nbconvert_exporter": "script",
            "version": "2.13.10"
        }
    },
    "nbformat": 4,
    "nbformat_minor": 2
}
