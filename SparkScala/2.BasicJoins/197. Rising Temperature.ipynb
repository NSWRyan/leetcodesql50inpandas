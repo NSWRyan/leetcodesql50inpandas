{
    "cells": [
        {
            "cell_type": "code",
            "execution_count": 1,
            "metadata": {},
            "outputs": [
                {
                    "name": "stderr",
                    "output_type": "stream",
                    "text": [
                        "SLF4J: No SLF4J providers were found.\n",
                        "SLF4J: Defaulting to no-operation (NOP) logger implementation\n",
                        "SLF4J: See https://www.slf4j.org/codes.html#noProviders for further details.\n",
                        "Using Spark's default log4j profile: org/apache/spark/log4j2-defaults.properties\n"
                    ]
                },
                {
                    "name": "stdout",
                    "output_type": "stream",
                    "text": [
                        "Spark is ready!\n"
                    ]
                },
                {
                    "data": {
                        "text/plain": [
                            "\u001b[32mimport \u001b[39m\u001b[36m$ivy.$                                      \n",
                            "\u001b[39m\n",
                            "\u001b[32mimport \u001b[39m\u001b[36morg.apache.spark.sql._\n",
                            "\u001b[39m\n",
                            "\u001b[32mimport \u001b[39m\u001b[36morg.apache.spark.sql.functions._\n",
                            "\n",
                            "\u001b[39m\n",
                            "\u001b[36mspark\u001b[39m: \u001b[32mSparkSession\u001b[39m = org.apache.spark.sql.SparkSession@14078001"
                        ]
                    },
                    "execution_count": 1,
                    "metadata": {},
                    "output_type": "execute_result"
                }
            ],
            "source": [
                "import $ivy.`org.apache.spark:spark-sql_2.13:3.3.2`\n",
                "import org.apache.spark.sql._\n",
                "import org.apache.spark.sql.functions._\n",
                "\n",
                "val spark = SparkSession.builder()\n",
                "  .appName(\"SparkTest\")\n",
                "  .master(\"local[*]\")\n",
                "  .getOrCreate()\n",
                "spark.sparkContext.setLogLevel(\"ERROR\")\n",
                "  \n",
                "// http://localhost:4040/jobs/\n",
                "println(\"Spark is ready!\")"
            ]
        },
        {
            "cell_type": "code",
            "execution_count": 2,
            "metadata": {},
            "outputs": [
                {
                    "name": "stdout",
                    "output_type": "stream",
                    "text": [
                        "+---+----------+-----------+\n",
                        "| id|recordDate|temperature|\n",
                        "+---+----------+-----------+\n",
                        "|  1|2015-01-01|         10|\n",
                        "|  2|2015-01-02|         25|\n",
                        "|  3|2015-01-03|         20|\n",
                        "|  4|2015-01-04|         30|\n",
                        "+---+----------+-----------+\n",
                        "\n"
                    ]
                },
                {
                    "data": {
                        "text/plain": [
                            "\u001b[32mimport \u001b[39m\u001b[36mspark.implicits._\n",
                            "\u001b[39m\n",
                            "\u001b[36mdata\u001b[39m: \u001b[32mSeq\u001b[39m[(\u001b[32mInt\u001b[39m, \u001b[32mString\u001b[39m, \u001b[32mInt\u001b[39m)] = \u001b[33mList\u001b[39m(\n",
                            "  (\u001b[32m1\u001b[39m, \u001b[32m\"2015-01-01\"\u001b[39m, \u001b[32m10\u001b[39m),\n",
                            "  (\u001b[32m2\u001b[39m, \u001b[32m\"2015-01-02\"\u001b[39m, \u001b[32m25\u001b[39m),\n",
                            "  (\u001b[32m3\u001b[39m, \u001b[32m\"2015-01-03\"\u001b[39m, \u001b[32m20\u001b[39m),\n",
                            "  (\u001b[32m4\u001b[39m, \u001b[32m\"2015-01-04\"\u001b[39m, \u001b[32m30\u001b[39m)\n",
                            ")\n",
                            "defined \u001b[32mclass\u001b[39m \u001b[36mWeather\u001b[39m\n",
                            "\u001b[36mweather\u001b[39m: \u001b[32mDataset\u001b[39m[\u001b[32mWeather\u001b[39m] = [id: int, recordDate: date ... 1 more field]"
                        ]
                    },
                    "execution_count": 2,
                    "metadata": {},
                    "output_type": "execute_result"
                }
            ],
            "source": [
                "import spark.implicits._\n",
                "val data = Seq((1, \"2015-01-01\", 10), (2, \"2015-01-02\", 25), (3, \"2015-01-03\", 20), (4, \"2015-01-04\", 30))\n",
                "case class Weather(id: Int, recordDate: java.sql.Date, temperature: Int)\n",
                "\n",
                "val weather = data.toDF(\"id\", \"recordDate\", \"temperature\")\n",
                "    .withColumn(\"recordDate\", to_date(col(\"recordDate\")))\n",
                "    .as[Weather]\n",
                "weather.show()"
            ]
        },
        {
            "cell_type": "markdown",
            "metadata": {},
            "source": [
                "Write a solution to find all dates' id with higher temperatures compared to its previous dates (yesterday).\n",
                "\n",
                "Return the result table in any order.\n",
                "\n",
                "The result format is in the following example.\n",
                "\n",
                "| id |\n",
                "|----|\n",
                "| 2  |\n",
                "| 4  |"
            ]
        },
        {
            "cell_type": "code",
            "execution_count": 3,
            "metadata": {},
            "outputs": [
                {
                    "name": "stdout",
                    "output_type": "stream",
                    "text": [
                        "+---+\n",
                        "| id|\n",
                        "+---+\n",
                        "|  2|\n",
                        "|  4|\n",
                        "+---+\n",
                        "\n"
                    ]
                }
            ],
            "source": [
                "weather.as(\"a\").join(weather.as(\"b\"), col(\"a.recordDate\") === date_sub(col(\"b.recordDate\"), -1), \"inner\")\n",
                "    .filter(col(\"a.temperature\") > col(\"b.temperature\"))\n",
                "    .select(\"a.id\")\n",
                "    .show"
            ]
        },
        {
            "cell_type": "code",
            "execution_count": 4,
            "metadata": {},
            "outputs": [],
            "source": [
                "spark.stop()"
            ]
        }
    ],
    "metadata": {
        "kernelspec": {
            "display_name": "Scala (2.13.10)",
            "language": "scala",
            "name": "scala213"
        },
        "language_info": {
            "codemirror_mode": "text/x-scala",
            "file_extension": ".sc",
            "mimetype": "text/x-scala",
            "name": "scala",
            "nbconvert_exporter": "script",
            "version": "2.13.10"
        }
    },
    "nbformat": 4,
    "nbformat_minor": 2
}