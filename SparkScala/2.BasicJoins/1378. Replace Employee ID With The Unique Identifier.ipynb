{
    "cells": [
        {
            "cell_type": "code",
            "execution_count": 1,
            "metadata": {},
            "outputs": [
                {
                    "name": "stderr",
                    "output_type": "stream",
                    "text": [
                        "SLF4J: No SLF4J providers were found.\n",
                        "SLF4J: Defaulting to no-operation (NOP) logger implementation\n",
                        "SLF4J: See https://www.slf4j.org/codes.html#noProviders for further details.\n",
                        "Using Spark's default log4j profile: org/apache/spark/log4j2-defaults.properties\n"
                    ]
                },
                {
                    "name": "stdout",
                    "output_type": "stream",
                    "text": [
                        "Spark is ready!\n"
                    ]
                },
                {
                    "data": {
                        "text/plain": [
                            "\u001b[32mimport \u001b[39m\u001b[36m$ivy.$                                      \n",
                            "\u001b[39m\n",
                            "\u001b[32mimport \u001b[39m\u001b[36morg.apache.spark.sql._\n",
                            "\u001b[39m\n",
                            "\u001b[32mimport \u001b[39m\u001b[36morg.apache.spark.sql.functions._\n",
                            "\n",
                            "\u001b[39m\n",
                            "\u001b[36mspark\u001b[39m: \u001b[32mSparkSession\u001b[39m = org.apache.spark.sql.SparkSession@7a501eef"
                        ]
                    },
                    "execution_count": 1,
                    "metadata": {},
                    "output_type": "execute_result"
                }
            ],
            "source": [
                "import $ivy.`org.apache.spark:spark-sql_2.13:3.3.2`\n",
                "import org.apache.spark.sql._\n",
                "import org.apache.spark.sql.functions._\n",
                "\n",
                "val spark = SparkSession.builder()\n",
                "  .appName(\"SparkTest\")\n",
                "  .master(\"local[*]\")\n",
                "  .getOrCreate()\n",
                "spark.sparkContext.setLogLevel(\"ERROR\")\n",
                "  \n",
                "// http://localhost:4040/jobs/\n",
                "println(\"Spark is ready!\")"
            ]
        },
        {
            "cell_type": "code",
            "execution_count": 2,
            "metadata": {},
            "outputs": [
                {
                    "name": "stdout",
                    "output_type": "stream",
                    "text": [
                        "+---+--------+\n",
                        "| id|    name|\n",
                        "+---+--------+\n",
                        "|  1|   Alice|\n",
                        "|  7|     Bob|\n",
                        "| 11|    Meir|\n",
                        "| 90| Winston|\n",
                        "|  3|Jonathan|\n",
                        "+---+--------+\n",
                        "\n",
                        "+---+---------+\n",
                        "| id|unique_id|\n",
                        "+---+---------+\n",
                        "|  3|        1|\n",
                        "| 11|        2|\n",
                        "| 90|        3|\n",
                        "+---+---------+\n",
                        "\n"
                    ]
                },
                {
                    "data": {
                        "text/plain": [
                            "\u001b[32mimport \u001b[39m\u001b[36mspark.implicits._\n",
                            "\u001b[39m\n",
                            "defined \u001b[32mclass\u001b[39m \u001b[36mEmployees\u001b[39m\n",
                            "defined \u001b[32mclass\u001b[39m \u001b[36mEmployeeUni\u001b[39m\n",
                            "\u001b[36mdata\u001b[39m: \u001b[32mSeq\u001b[39m[(\u001b[32mInt\u001b[39m, \u001b[32mString\u001b[39m)] = \u001b[33mList\u001b[39m(\n",
                            "  (\u001b[32m1\u001b[39m, \u001b[32m\"Alice\"\u001b[39m),\n",
                            "  (\u001b[32m7\u001b[39m, \u001b[32m\"Bob\"\u001b[39m),\n",
                            "  (\u001b[32m11\u001b[39m, \u001b[32m\"Meir\"\u001b[39m),\n",
                            "  (\u001b[32m90\u001b[39m, \u001b[32m\"Winston\"\u001b[39m),\n",
                            "  (\u001b[32m3\u001b[39m, \u001b[32m\"Jonathan\"\u001b[39m)\n",
                            ")\n",
                            "\u001b[36memployees\u001b[39m: \u001b[32mDataset\u001b[39m[\u001b[32mEmployees\u001b[39m] = [id: int, name: string]\n",
                            "\u001b[36mdata2\u001b[39m: \u001b[32mSeq\u001b[39m[(\u001b[32mInt\u001b[39m, \u001b[32mInt\u001b[39m)] = \u001b[33mList\u001b[39m((\u001b[32m3\u001b[39m, \u001b[32m1\u001b[39m), (\u001b[32m11\u001b[39m, \u001b[32m2\u001b[39m), (\u001b[32m90\u001b[39m, \u001b[32m3\u001b[39m))\n",
                            "\u001b[36memployeeUni\u001b[39m: \u001b[32mDataset\u001b[39m[\u001b[32mEmployeeUni\u001b[39m] = [id: int, unique_id: int]"
                        ]
                    },
                    "execution_count": 2,
                    "metadata": {},
                    "output_type": "execute_result"
                }
            ],
            "source": [
                "import spark.implicits._\n",
                "case class Employees(id: Int, name: String)\n",
                "case class EmployeeUni(id: Int, unique_id: Int)\n",
                "\n",
                "val data = Seq[(Int, String)]((1, \"Alice\"), (7, \"Bob\"), (11, \"Meir\"), (90, \"Winston\"), (3, \"Jonathan\"))\n",
                "val employees = data.toDF(\"id\", \"name\")\n",
                "    .as[Employees]\n",
                "employees.show()\n",
                "\n",
                "val data2 = Seq[(Int, Int)]((3, 1), (11, 2), (90, 3))\n",
                "val employeeUni = data2.toDF(\"id\", \"unique_id\")\n",
                "    .as[EmployeeUni]\n",
                "employeeUni.show()"
            ]
        },
        {
            "cell_type": "markdown",
            "metadata": {},
            "source": [
                "Write a solution to show the unique ID of each user, If a user does not have a unique ID replace just show null.\n",
                "\n",
                "Return the result table in any order.\n",
                "\n",
                "The result format is in the following example.\n",
                "\n",
                "| unique_id | name     |\n",
                "|-----------|----------|\n",
                "| null      | Alice    |\n",
                "| null      | Bob      |\n",
                "| 2         | Meir     |\n",
                "| 3         | Winston  |\n",
                "| 1         | Jonathan |"
            ]
        },
        {
            "cell_type": "code",
            "execution_count": 3,
            "metadata": {},
            "outputs": [
                {
                    "name": "stdout",
                    "output_type": "stream",
                    "text": [
                        "+---------+--------+\n",
                        "|unique_id|    name|\n",
                        "+---------+--------+\n",
                        "|     null|   Alice|\n",
                        "|     null|     Bob|\n",
                        "|        2|    Meir|\n",
                        "|        3| Winston|\n",
                        "|        1|Jonathan|\n",
                        "+---------+--------+\n",
                        "\n"
                    ]
                }
            ],
            "source": [
                "employees.join(employeeUni, Seq(\"id\"), \"left_outer\")\n",
                "    .select(employeeUni(\"unique_id\"), employees(\"name\"))\n",
                "    .show()\n"
            ]
        },
        {
            "cell_type": "code",
            "execution_count": 4,
            "metadata": {},
            "outputs": [],
            "source": [
                "spark.stop()"
            ]
        }
    ],
    "metadata": {
        "kernelspec": {
            "display_name": "Scala (2.13.10)",
            "language": "scala",
            "name": "scala213"
        },
        "language_info": {
            "codemirror_mode": "text/x-scala",
            "file_extension": ".sc",
            "mimetype": "text/x-scala",
            "name": "scala",
            "nbconvert_exporter": "script",
            "version": "2.13.10"
        }
    },
    "nbformat": 4,
    "nbformat_minor": 2
}
