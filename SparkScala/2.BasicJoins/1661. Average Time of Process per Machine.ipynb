{
    "cells": [
        {
            "cell_type": "code",
            "execution_count": 1,
            "metadata": {},
            "outputs": [
                {
                    "name": "stderr",
                    "output_type": "stream",
                    "text": [
                        "SLF4J: No SLF4J providers were found.\n",
                        "SLF4J: Defaulting to no-operation (NOP) logger implementation\n",
                        "SLF4J: See https://www.slf4j.org/codes.html#noProviders for further details.\n",
                        "Using Spark's default log4j profile: org/apache/spark/log4j2-defaults.properties\n"
                    ]
                },
                {
                    "name": "stdout",
                    "output_type": "stream",
                    "text": [
                        "Spark is ready!\n"
                    ]
                },
                {
                    "data": {
                        "text/plain": [
                            "\u001b[32mimport \u001b[39m\u001b[36m$ivy.$                                      \n",
                            "\u001b[39m\n",
                            "\u001b[32mimport \u001b[39m\u001b[36morg.apache.spark.sql._\n",
                            "\u001b[39m\n",
                            "\u001b[32mimport \u001b[39m\u001b[36morg.apache.spark.sql.functions._\n",
                            "\n",
                            "\u001b[39m\n",
                            "\u001b[36mspark\u001b[39m: \u001b[32mSparkSession\u001b[39m = org.apache.spark.sql.SparkSession@7b53a54f"
                        ]
                    },
                    "execution_count": 1,
                    "metadata": {},
                    "output_type": "execute_result"
                }
            ],
            "source": [
                "import $ivy.`org.apache.spark:spark-sql_2.13:3.3.2`\n",
                "import org.apache.spark.sql._\n",
                "import org.apache.spark.sql.functions._\n",
                "\n",
                "val spark = SparkSession.builder()\n",
                "  .appName(\"SparkTest\")\n",
                "  .master(\"local[*]\")\n",
                "  .getOrCreate()\n",
                "spark.sparkContext.setLogLevel(\"ERROR\")\n",
                "  \n",
                "// http://localhost:4040/jobs/\n",
                "println(\"Spark is ready!\")"
            ]
        },
        {
            "cell_type": "code",
            "execution_count": 2,
            "metadata": {},
            "outputs": [
                {
                    "name": "stdout",
                    "output_type": "stream",
                    "text": [
                        "+----------+----------+-------------+---------+\n",
                        "|machine_id|process_id|activity_type|timestamp|\n",
                        "+----------+----------+-------------+---------+\n",
                        "|         0|         0|        start|    0.712|\n",
                        "|         0|         0|          end|     1.52|\n",
                        "|         0|         1|        start|     3.14|\n",
                        "|         0|         1|          end|     4.12|\n",
                        "|         1|         0|        start|     0.55|\n",
                        "|         1|         0|          end|     1.55|\n",
                        "|         1|         1|        start|     0.43|\n",
                        "|         1|         1|          end|     1.42|\n",
                        "|         2|         0|        start|      4.1|\n",
                        "|         2|         0|          end|    4.512|\n",
                        "|         2|         1|        start|      2.5|\n",
                        "|         2|         1|          end|      5.0|\n",
                        "+----------+----------+-------------+---------+\n",
                        "\n"
                    ]
                },
                {
                    "data": {
                        "text/plain": [
                            "\u001b[32mimport \u001b[39m\u001b[36mspark.implicits._\n",
                            "\u001b[39m\n",
                            "defined \u001b[32mclass\u001b[39m \u001b[36mActivity\u001b[39m\n",
                            "\u001b[36mdata\u001b[39m: \u001b[32mSeq\u001b[39m[(\u001b[32mInt\u001b[39m, \u001b[32mInt\u001b[39m, \u001b[32mString\u001b[39m, \u001b[32mDouble\u001b[39m)] = \u001b[33mList\u001b[39m(\n",
                            "  (\u001b[32m0\u001b[39m, \u001b[32m0\u001b[39m, \u001b[32m\"start\"\u001b[39m, \u001b[32m0.712\u001b[39m),\n",
                            "  (\u001b[32m0\u001b[39m, \u001b[32m0\u001b[39m, \u001b[32m\"end\"\u001b[39m, \u001b[32m1.52\u001b[39m),\n",
                            "  (\u001b[32m0\u001b[39m, \u001b[32m1\u001b[39m, \u001b[32m\"start\"\u001b[39m, \u001b[32m3.14\u001b[39m),\n",
                            "  (\u001b[32m0\u001b[39m, \u001b[32m1\u001b[39m, \u001b[32m\"end\"\u001b[39m, \u001b[32m4.12\u001b[39m),\n",
                            "  (\u001b[32m1\u001b[39m, \u001b[32m0\u001b[39m, \u001b[32m\"start\"\u001b[39m, \u001b[32m0.55\u001b[39m),\n",
                            "  (\u001b[32m1\u001b[39m, \u001b[32m0\u001b[39m, \u001b[32m\"end\"\u001b[39m, \u001b[32m1.55\u001b[39m),\n",
                            "  (\u001b[32m1\u001b[39m, \u001b[32m1\u001b[39m, \u001b[32m\"start\"\u001b[39m, \u001b[32m0.43\u001b[39m),\n",
                            "  (\u001b[32m1\u001b[39m, \u001b[32m1\u001b[39m, \u001b[32m\"end\"\u001b[39m, \u001b[32m1.42\u001b[39m),\n",
                            "  (\u001b[32m2\u001b[39m, \u001b[32m0\u001b[39m, \u001b[32m\"start\"\u001b[39m, \u001b[32m4.1\u001b[39m),\n",
                            "  (\u001b[32m2\u001b[39m, \u001b[32m0\u001b[39m, \u001b[32m\"end\"\u001b[39m, \u001b[32m4.512\u001b[39m),\n",
                            "  (\u001b[32m2\u001b[39m, \u001b[32m1\u001b[39m, \u001b[32m\"start\"\u001b[39m, \u001b[32m2.5\u001b[39m),\n",
                            "  (\u001b[32m2\u001b[39m, \u001b[32m1\u001b[39m, \u001b[32m\"end\"\u001b[39m, \u001b[32m5.0\u001b[39m)\n",
                            ")\n",
                            "\u001b[36mactivity\u001b[39m: \u001b[32mDataset\u001b[39m[\u001b[32mActivity\u001b[39m] = [machine_id: int, process_id: int ... 2 more fields]"
                        ]
                    },
                    "execution_count": 2,
                    "metadata": {},
                    "output_type": "execute_result"
                }
            ],
            "source": [
                "import spark.implicits._\n",
                "case class Activity(machine_id: Int, process_id: Int, activity_type: String, timestamp: Double)\n",
                "\n",
                "val data = Seq[(Int, Int, String, Double)]((0, 0, \"start\", 0.712), (0, 0, \"end\", 1.52), (0, 1, \"start\", 3.14), (0, 1, \"end\", 4.12), (1, 0, \"start\", 0.55), (1, 0, \"end\", 1.55), (1, 1, \"start\", 0.43), (1, 1, \"end\", 1.42), (2, 0, \"start\", 4.1), (2, 0, \"end\", 4.512), (2, 1, \"start\", 2.5), (2, 1, \"end\", 5))\n",
                "val activity = data.toDF(\"machine_id\", \"process_id\", \"activity_type\", \"timestamp\")\n",
                "    .as[Activity]\n",
                "activity.show()\n"
            ]
        },
        {
            "cell_type": "markdown",
            "metadata": {},
            "source": [
                "There is a factory website that has several machines each running the same number of processes. Write a solution to find the average time each machine takes to complete a process.\n",
                "\n",
                "The time to complete a process is the 'end' timestamp minus the 'start' timestamp. The average time is calculated by the total time to complete every process on the machine divided by the number of processes that were run.\n",
                "\n",
                "The resulting table should have the machine_id along with the average time as processing_time, which should be rounded to 3 decimal places.\n",
                "\n",
                "Return the result table in any order.\n",
                "\n",
                "The result format is in the following example.\n",
                "\n",
                "| machine_id | processing_time |\n",
                "|------------|-----------------|\n",
                "| 0          | 0.894           |\n",
                "| 1          | 0.995           |\n",
                "| 2          | 1.456           |"
            ]
        },
        {
            "cell_type": "code",
            "execution_count": 3,
            "metadata": {},
            "outputs": [
                {
                    "name": "stdout",
                    "output_type": "stream",
                    "text": [
                        "+----------+------------------+\n",
                        "|machine_id|   processing_time|\n",
                        "+----------+------------------+\n",
                        "|         0|             0.808|\n",
                        "|         0|              0.98|\n",
                        "|         1|               1.0|\n",
                        "|         1|              0.99|\n",
                        "|         2|0.4119999999999999|\n",
                        "|         2|               2.5|\n",
                        "+----------+------------------+\n",
                        "\n"
                    ]
                },
                {
                    "data": {
                        "text/plain": [
                            "defined \u001b[32mclass\u001b[39m \u001b[36mMachines\u001b[39m\n",
                            "\u001b[36mprocessingTimes\u001b[39m: \u001b[32mDataset\u001b[39m[\u001b[32mMachines\u001b[39m] = [machine_id: int, processing_time: double]"
                        ]
                    },
                    "execution_count": 3,
                    "metadata": {},
                    "output_type": "execute_result"
                }
            ],
            "source": [
                "case class Machines(machine_id: Int, processing_time: Double)\n",
                "val processingTimes = activity.groupByKey(a => (a.machine_id, a.process_id))\n",
                "    .mapGroups{\n",
                "        (grouped: (Int, Int), iter: Iterator[Activity]) => \n",
                "        val timestamps = iter.map(_.timestamp).toList\n",
                "        val processing_time = timestamps.max - timestamps.min\n",
                "        Machines(grouped._1, processing_time)\n",
                "    }\n",
                "processingTimes.show()\n"
            ]
        },
        {
            "cell_type": "code",
            "execution_count": 4,
            "metadata": {},
            "outputs": [
                {
                    "name": "stdout",
                    "output_type": "stream",
                    "text": [
                        "+----------+---------------+\n",
                        "|machine_id|processing_time|\n",
                        "+----------+---------------+\n",
                        "|         0|          1.788|\n",
                        "|         1|           1.99|\n",
                        "|         2|          2.912|\n",
                        "+----------+---------------+\n",
                        "\n"
                    ]
                }
            ],
            "source": [
                "processingTimes.groupByKey(a => a.machine_id)\n",
                "    .mapGroups{\n",
                "        (machine_id, iter: Iterator[Machines]) =>\n",
                "        val avg = (math rint iter.map(_.processing_time).sum * 1000)/1000\n",
                "        Machines(machine_id, avg)\n",
                "    }.show"
            ]
        },
        {
            "cell_type": "code",
            "execution_count": 5,
            "metadata": {},
            "outputs": [
                {
                    "name": "stdout",
                    "output_type": "stream",
                    "text": [
                        "+----------+---------------+\n",
                        "|machine_id|processing_time|\n",
                        "+----------+---------------+\n",
                        "|         1|          0.995|\n",
                        "|         2|          1.456|\n",
                        "|         0|          0.894|\n",
                        "+----------+---------------+\n",
                        "\n"
                    ]
                }
            ],
            "source": [
                "activity.groupBy(\"machine_id\", \"process_id\")\n",
                "    .agg(\n",
                "        min(\"timestamp\").as(\"ts_min\"),\n",
                "        max(\"timestamp\").as(\"ts_max\")\n",
                "    ).select(col(\"machine_id\"), (col(\"ts_max\") - col(\"ts_min\")).as(\"processing_time\"))\n",
                "    .groupBy(\"machine_id\")\n",
                "    .agg(round(avg(\"processing_time\"), 3).as(\"processing_time\"))\n",
                "    .show()"
            ]
        },
        {
            "cell_type": "code",
            "execution_count": 6,
            "metadata": {},
            "outputs": [],
            "source": [
                "spark.stop()"
            ]
        }
    ],
    "metadata": {
        "kernelspec": {
            "display_name": "Scala (2.13.10)",
            "language": "scala",
            "name": "scala213"
        },
        "language_info": {
            "codemirror_mode": "text/x-scala",
            "file_extension": ".sc",
            "mimetype": "text/x-scala",
            "name": "scala",
            "nbconvert_exporter": "script",
            "version": "2.13.10"
        }
    },
    "nbformat": 4,
    "nbformat_minor": 2
}