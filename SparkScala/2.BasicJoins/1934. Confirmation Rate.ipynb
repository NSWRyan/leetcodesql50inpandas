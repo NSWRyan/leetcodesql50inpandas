{
    "cells": [
        {
            "cell_type": "code",
            "execution_count": 1,
            "metadata": {},
            "outputs": [
                {
                    "name": "stderr",
                    "output_type": "stream",
                    "text": [
                        "SLF4J: No SLF4J providers were found.\n",
                        "SLF4J: Defaulting to no-operation (NOP) logger implementation\n",
                        "SLF4J: See https://www.slf4j.org/codes.html#noProviders for further details.\n",
                        "Using Spark's default log4j profile: org/apache/spark/log4j2-defaults.properties\n"
                    ]
                },
                {
                    "name": "stdout",
                    "output_type": "stream",
                    "text": [
                        "Spark is ready!\n"
                    ]
                },
                {
                    "data": {
                        "text/plain": [
                            "\u001b[32mimport \u001b[39m\u001b[36m$ivy.$                                      \n",
                            "\u001b[39m\n",
                            "\u001b[32mimport \u001b[39m\u001b[36morg.apache.spark.sql._\n",
                            "\u001b[39m\n",
                            "\u001b[32mimport \u001b[39m\u001b[36morg.apache.spark.sql.functions._\n",
                            "\n",
                            "\u001b[39m\n",
                            "\u001b[36mspark\u001b[39m: \u001b[32mSparkSession\u001b[39m = org.apache.spark.sql.SparkSession@a01a5c2"
                        ]
                    },
                    "execution_count": 1,
                    "metadata": {},
                    "output_type": "execute_result"
                }
            ],
            "source": [
                "import $ivy.`org.apache.spark:spark-sql_2.13:3.3.2`\n",
                "import org.apache.spark.sql._\n",
                "import org.apache.spark.sql.functions._\n",
                "\n",
                "val spark = SparkSession.builder()\n",
                "  .appName(\"SparkTest\")\n",
                "  .master(\"local[*]\")\n",
                "  .getOrCreate()\n",
                "spark.sparkContext.setLogLevel(\"ERROR\")\n",
                "  \n",
                "// http://localhost:4040/jobs/\n",
                "println(\"Spark is ready!\")"
            ]
        },
        {
            "cell_type": "code",
            "execution_count": 2,
            "metadata": {},
            "outputs": [
                {
                    "name": "stdout",
                    "output_type": "stream",
                    "text": [
                        "+---+-------------------+\n",
                        "| id|         time_stamp|\n",
                        "+---+-------------------+\n",
                        "|  3|2020-03-21 10:16:13|\n",
                        "|  7|2020-01-04 13:57:59|\n",
                        "|  2|2020-07-29 23:09:44|\n",
                        "|  6|2020-12-09 10:39:37|\n",
                        "+---+-------------------+\n",
                        "\n",
                        "+-------+-------------------+---------+\n",
                        "|user_id|         time_stamp|   action|\n",
                        "+-------+-------------------+---------+\n",
                        "|      3|2021-01-06 03:30:46|  timeout|\n",
                        "|      3|2021-07-14 14:00:00|  timeout|\n",
                        "|      7|2021-06-12 11:57:29|confirmed|\n",
                        "|      7|2021-06-13 12:58:28|confirmed|\n",
                        "|      7|2021-06-14 13:59:27|confirmed|\n",
                        "|      2|2021-01-22 00:00:00|confirmed|\n",
                        "|      2|2021-02-28 23:59:59|  timeout|\n",
                        "+-------+-------------------+---------+\n",
                        "\n"
                    ]
                },
                {
                    "data": {
                        "text/plain": [
                            "\u001b[32mimport \u001b[39m\u001b[36mspark.implicits._\n",
                            "\u001b[39m\n",
                            "\u001b[32mimport \u001b[39m\u001b[36mjava.sql.Timestamp\n",
                            "\u001b[39m\n",
                            "defined \u001b[32mclass\u001b[39m \u001b[36mSignups\u001b[39m\n",
                            "defined \u001b[32mclass\u001b[39m \u001b[36mConfirmations\u001b[39m\n",
                            "\u001b[36mdata\u001b[39m: \u001b[32mSeq\u001b[39m[(\u001b[32mInt\u001b[39m, \u001b[32mTimestamp\u001b[39m)] = \u001b[33mList\u001b[39m(\n",
                            "  (\u001b[32m3\u001b[39m, 2020-03-21 10:16:13.0),\n",
                            "  (\u001b[32m7\u001b[39m, 2020-01-04 13:57:59.0),\n",
                            "  (\u001b[32m2\u001b[39m, 2020-07-29 23:09:44.0),\n",
                            "  (\u001b[32m6\u001b[39m, 2020-12-09 10:39:37.0)\n",
                            ")\n",
                            "\u001b[36msignups\u001b[39m: \u001b[32mDataset\u001b[39m[\u001b[32mSignups\u001b[39m] = [id: int, time_stamp: timestamp]\n",
                            "\u001b[36mdata2\u001b[39m: \u001b[32mSeq\u001b[39m[(\u001b[32mInt\u001b[39m, \u001b[32mTimestamp\u001b[39m, \u001b[32mString\u001b[39m)] = \u001b[33mList\u001b[39m(\n",
                            "  (\u001b[32m3\u001b[39m, 2021-01-06 03:30:46.0, \u001b[32m\"timeout\"\u001b[39m),\n",
                            "  (\u001b[32m3\u001b[39m, 2021-07-14 14:00:00.0, \u001b[32m\"timeout\"\u001b[39m),\n",
                            "  (\u001b[32m7\u001b[39m, 2021-06-12 11:57:29.0, \u001b[32m\"confirmed\"\u001b[39m),\n",
                            "  (\u001b[32m7\u001b[39m, 2021-06-13 12:58:28.0, \u001b[32m\"confirmed\"\u001b[39m),\n",
                            "  (\u001b[32m7\u001b[39m, 2021-06-14 13:59:27.0, \u001b[32m\"confirmed\"\u001b[39m),\n",
                            "  (\u001b[32m2\u001b[39m, 2021-01-22 00:00:00.0, \u001b[32m\"confirmed\"\u001b[39m),\n",
                            "  (\u001b[32m2\u001b[39m, 2021-02-28 23:59:59.0, \u001b[32m\"timeout\"\u001b[39m)\n",
                            ")\n",
                            "\u001b[36mconfirmations\u001b[39m: \u001b[32mDataset\u001b[39m[\u001b[32mConfirmations\u001b[39m] = [user_id: int, time_stamp: timestamp ... 1 more field]"
                        ]
                    },
                    "execution_count": 2,
                    "metadata": {},
                    "output_type": "execute_result"
                }
            ],
            "source": [
                "import spark.implicits._\n",
                "import java.sql.Timestamp\n",
                "case class Signups(id: Int, time_stamp: Timestamp)\n",
                "case class Confirmations(user_id: Int, time_stamp: Timestamp, action: String)\n",
                "\n",
                "val data = Seq[(Int, Timestamp)]((3, Timestamp.valueOf(\"2020-03-21 10:16:13\")), (7, Timestamp.valueOf(\"2020-01-04 13:57:59\")), (2, Timestamp.valueOf(\"2020-07-29 23:09:44\")), (6, Timestamp.valueOf(\"2020-12-09 10:39:37\")))\n",
                "val signups = data.toDF(\"id\", \"time_stamp\")\n",
                "    .as[Signups]\n",
                "signups.show()\n",
                "\n",
                "val data2 = Seq[(Int, Timestamp, String)]((3, Timestamp.valueOf(\"2021-01-06 03:30:46\"), \"timeout\"), (3, Timestamp.valueOf(\"2021-07-14 14:00:00\"), \"timeout\"), (7, Timestamp.valueOf(\"2021-06-12 11:57:29\"), \"confirmed\"), (7, Timestamp.valueOf(\"2021-06-13 12:58:28\"), \"confirmed\"), (7, Timestamp.valueOf(\"2021-06-14 13:59:27\"), \"confirmed\"), (2, Timestamp.valueOf(\"2021-01-22 00:00:00\"), \"confirmed\"), (2, Timestamp.valueOf(\"2021-02-28 23:59:59\"), \"timeout\"))\n",
                "val confirmations = data2.toDF(\"user_id\", \"time_stamp\", \"action\")\n",
                "    .as[Confirmations]\n",
                "confirmations.show()"
            ]
        },
        {
            "cell_type": "markdown",
            "metadata": {},
            "source": [
                "The confirmation rate of a user is the number of 'confirmed' messages divided by the total number of requested confirmation messages. The confirmation rate of a user that did not request any confirmation messages is 0. Round the confirmation rate to two decimal places.\n",
                "\n",
                "Write a solution to find the confirmation rate of each user.\n",
                "\n",
                "Return the result table in any order.\n",
                "\n",
                "The result format is in the following example.\n",
                "\n",
                "| user_id | confirmation_rate |\n",
                "|---------|-------------------|\n",
                "| 6       | 0.00              |\n",
                "| 3       | 0.00              |\n",
                "| 7       | 1.00              |\n",
                "| 2       | 0.50              |"
            ]
        },
        {
            "cell_type": "code",
            "execution_count": 3,
            "metadata": {},
            "outputs": [
                {
                    "name": "stdout",
                    "output_type": "stream",
                    "text": [
                        "+-------+-----+\n",
                        "|user_id|count|\n",
                        "+-------+-----+\n",
                        "|      3|    2|\n",
                        "|      7|    3|\n",
                        "|      2|    2|\n",
                        "+-------+-----+\n",
                        "\n",
                        "+-------+---------------+\n",
                        "|user_id|confirmed_count|\n",
                        "+-------+---------------+\n",
                        "|      7|              3|\n",
                        "|      2|              1|\n",
                        "+-------+---------------+\n",
                        "\n",
                        "+-------+-----------------+\n",
                        "|user_id|confirmation_rate|\n",
                        "+-------+-----------------+\n",
                        "|      3|              0.0|\n",
                        "|      7|              1.0|\n",
                        "|      2|              0.5|\n",
                        "+-------+-----------------+\n",
                        "\n"
                    ]
                },
                {
                    "data": {
                        "text/plain": [
                            "\u001b[36mallCnt\u001b[39m: \u001b[32mDataFrame\u001b[39m = [user_id: int, count: bigint]\n",
                            "\u001b[36mconfirmedCnt\u001b[39m: \u001b[32mDataFrame\u001b[39m = [user_id: int, confirmed_count: bigint]\n",
                            "\u001b[36mconfirmationRate\u001b[39m: \u001b[32mDataFrame\u001b[39m = [user_id: int, confirmation_rate: double]"
                        ]
                    },
                    "execution_count": 3,
                    "metadata": {},
                    "output_type": "execute_result"
                }
            ],
            "source": [
                "val allCnt = confirmations.groupBy(confirmations(\"user_id\"))\n",
                "    .agg(count(confirmations(\"user_id\")).as(\"count\"))\n",
                "\n",
                "val confirmedCnt = confirmations.filter(confirmations(\"action\") === \"confirmed\")\n",
                "    .groupBy(confirmations(\"user_id\"))\n",
                "    .agg(count(confirmations(\"user_id\")).as(\"confirmed_count\"))\n",
                "\n",
                "val confirmationRate = allCnt.join(confirmedCnt, Seq(\"user_id\"), \"left_outer\")\n",
                "    .na.fill(0, Seq(\"confirmed_count\"))\n",
                "    .select(col(\"user_id\"), round(col(\"confirmed_count\")/col(\"count\"), 2).as(\"confirmation_rate\"))\n",
                "\n",
                "allCnt.show()\n",
                "confirmedCnt.show()\n",
                "confirmationRate.show()"
            ]
        },
        {
            "cell_type": "code",
            "execution_count": 4,
            "metadata": {},
            "outputs": [
                {
                    "name": "stdout",
                    "output_type": "stream",
                    "text": [
                        "+-------+-----------------+\n",
                        "|user_id|confirmation_rate|\n",
                        "+-------+-----------------+\n",
                        "|      3|              0.0|\n",
                        "|      7|              1.0|\n",
                        "|      2|              0.5|\n",
                        "|      6|              0.0|\n",
                        "+-------+-----------------+\n",
                        "\n"
                    ]
                }
            ],
            "source": [
                "signups.join(confirmationRate, (signups(\"id\") === confirmationRate(\"user_id\")), \"left_outer\")\n",
                "    .na.fill(0, Seq(\"confirmation_rate\"))\n",
                "    .select(col(\"id\").as(\"user_id\"), col(\"confirmation_rate\"))\n",
                "    .show()"
            ]
        },
        {
            "cell_type": "code",
            "execution_count": 5,
            "metadata": {},
            "outputs": [],
            "source": [
                "spark.stop()"
            ]
        }
    ],
    "metadata": {
        "kernelspec": {
            "display_name": "Scala (2.13.10)",
            "language": "scala",
            "name": "scala213"
        },
        "language_info": {
            "codemirror_mode": "text/x-scala",
            "file_extension": ".sc",
            "mimetype": "text/x-scala",
            "name": "scala",
            "nbconvert_exporter": "script",
            "version": "2.13.10"
        }
    },
    "nbformat": 4,
    "nbformat_minor": 2
}
