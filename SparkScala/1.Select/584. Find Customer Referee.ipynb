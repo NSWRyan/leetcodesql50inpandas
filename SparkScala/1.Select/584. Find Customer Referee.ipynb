{
    "cells": [
        {
            "cell_type": "code",
            "execution_count": 1,
            "metadata": {},
            "outputs": [
                {
                    "name": "stderr",
                    "output_type": "stream",
                    "text": [
                        "SLF4J: No SLF4J providers were found.\n",
                        "SLF4J: Defaulting to no-operation (NOP) logger implementation\n",
                        "SLF4J: See https://www.slf4j.org/codes.html#noProviders for further details.\n",
                        "Using Spark's default log4j profile: org/apache/spark/log4j2-defaults.properties\n"
                    ]
                },
                {
                    "name": "stdout",
                    "output_type": "stream",
                    "text": [
                        "Spark is ready!\n"
                    ]
                },
                {
                    "data": {
                        "text/plain": [
                            "\u001b[32mimport \u001b[39m\u001b[36m$ivy.$                                      \n",
                            "\u001b[39m\n",
                            "\u001b[32mimport \u001b[39m\u001b[36morg.apache.spark.sql._\n",
                            "\u001b[39m\n",
                            "\u001b[32mimport \u001b[39m\u001b[36morg.apache.spark.sql.functions._\n",
                            "\n",
                            "\u001b[39m\n",
                            "\u001b[36mspark\u001b[39m: \u001b[32mSparkSession\u001b[39m = org.apache.spark.sql.SparkSession@79dc04fa"
                        ]
                    },
                    "execution_count": 1,
                    "metadata": {},
                    "output_type": "execute_result"
                }
            ],
            "source": [
                "import $ivy.`org.apache.spark:spark-sql_2.13:3.3.2`\n",
                "import org.apache.spark.sql._\n",
                "import org.apache.spark.sql.functions._\n",
                "\n",
                "val spark = SparkSession.builder()\n",
                "  .appName(\"SparkTest\")\n",
                "  .master(\"local[*]\")\n",
                "  .getOrCreate()\n",
                "spark.sparkContext.setLogLevel(\"ERROR\")\n",
                "  \n",
                "// http://localhost:4040/jobs/\n",
                "println(\"Spark is ready!\")"
            ]
        },
        {
            "cell_type": "code",
            "execution_count": 7,
            "metadata": {},
            "outputs": [
                {
                    "data": {
                        "text/plain": [
                            "\u001b[32mimport \u001b[39m\u001b[36mspark.implicits._\n",
                            "// Data\n",
                            "\u001b[39m\n",
                            "defined \u001b[32mclass\u001b[39m \u001b[36mCustomer\u001b[39m\n",
                            "\u001b[36mdata\u001b[39m: \u001b[32mSeq\u001b[39m[(\u001b[32mInt\u001b[39m, \u001b[32mString\u001b[39m, \u001b[32mOption\u001b[39m[\u001b[32mInt\u001b[39m])] = \u001b[33mList\u001b[39m(\n",
                            "  (\u001b[32m1\u001b[39m, \u001b[32m\"Will\"\u001b[39m, \u001b[32mNone\u001b[39m),\n",
                            "  (\u001b[32m2\u001b[39m, \u001b[32m\"Jane\"\u001b[39m, \u001b[32mNone\u001b[39m),\n",
                            "  (\u001b[32m3\u001b[39m, \u001b[32m\"Alex\"\u001b[39m, \u001b[33mSome\u001b[39m(value = \u001b[32m2\u001b[39m)),\n",
                            "  (\u001b[32m4\u001b[39m, \u001b[32m\"Bill\"\u001b[39m, \u001b[32mNone\u001b[39m),\n",
                            "  (\u001b[32m5\u001b[39m, \u001b[32m\"Zack\"\u001b[39m, \u001b[33mSome\u001b[39m(value = \u001b[32m1\u001b[39m)),\n",
                            "  (\u001b[32m6\u001b[39m, \u001b[32m\"Mark\"\u001b[39m, \u001b[33mSome\u001b[39m(value = \u001b[32m2\u001b[39m))\n",
                            ")\n",
                            "\u001b[36mcustDs\u001b[39m: \u001b[32mDataset\u001b[39m[\u001b[32mCustomer\u001b[39m] = [id: int, name: string ... 1 more field]"
                        ]
                    },
                    "execution_count": 7,
                    "metadata": {},
                    "output_type": "execute_result"
                }
            ],
            "source": [
                "import spark.implicits._\n",
                "// Data\n",
                "case class Customer(id: Int, name: String, referee_id: Int)\n",
                "val data = Seq(\n",
                "  (1, \"Will\", None),\n",
                "  (2, \"Jane\", None),\n",
                "  (3, \"Alex\", Some(2)),\n",
                "  (4, \"Bill\", None),\n",
                "  (5, \"Zack\", Some(1)),\n",
                "  (6, \"Mark\", Some(2))\n",
                ")\n",
                "val custDs: Dataset[Customer] = data.toDF(\"id\", \"name\", \"referee_id\").as[Customer]"
            ]
        },
        {
            "cell_type": "markdown",
            "metadata": {},
            "source": [
                "Find the names of the customer that are not referred by the customer with id = 2.\n",
                "\n",
                "Return the result table in any order.\n",
                "\n",
                "The result format is in the following example.\n",
                "\n",
                "| name |\n",
                "|------|\n",
                "| Will |\n",
                "| Jane |\n",
                "| Bill |\n",
                "| Zack |"
            ]
        },
        {
            "cell_type": "code",
            "execution_count": 15,
            "metadata": {},
            "outputs": [
                {
                    "name": "stdout",
                    "output_type": "stream",
                    "text": [
                        "+----+\n",
                        "|name|\n",
                        "+----+\n",
                        "|Will|\n",
                        "|Jane|\n",
                        "|Bill|\n",
                        "|Zack|\n",
                        "+----+\n",
                        "\n"
                    ]
                }
            ],
            "source": [
                "custDs.filter((col(\"referee_id\") !== 2) || (col(\"referee_id\").isNull))\n",
                "    .select(col(\"name\")).show"
            ]
        },
        {
            "cell_type": "code",
            "execution_count": 16,
            "metadata": {},
            "outputs": [],
            "source": [
                "spark.stop"
            ]
        }
    ],
    "metadata": {
        "kernelspec": {
            "display_name": "Scala (2.13.10)",
            "language": "scala",
            "name": "scala213"
        },
        "language_info": {
            "codemirror_mode": "text/x-scala",
            "file_extension": ".sc",
            "mimetype": "text/x-scala",
            "name": "scala",
            "nbconvert_exporter": "script",
            "version": "2.13.10"
        }
    },
    "nbformat": 4,
    "nbformat_minor": 2
}
