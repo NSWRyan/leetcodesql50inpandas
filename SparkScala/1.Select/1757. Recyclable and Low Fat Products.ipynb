{
    "cells": [
        {
            "cell_type": "code",
            "execution_count": 3,
            "metadata": {},
            "outputs": [
                {
                    "name": "stdout",
                    "output_type": "stream",
                    "text": [
                        "Spark is ready!\n"
                    ]
                },
                {
                    "data": {
                        "text/plain": [
                            "\u001b[32mimport \u001b[39m\u001b[36m$ivy.$                                      \n",
                            "\u001b[39m\n",
                            "\u001b[32mimport \u001b[39m\u001b[36morg.apache.spark.sql._\n",
                            "\u001b[39m\n",
                            "\u001b[32mimport \u001b[39m\u001b[36morg.apache.spark.sql.functions._\n",
                            "\n",
                            "\u001b[39m\n",
                            "\u001b[36mspark\u001b[39m: \u001b[32mSparkSession\u001b[39m = org.apache.spark.sql.SparkSession@6efedeb8"
                        ]
                    },
                    "execution_count": 3,
                    "metadata": {},
                    "output_type": "execute_result"
                }
            ],
            "source": [
                "import $ivy.`org.apache.spark:spark-sql_2.13:3.3.2`\n",
                "import org.apache.spark.sql._\n",
                "import org.apache.spark.sql.functions._\n",
                "\n",
                "val spark = SparkSession.builder()\n",
                "  .appName(\"SparkTest\")\n",
                "  .master(\"local[*]\")\n",
                "  .getOrCreate()\n",
                "spark.sparkContext.setLogLevel(\"ERROR\")\n",
                "  \n",
                "// http://localhost:4040/jobs/\n",
                "println(\"Spark is ready!\")"
            ]
        },
        {
            "cell_type": "markdown",
            "metadata": {},
            "source": [
                "* Write a solution to find the ids of products that are both low fat and recyclable.\n",
                "* Return the result table in any order.\n",
                "* The result format is in the following example.\n",
                "\n",
                "| product_id  |\n",
                "|-------------|\n",
                "| 1           |\n",
                "| 3           |"
            ]
        },
        {
            "cell_type": "code",
            "execution_count": 19,
            "metadata": {},
            "outputs": [
                {
                    "name": "stdout",
                    "output_type": "stream",
                    "text": [
                        "+----------+--------+----------+\n",
                        "|product_id|low_fats|recyclable|\n",
                        "+----------+--------+----------+\n",
                        "|         0|       Y|         N|\n",
                        "|         1|       Y|         Y|\n",
                        "|         2|       N|         Y|\n",
                        "|         3|       Y|         Y|\n",
                        "|         4|       N|         N|\n",
                        "+----------+--------+----------+\n",
                        "\n"
                    ]
                },
                {
                    "data": {
                        "text/plain": [
                            "\u001b[32mimport \u001b[39m\u001b[36mspark.implicits._\n",
                            "\u001b[39m\n",
                            "\u001b[36mdata\u001b[39m: \u001b[32mSeq\u001b[39m[(\u001b[32mInt\u001b[39m, \u001b[32mString\u001b[39m, \u001b[32mString\u001b[39m)] = \u001b[33mList\u001b[39m(\n",
                            "  (\u001b[32m0\u001b[39m, \u001b[32m\"Y\"\u001b[39m, \u001b[32m\"N\"\u001b[39m),\n",
                            "  (\u001b[32m1\u001b[39m, \u001b[32m\"Y\"\u001b[39m, \u001b[32m\"Y\"\u001b[39m),\n",
                            "  (\u001b[32m2\u001b[39m, \u001b[32m\"N\"\u001b[39m, \u001b[32m\"Y\"\u001b[39m),\n",
                            "  (\u001b[32m3\u001b[39m, \u001b[32m\"Y\"\u001b[39m, \u001b[32m\"Y\"\u001b[39m),\n",
                            "  (\u001b[32m4\u001b[39m, \u001b[32m\"N\"\u001b[39m, \u001b[32m\"N\"\u001b[39m)\n",
                            ")\n",
                            "defined \u001b[32mclass\u001b[39m \u001b[36mProducts\u001b[39m\n",
                            "\u001b[36mproducts\u001b[39m: \u001b[32mDataset\u001b[39m[\u001b[32mProducts\u001b[39m] = [product_id: int, low_fats: string ... 1 more field]"
                        ]
                    },
                    "execution_count": 19,
                    "metadata": {},
                    "output_type": "execute_result"
                }
            ],
            "source": [
                "import spark.implicits._\n",
                "val data = Seq((0, \"Y\", \"N\"), (1, \"Y\", \"Y\"), (2, \"N\", \"Y\"), (3, \"Y\", \"Y\"), (4, \"N\", \"N\"))\n",
                "case class Products(product_id: Int, low_fats: String, recyclable: String)\n",
                "val products = data.toDF(\"product_id\", \"low_fats\", \"recyclable\")\n",
                "    .as[Products]\n",
                "products.show"
            ]
        },
        {
            "cell_type": "code",
            "execution_count": 26,
            "metadata": {},
            "outputs": [
                {
                    "name": "stdout",
                    "output_type": "stream",
                    "text": [
                        "+----------+\n",
                        "|product_id|\n",
                        "+----------+\n",
                        "|         1|\n",
                        "|         3|\n",
                        "+----------+\n",
                        "\n"
                    ]
                }
            ],
            "source": [
                "products.filter((col(\"low_fats\") === \"Y\") && (col(\"recyclable\") === \"Y\"))\n",
                "    .select(col(\"product_id\"))\n",
                "    .show"
            ]
        },
        {
            "cell_type": "code",
            "execution_count": 27,
            "metadata": {},
            "outputs": [],
            "source": [
                "spark.stop()"
            ]
        }
    ],
    "metadata": {
        "kernelspec": {
            "display_name": "Scala (2.13.10)",
            "language": "scala",
            "name": "scala213"
        },
        "language_info": {
            "codemirror_mode": "text/x-scala",
            "file_extension": ".sc",
            "mimetype": "text/x-scala",
            "name": "scala",
            "nbconvert_exporter": "script",
            "version": "2.13.10"
        }
    },
    "nbformat": 4,
    "nbformat_minor": 2
}