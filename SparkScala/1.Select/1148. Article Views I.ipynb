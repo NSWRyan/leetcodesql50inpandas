{
    "cells": [
        {
            "cell_type": "code",
            "execution_count": 1,
            "metadata": {},
            "outputs": [
                {
                    "name": "stderr",
                    "output_type": "stream",
                    "text": [
                        "SLF4J: No SLF4J providers were found.\n",
                        "SLF4J: Defaulting to no-operation (NOP) logger implementation\n",
                        "SLF4J: See https://www.slf4j.org/codes.html#noProviders for further details.\n",
                        "Using Spark's default log4j profile: org/apache/spark/log4j2-defaults.properties\n"
                    ]
                },
                {
                    "name": "stdout",
                    "output_type": "stream",
                    "text": [
                        "Spark is ready!\n"
                    ]
                },
                {
                    "data": {
                        "text/plain": [
                            "\u001b[32mimport \u001b[39m\u001b[36m$ivy.$                                      \n",
                            "\u001b[39m\n",
                            "\u001b[32mimport \u001b[39m\u001b[36morg.apache.spark.sql._\n",
                            "\u001b[39m\n",
                            "\u001b[32mimport \u001b[39m\u001b[36morg.apache.spark.sql.functions._\n",
                            "\n",
                            "\u001b[39m\n",
                            "\u001b[36mspark\u001b[39m: \u001b[32mSparkSession\u001b[39m = org.apache.spark.sql.SparkSession@285bdf9f"
                        ]
                    },
                    "execution_count": 1,
                    "metadata": {},
                    "output_type": "execute_result"
                }
            ],
            "source": [
                "import $ivy.`org.apache.spark:spark-sql_2.13:3.3.2`\n",
                "import org.apache.spark.sql._\n",
                "import org.apache.spark.sql.functions._\n",
                "\n",
                "val spark = SparkSession.builder()\n",
                "  .appName(\"SparkTest\")\n",
                "  .master(\"local[*]\")\n",
                "  .getOrCreate()\n",
                "spark.sparkContext.setLogLevel(\"ERROR\")\n",
                "  \n",
                "// http://localhost:4040/jobs/\n",
                "println(\"Spark is ready!\")"
            ]
        },
        {
            "cell_type": "markdown",
            "metadata": {},
            "source": [
                "Write a solution to find all the authors that viewed at least one of their own articles.\n",
                "\n",
                "Return the result table sorted by id in ascending order.\n",
                "\n",
                "The result format is in the following example.\n",
                "\n"
            ]
        },
        {
            "cell_type": "code",
            "execution_count": 7,
            "metadata": {},
            "outputs": [
                {
                    "name": "stdout",
                    "output_type": "stream",
                    "text": [
                        "+----------+---------+---------+----------+\n",
                        "|article_id|author_id|viewer_id| view_date|\n",
                        "+----------+---------+---------+----------+\n",
                        "|         1|        3|        5|2019-08-01|\n",
                        "|         1|        3|        6|2019-08-02|\n",
                        "|         2|        7|        7|2019-08-01|\n",
                        "|         2|        7|        6|2019-08-02|\n",
                        "|         4|        7|        1|2019-07-22|\n",
                        "|         3|        4|        4|2019-07-21|\n",
                        "|         3|        4|        4|2019-07-21|\n",
                        "+----------+---------+---------+----------+\n",
                        "\n"
                    ]
                },
                {
                    "data": {
                        "text/plain": [
                            "\u001b[32mimport \u001b[39m\u001b[36mspark.implicits._\n",
                            "\u001b[39m\n",
                            "\u001b[36mdata\u001b[39m: \u001b[32mSeq\u001b[39m[(\u001b[32mInt\u001b[39m, \u001b[32mInt\u001b[39m, \u001b[32mInt\u001b[39m, \u001b[32mString\u001b[39m)] = \u001b[33mList\u001b[39m(\n",
                            "  (\u001b[32m1\u001b[39m, \u001b[32m3\u001b[39m, \u001b[32m5\u001b[39m, \u001b[32m\"2019-08-01\"\u001b[39m),\n",
                            "  (\u001b[32m1\u001b[39m, \u001b[32m3\u001b[39m, \u001b[32m6\u001b[39m, \u001b[32m\"2019-08-02\"\u001b[39m),\n",
                            "  (\u001b[32m2\u001b[39m, \u001b[32m7\u001b[39m, \u001b[32m7\u001b[39m, \u001b[32m\"2019-08-01\"\u001b[39m),\n",
                            "  (\u001b[32m2\u001b[39m, \u001b[32m7\u001b[39m, \u001b[32m6\u001b[39m, \u001b[32m\"2019-08-02\"\u001b[39m),\n",
                            "  (\u001b[32m4\u001b[39m, \u001b[32m7\u001b[39m, \u001b[32m1\u001b[39m, \u001b[32m\"2019-07-22\"\u001b[39m),\n",
                            "  (\u001b[32m3\u001b[39m, \u001b[32m4\u001b[39m, \u001b[32m4\u001b[39m, \u001b[32m\"2019-07-21\"\u001b[39m),\n",
                            "  (\u001b[32m3\u001b[39m, \u001b[32m4\u001b[39m, \u001b[32m4\u001b[39m, \u001b[32m\"2019-07-21\"\u001b[39m)\n",
                            ")\n",
                            "defined \u001b[32mclass\u001b[39m \u001b[36mViews\u001b[39m\n",
                            "\u001b[36mviewsDs\u001b[39m: \u001b[32mDataset\u001b[39m[\u001b[32mViews\u001b[39m] = [article_id: int, author_id: int ... 2 more fields]"
                        ]
                    },
                    "execution_count": 7,
                    "metadata": {},
                    "output_type": "execute_result"
                }
            ],
            "source": [
                "import spark.implicits._\n",
                "val data = Seq((1, 3, 5, \"2019-08-01\"), (1, 3, 6, \"2019-08-02\"), (2, 7, 7, \"2019-08-01\"), (2, 7, 6, \"2019-08-02\"), (4, 7, 1, \"2019-07-22\"), (3, 4, 4, \"2019-07-21\"), (3, 4, 4, \"2019-07-21\"))\n",
                "case class Views(article_id: Int, author_id: Int, viewer_id: Int, view_date: java.sql.Date)\n",
                "val viewsDs = data.toDF(\"article_id\", \"author_id\", \"viewer_id\", \"view_date\")\n",
                "    .withColumn(\"view_date\", to_date(col(\"view_date\")))\n",
                "    .as[Views]\n",
                "viewsDs.show"
            ]
        },
        {
            "cell_type": "code",
            "execution_count": 15,
            "metadata": {},
            "outputs": [
                {
                    "name": "stdout",
                    "output_type": "stream",
                    "text": [
                        "+---+\n",
                        "| id|\n",
                        "+---+\n",
                        "|  4|\n",
                        "|  7|\n",
                        "+---+\n",
                        "\n"
                    ]
                }
            ],
            "source": [
                "viewsDs.filter((col(\"author_id\") === col(\"viewer_id\")))\n",
                "    .select(col(\"author_id\"))\n",
                "    .withColumnRenamed(\"author_id\", \"id\")\n",
                "    .dropDuplicates()\n",
                "    .sort(col(\"id\"))\n",
                "    .show"
            ]
        },
        {
            "cell_type": "code",
            "execution_count": 16,
            "metadata": {},
            "outputs": [],
            "source": [
                "spark.stop()"
            ]
        }
    ],
    "metadata": {
        "kernelspec": {
            "display_name": "Scala (2.13.10)",
            "language": "scala",
            "name": "scala213"
        },
        "language_info": {
            "codemirror_mode": "text/x-scala",
            "file_extension": ".sc",
            "mimetype": "text/x-scala",
            "name": "scala",
            "nbconvert_exporter": "script",
            "version": "2.13.10"
        }
    },
    "nbformat": 4,
    "nbformat_minor": 2
}