{
 "cells": [
  {
   "cell_type": "code",
   "execution_count": 1,
   "metadata": {},
   "outputs": [
    {
     "name": "stderr",
     "output_type": "stream",
     "text": [
      "SLF4J: No SLF4J providers were found.\n",
      "SLF4J: Defaulting to no-operation (NOP) logger implementation\n",
      "SLF4J: See https://www.slf4j.org/codes.html#noProviders for further details.\n",
      "Using Spark's default log4j profile: org/apache/spark/log4j2-defaults.properties\n"
     ]
    },
    {
     "name": "stdout",
     "output_type": "stream",
     "text": [
      "Spark is ready!\n"
     ]
    },
    {
     "data": {
      "text/plain": [
       "\u001b[32mimport \u001b[39m\u001b[36m$ivy.$                                      \n",
       "\u001b[39m\n",
       "\u001b[32mimport \u001b[39m\u001b[36morg.apache.spark.sql._\n",
       "\u001b[39m\n",
       "\u001b[32mimport \u001b[39m\u001b[36morg.apache.spark.sql.functions._\n",
       "\n",
       "\u001b[39m\n",
       "\u001b[36mspark\u001b[39m: \u001b[32mSparkSession\u001b[39m = org.apache.spark.sql.SparkSession@16d27cbf"
      ]
     },
     "execution_count": 1,
     "metadata": {},
     "output_type": "execute_result"
    }
   ],
   "source": [
    "import $ivy.`org.apache.spark:spark-sql_2.13:3.3.2`\n",
    "import org.apache.spark.sql._\n",
    "import org.apache.spark.sql.functions._\n",
    "\n",
    "val spark = SparkSession.builder()\n",
    "  .appName(\"SparkTest\")\n",
    "  .master(\"local[*]\")\n",
    "  .getOrCreate()\n",
    "spark.sparkContext.setLogLevel(\"ERROR\")\n",
    "  \n",
    "// http://localhost:4040/jobs/\n",
    "println(\"Spark is ready!\")"
   ]
  },
  {
   "cell_type": "code",
   "execution_count": 2,
   "metadata": {},
   "outputs": [
    {
     "data": {
      "text/plain": [
       "\u001b[32mimport \u001b[39m\u001b[36mspark.implicits._\n",
       "\u001b[39m\n",
       "\u001b[32mimport \u001b[39m\u001b[36mjava.sql.Date\n",
       "\n",
       "\u001b[39m\n",
       "defined \u001b[32mclass\u001b[39m \u001b[36mProduct\u001b[39m\n",
       "\u001b[36mproduct\u001b[39m: \u001b[32mSeq\u001b[39m[(\u001b[32mInt\u001b[39m, \u001b[32mInt\u001b[39m, \u001b[32mString\u001b[39m)] = \u001b[33mList\u001b[39m(\n",
       "  (\u001b[32m1\u001b[39m, \u001b[32m20\u001b[39m, \u001b[32m\"2019-08-14\"\u001b[39m),\n",
       "  (\u001b[32m2\u001b[39m, \u001b[32m50\u001b[39m, \u001b[32m\"2019-08-14\"\u001b[39m),\n",
       "  (\u001b[32m1\u001b[39m, \u001b[32m30\u001b[39m, \u001b[32m\"2019-08-15\"\u001b[39m),\n",
       "  (\u001b[32m1\u001b[39m, \u001b[32m35\u001b[39m, \u001b[32m\"2019-08-16\"\u001b[39m),\n",
       "  (\u001b[32m2\u001b[39m, \u001b[32m65\u001b[39m, \u001b[32m\"2019-08-17\"\u001b[39m),\n",
       "  (\u001b[32m3\u001b[39m, \u001b[32m20\u001b[39m, \u001b[32m\"2019-08-18\"\u001b[39m)\n",
       ")\n",
       "\u001b[36mproductsDS\u001b[39m: \u001b[32mDataset\u001b[39m[\u001b[32mProduct\u001b[39m] = [product_id: int, new_price: int ... 1 more field]"
      ]
     },
     "execution_count": 2,
     "metadata": {},
     "output_type": "execute_result"
    }
   ],
   "source": [
    "import spark.implicits._\n",
    "import java.sql.Date\n",
    "\n",
    "case class Product(product_id: Int, new_price: Int, change_date: Date)\n",
    "\n",
    "val product: Seq[(Int, Int, String)] = Seq(\n",
    "  (1, 20, \"2019-08-14\"),\n",
    "  (2, 50, \"2019-08-14\"),\n",
    "  (1, 30, \"2019-08-15\"),\n",
    "  (1, 35, \"2019-08-16\"),\n",
    "  (2, 65, \"2019-08-17\"),\n",
    "  (3, 20, \"2019-08-18\")\n",
    ")\n",
    "\n",
    "val productsDS = product.toDF(\"product_id\", \"new_price\", \"change_date\")\n",
    "  .withColumn(\"change_date\", to_date(col(\"change_date\")))\n",
    "  .as[Product]"
   ]
  },
  {
   "cell_type": "markdown",
   "metadata": {},
   "source": [
    "Write a solution to find the prices of all products on 2019-08-16. Assume the price of all products before any change is 10.\n",
    "\n",
    "Return the result table in any order.\n",
    "\n",
    "The result format is in the following example.\n",
    "\n",
    "| product_id | price |\n",
    "|------------|-------|\n",
    "| 2          | 50    |\n",
    "| 1          | 35    |\n",
    "| 3          | 10    |"
   ]
  },
  {
   "cell_type": "code",
   "execution_count": 3,
   "metadata": {},
   "outputs": [
    {
     "name": "stdout",
     "output_type": "stream",
     "text": [
      "+----------+-----+\n",
      "|product_id|price|\n",
      "+----------+-----+\n",
      "|         1|   35|\n",
      "|         2|   50|\n",
      "|         3|   10|\n",
      "+----------+-----+\n",
      "\n"
     ]
    },
    {
     "data": {
      "text/plain": [
       "\u001b[36mproductIdDF\u001b[39m: \u001b[32mDataset\u001b[39m[\u001b[32mRow\u001b[39m] = [product_id: int]\n",
       "\u001b[36mlastPrice\u001b[39m: \u001b[32mDataFrame\u001b[39m = [product_id: int, change_date: date ... 1 more field]"
      ]
     },
     "execution_count": 3,
     "metadata": {},
     "output_type": "execute_result"
    }
   ],
   "source": [
    "val productIdDF = productsDS.select(col(\"product_id\"))\n",
    "    .dropDuplicates()\n",
    "    \n",
    "val lastPrice = productsDS.filter(col(\"change_date\") <= to_date(lit(\"2019-08-16\")))\n",
    "    .groupBy(\"product_id\")\n",
    "    .agg(max(col(\"change_date\")).as(\"change_date\"))\n",
    "    .join(productsDS, Seq(\"product_id\", \"change_date\"), \"inner\")\n",
    "\n",
    "productIdDF.join(lastPrice, Seq(\"product_id\"), \"left_outer\")\n",
    "    .withColumn(\"price\", when(col(\"new_price\").isNull, 10).otherwise(col(\"new_price\")))\n",
    "    .select(\"product_id\", \"price\")\n",
    "    .show()"
   ]
  },
  {
   "cell_type": "code",
   "execution_count": 4,
   "metadata": {},
   "outputs": [],
   "source": [
    "spark.stop()"
   ]
  }
 ],
 "metadata": {
  "kernelspec": {
   "display_name": "Scala (2.13.10)",
   "language": "scala",
   "name": "scala213"
  },
  "language_info": {
   "codemirror_mode": "text/x-scala",
   "file_extension": ".sc",
   "mimetype": "text/x-scala",
   "name": "scala",
   "nbconvert_exporter": "script",
   "version": "2.13.10"
  }
 },
 "nbformat": 4,
 "nbformat_minor": 2
}
