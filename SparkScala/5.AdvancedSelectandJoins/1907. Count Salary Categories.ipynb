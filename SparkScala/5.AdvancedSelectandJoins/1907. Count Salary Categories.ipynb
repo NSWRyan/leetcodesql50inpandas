{
 "cells": [
  {
   "cell_type": "code",
   "execution_count": 1,
   "metadata": {},
   "outputs": [
    {
     "name": "stderr",
     "output_type": "stream",
     "text": [
      "SLF4J: No SLF4J providers were found.\n",
      "SLF4J: Defaulting to no-operation (NOP) logger implementation\n",
      "SLF4J: See https://www.slf4j.org/codes.html#noProviders for further details.\n",
      "Using Spark's default log4j profile: org/apache/spark/log4j2-defaults.properties\n"
     ]
    },
    {
     "name": "stdout",
     "output_type": "stream",
     "text": [
      "Spark is ready!\n"
     ]
    },
    {
     "data": {
      "text/plain": [
       "\u001b[32mimport \u001b[39m\u001b[36m$ivy.$                                      \n",
       "\u001b[39m\n",
       "\u001b[32mimport \u001b[39m\u001b[36morg.apache.spark.sql._\n",
       "\u001b[39m\n",
       "\u001b[32mimport \u001b[39m\u001b[36morg.apache.spark.sql.functions._\n",
       "\n",
       "\u001b[39m\n",
       "\u001b[36mspark\u001b[39m: \u001b[32mSparkSession\u001b[39m = org.apache.spark.sql.SparkSession@cc8cb8a"
      ]
     },
     "execution_count": 1,
     "metadata": {},
     "output_type": "execute_result"
    }
   ],
   "source": [
    "import $ivy.`org.apache.spark:spark-sql_2.13:3.3.2`\n",
    "import org.apache.spark.sql._\n",
    "import org.apache.spark.sql.functions._\n",
    "\n",
    "val spark = SparkSession.builder()\n",
    "  .appName(\"SparkTest\")\n",
    "  .master(\"local[*]\")\n",
    "  .getOrCreate()\n",
    "spark.sparkContext.setLogLevel(\"ERROR\")\n",
    "  \n",
    "// http://localhost:4040/jobs/\n",
    "println(\"Spark is ready!\")"
   ]
  },
  {
   "cell_type": "code",
   "execution_count": 2,
   "metadata": {},
   "outputs": [
    {
     "data": {
      "text/plain": [
       "\u001b[32mimport \u001b[39m\u001b[36mspark.implicits._\n",
       "\n",
       "\u001b[39m\n",
       "defined \u001b[32mclass\u001b[39m \u001b[36mAccount\u001b[39m\n",
       "\u001b[36maccount\u001b[39m: \u001b[32mSeq\u001b[39m[(\u001b[32mInt\u001b[39m, \u001b[32mInt\u001b[39m)] = \u001b[33mList\u001b[39m((\u001b[32m3\u001b[39m, \u001b[32m108939\u001b[39m), (\u001b[32m2\u001b[39m, \u001b[32m12747\u001b[39m), (\u001b[32m8\u001b[39m, \u001b[32m87709\u001b[39m), (\u001b[32m6\u001b[39m, \u001b[32m91796\u001b[39m))\n",
       "\u001b[36maccountsDS\u001b[39m: \u001b[32mDataset\u001b[39m[\u001b[32mAccount\u001b[39m] = [account_id: int, income: int]"
      ]
     },
     "execution_count": 2,
     "metadata": {},
     "output_type": "execute_result"
    }
   ],
   "source": [
    "import spark.implicits._\n",
    "\n",
    "case class Account(account_id: Int, income: Int)\n",
    "\n",
    "val account: Seq[(Int, Int)] = Seq(\n",
    "  (3, 108939),\n",
    "  (2, 12747),\n",
    "  (8, 87709),\n",
    "  (6, 91796)\n",
    ")\n",
    "\n",
    "val accountsDS = account.toDF(\"account_id\", \"income\").as[Account]"
   ]
  },
  {
   "cell_type": "markdown",
   "metadata": {},
   "source": [
    "Write a solution to calculate the number of bank accounts for each salary category. The salary categories are:\n",
    "\n",
    "* \"Low Salary\": All the salaries strictly less than $20000.\n",
    "* \"Average Salary\": All the salaries in the inclusive range [$20000, $50000].\n",
    "* \"High Salary\": All the salaries strictly greater than $50000.\n",
    "\n",
    "The result table must contain all three categories. If there are no accounts in a category, return 0.\n",
    "\n",
    "Return the result table in any order.\n",
    "\n",
    "The result format is in the following example.\n",
    "\n",
    "| category       | accounts_count |\n",
    "|----------------|----------------|\n",
    "| Low Salary     | 1              |\n",
    "| Average Salary | 0              |\n",
    "| High Salary    | 3              |"
   ]
  },
  {
   "cell_type": "code",
   "execution_count": 3,
   "metadata": {},
   "outputs": [
    {
     "name": "stdout",
     "output_type": "stream",
     "text": [
      "+--------------+--------------+\n",
      "|      category|accounts_count|\n",
      "+--------------+--------------+\n",
      "|    Low Salary|             1|\n",
      "|Average Salary|             0|\n",
      "|   High Salary|             3|\n",
      "+--------------+--------------+\n",
      "\n"
     ]
    },
    {
     "data": {
      "text/plain": [
       "defined \u001b[32mclass\u001b[39m \u001b[36mSalaries\u001b[39m\n",
       "\u001b[36msalaries\u001b[39m: \u001b[32mSeq\u001b[39m[\u001b[32mString\u001b[39m] = \u001b[33mList\u001b[39m(\u001b[32m\"Low Salary\"\u001b[39m, \u001b[32m\"Average Salary\"\u001b[39m, \u001b[32m\"High Salary\"\u001b[39m)\n",
       "\u001b[36msalariesDS\u001b[39m: \u001b[32mDataset\u001b[39m[\u001b[32mSalaries\u001b[39m] = [category: string]"
      ]
     },
     "execution_count": 3,
     "metadata": {},
     "output_type": "execute_result"
    }
   ],
   "source": [
    "case class Salaries(category: String)\n",
    "val salaries: Seq[(String)] = Seq(\n",
    "    \"Low Salary\",\n",
    "    \"Average Salary\",\n",
    "    \"High Salary\",\n",
    ")\n",
    "val salariesDS = salaries.toDF(\"category\").as[Salaries]\n",
    "\n",
    "accountsDS.withColumn(\"cat\", \n",
    "        when(\n",
    "            col(\"income\") < 20000, \"Low Salary\"\n",
    "        ).when(\n",
    "            (col(\"income\") >= 20000 && col(\"income\") <= 50000), \"Average Salary\"\n",
    "        ).otherwise(\"High Salary\")\n",
    "    ).groupBy(\"cat\")\n",
    "    .agg(count(lit(1)).as(\"accounts_count\"))\n",
    "    .join(salariesDS, col(\"cat\") === col(\"category\"), \"right\")\n",
    "    .select(\n",
    "        col(\"category\"),\n",
    "        coalesce(col(\"accounts_count\"), lit(0)).as(\"accounts_count\")\n",
    "    )\n",
    "    .show()\n"
   ]
  },
  {
   "cell_type": "code",
   "execution_count": 4,
   "metadata": {},
   "outputs": [],
   "source": [
    "spark.stop()"
   ]
  }
 ],
 "metadata": {
  "kernelspec": {
   "display_name": "Scala (2.13.10)",
   "language": "scala",
   "name": "scala213"
  },
  "language_info": {
   "codemirror_mode": "text/x-scala",
   "file_extension": ".sc",
   "mimetype": "text/x-scala",
   "name": "scala",
   "nbconvert_exporter": "script",
   "version": "2.13.10"
  }
 },
 "nbformat": 4,
 "nbformat_minor": 2
}
