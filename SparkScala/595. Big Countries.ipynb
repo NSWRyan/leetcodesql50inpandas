{
 "cells": [
  {
   "cell_type": "code",
   "execution_count": null,
   "metadata": {},
   "outputs": [
    {
     "name": "stderr",
     "output_type": "stream",
     "text": [
      "Using Spark's default log4j profile: org/apache/spark/log4j2-defaults.properties\n"
     ]
    },
    {
     "name": "stdout",
     "output_type": "stream",
     "text": [
      "Spark is ready!\n"
     ]
    },
    {
     "data": {
      "text/plain": [
       "\u001b[32mimport \u001b[39m\u001b[36m$ivy.$                                      \n",
       "\u001b[39m\n",
       "\u001b[32mimport \u001b[39m\u001b[36morg.apache.spark.sql._\n",
       "\u001b[39m\n",
       "\u001b[32mimport \u001b[39m\u001b[36morg.apache.spark.sql.functions._\n",
       "\n",
       "\u001b[39m\n",
       "\u001b[36mspark\u001b[39m: \u001b[32mSparkSession\u001b[39m = org.apache.spark.sql.SparkSession@52e5c0d2\n",
       "\u001b[32mimport \u001b[39m\u001b[36mspark.implicits._\u001b[39m"
      ]
     },
     "execution_count": 2,
     "metadata": {},
     "output_type": "execute_result"
    }
   ],
   "source": [
    "import $ivy.`org.apache.spark:spark-sql_2.13:3.3.2`\n",
    "import org.apache.spark.sql._\n",
    "import org.apache.spark.sql.functions._\n",
    "\n",
    "val spark = SparkSession.builder()\n",
    "  .appName(\"SparkTest\")\n",
    "  .master(\"local[*]\")  // Runs on local machine with 1 local worker / thread, so we can see the impact on COPY_ON_WRITE\n",
    "  .getOrCreate()\n",
    "spark.sparkContext.setLogLevel(\"ERROR\")\n",
    "  \n",
    "// http://localhost:4040/jobs/\n",
    "println(\"Spark is ready!\")\n",
    "\n",
    "import spark.implicits._"
   ]
  },
  {
   "cell_type": "code",
   "execution_count": 6,
   "metadata": {},
   "outputs": [
    {
     "name": "stdout",
     "output_type": "stream",
     "text": [
      "+-----------+---------+-------+----------+------------+\n",
      "|       name|continent|   area|population|         gdp|\n",
      "+-----------+---------+-------+----------+------------+\n",
      "|Afghanistan|     Asia| 652230|  25500100| 20343000000|\n",
      "|    Albania|   Europe|  28748|   2831741| 12960000000|\n",
      "|    Algeria|   Africa|2381741|  37100000|188681000000|\n",
      "|    Andorra|   Europe|    468|     78115|  3712000000|\n",
      "|     Angola|   Africa|1246700|  20609294|100990000000|\n",
      "+-----------+---------+-------+----------+------------+\n",
      "\n"
     ]
    },
    {
     "data": {
      "text/plain": [
       "defined \u001b[32mclass\u001b[39m \u001b[36mWorld\u001b[39m\n",
       "\u001b[36mdata\u001b[39m: \u001b[32mSeq\u001b[39m[\u001b[32mWorld\u001b[39m] = \u001b[33mList\u001b[39m(\n",
       "  \u001b[33mWorld\u001b[39m(\n",
       "    name = \u001b[32m\"Afghanistan\"\u001b[39m,\n",
       "    continent = \u001b[32m\"Asia\"\u001b[39m,\n",
       "    area = \u001b[32m652230\u001b[39m,\n",
       "    population = \u001b[32m25500100\u001b[39m,\n",
       "    gdp = \u001b[32m20343000000L\u001b[39m\n",
       "  ),\n",
       "  \u001b[33mWorld\u001b[39m(\n",
       "    name = \u001b[32m\"Albania\"\u001b[39m,\n",
       "    continent = \u001b[32m\"Europe\"\u001b[39m,\n",
       "    area = \u001b[32m28748\u001b[39m,\n",
       "    population = \u001b[32m2831741\u001b[39m,\n",
       "    gdp = \u001b[32m12960000000L\u001b[39m\n",
       "  ),\n",
       "  \u001b[33mWorld\u001b[39m(\n",
       "    name = \u001b[32m\"Algeria\"\u001b[39m,\n",
       "    continent = \u001b[32m\"Africa\"\u001b[39m,\n",
       "    area = \u001b[32m2381741\u001b[39m,\n",
       "    population = \u001b[32m37100000\u001b[39m,\n",
       "    gdp = \u001b[32m188681000000L\u001b[39m\n",
       "  ),\n",
       "  \u001b[33mWorld\u001b[39m(\n",
       "    name = \u001b[32m\"Andorra\"\u001b[39m,\n",
       "    continent = \u001b[32m\"Europe\"\u001b[39m,\n",
       "    area = \u001b[32m468\u001b[39m,\n",
       "    population = \u001b[32m78115\u001b[39m,\n",
       "    gdp = \u001b[32m3712000000L\u001b[39m\n",
       "  ),\n",
       "  \u001b[33mWorld\u001b[39m(\n",
       "    name = \u001b[32m\"Angola\"\u001b[39m,\n",
       "    continent = \u001b[32m\"Africa\"\u001b[39m,\n",
       "    area = \u001b[32m1246700\u001b[39m,\n",
       "    population = \u001b[32m20609294\u001b[39m,\n",
       "    gdp = \u001b[32m100990000000L\u001b[39m\n",
       "  )\n",
       ")\n",
       "\u001b[36mworldDs\u001b[39m: \u001b[32mDataset\u001b[39m[\u001b[32mWorld\u001b[39m] = [name: string, continent: string ... 3 more fields]"
      ]
     },
     "execution_count": 6,
     "metadata": {},
     "output_type": "execute_result"
    }
   ],
   "source": [
    "case class World(name: String, continent: String, area: Int, population: Int, gdp: Long)\n",
    "\n",
    "val data = Seq(\n",
    "  World(\"Afghanistan\", \"Asia\", 652230, 25500100, 20343000000L),\n",
    "  World(\"Albania\", \"Europe\", 28748, 2831741, 12960000000L),\n",
    "  World(\"Algeria\", \"Africa\", 2381741, 37100000, 188681000000L),\n",
    "  World(\"Andorra\", \"Europe\", 468, 78115, 3712000000L),\n",
    "  World(\"Angola\", \"Africa\", 1246700, 20609294, 100990000000L)\n",
    ")\n",
    "\n",
    "val worldDs : Dataset[World] = data.toDS()\n",
    "worldDs.show"
   ]
  },
  {
   "cell_type": "markdown",
   "metadata": {},
   "source": [
    "A country is big if:\n",
    "\n",
    "* it has an area of at least three million (i.e., 3000000 km2), or\n",
    "* it has a population of at least twenty-five million (i.e., 25000000).\n",
    "* Write a solution to find the name, population, and area of the big countries.\n",
    "\n",
    "Return the result table in any order.\n",
    "\n",
    "The result format is in the following example."
   ]
  },
  {
   "cell_type": "code",
   "execution_count": 14,
   "metadata": {},
   "outputs": [
    {
     "name": "stdout",
     "output_type": "stream",
     "text": [
      "+-----------+----------+-------+\n",
      "|       name|population|   area|\n",
      "+-----------+----------+-------+\n",
      "|Afghanistan|  25500100| 652230|\n",
      "|    Algeria|  37100000|2381741|\n",
      "+-----------+----------+-------+\n",
      "\n"
     ]
    }
   ],
   "source": [
    "worldDs.filter((col(\"area\") >= 3000000) || (col(\"population\") >= 25000000))\n",
    "    .select(col(\"name\"), col(\"population\"), col(\"area\"))\n",
    "    .show"
   ]
  },
  {
   "cell_type": "code",
   "execution_count": 31,
   "metadata": {},
   "outputs": [],
   "source": [
    "spark.stop()"
   ]
  }
 ],
 "metadata": {
  "kernelspec": {
   "display_name": "Scala (2.13.10)",
   "language": "scala",
   "name": "scala213"
  },
  "language_info": {
   "codemirror_mode": "text/x-scala",
   "file_extension": ".sc",
   "mimetype": "text/x-scala",
   "name": "scala",
   "nbconvert_exporter": "script",
   "version": "2.13.10"
  }
 },
 "nbformat": 4,
 "nbformat_minor": 2
}
