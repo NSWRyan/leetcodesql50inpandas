{
    "cells": [
        {
            "cell_type": "code",
            "execution_count": 1,
            "metadata": {},
            "outputs": [
                {
                    "name": "stderr",
                    "output_type": "stream",
                    "text": [
                        "SLF4J: No SLF4J providers were found.\n",
                        "SLF4J: Defaulting to no-operation (NOP) logger implementation\n",
                        "SLF4J: See https://www.slf4j.org/codes.html#noProviders for further details.\n",
                        "Using Spark's default log4j profile: org/apache/spark/log4j2-defaults.properties\n"
                    ]
                },
                {
                    "name": "stdout",
                    "output_type": "stream",
                    "text": [
                        "Spark is ready!\n"
                    ]
                },
                {
                    "data": {
                        "text/plain": [
                            "\u001b[32mimport \u001b[39m\u001b[36m$ivy.$                                      \n",
                            "\u001b[39m\n",
                            "\u001b[32mimport \u001b[39m\u001b[36morg.apache.spark.sql._\n",
                            "\u001b[39m\n",
                            "\u001b[32mimport \u001b[39m\u001b[36morg.apache.spark.sql.functions._\n",
                            "\n",
                            "\u001b[39m\n",
                            "\u001b[36mspark\u001b[39m: \u001b[32mSparkSession\u001b[39m = org.apache.spark.sql.SparkSession@2e85c548"
                        ]
                    },
                    "execution_count": 1,
                    "metadata": {},
                    "output_type": "execute_result"
                }
            ],
            "source": [
                "import $ivy.`org.apache.spark:spark-sql_2.13:3.3.2`\n",
                "import org.apache.spark.sql._\n",
                "import org.apache.spark.sql.functions._\n",
                "\n",
                "val spark = SparkSession.builder()\n",
                "  .appName(\"SparkTest\")\n",
                "  .master(\"local[*]\")\n",
                "  .getOrCreate()\n",
                "spark.sparkContext.setLogLevel(\"ERROR\")\n",
                "  \n",
                "// http://localhost:4040/jobs/\n",
                "println(\"Spark is ready!\")"
            ]
        },
        {
            "cell_type": "code",
            "execution_count": 2,
            "metadata": {},
            "outputs": [
                {
                    "data": {
                        "text/plain": [
                            "\u001b[32mimport \u001b[39m\u001b[36mspark.implicits._\n",
                            "\n",
                            "\u001b[39m\n",
                            "defined \u001b[32mclass\u001b[39m \u001b[36mTransaction\u001b[39m\n",
                            "\u001b[36mtransactionData\u001b[39m: \u001b[32mSeq\u001b[39m[(\u001b[32mInt\u001b[39m, \u001b[32mString\u001b[39m, \u001b[32mString\u001b[39m, \u001b[32mInt\u001b[39m, \u001b[32mString\u001b[39m)] = \u001b[33mList\u001b[39m(\n",
                            "  (\u001b[32m121\u001b[39m, \u001b[32m\"US\"\u001b[39m, \u001b[32m\"approved\"\u001b[39m, \u001b[32m1000\u001b[39m, \u001b[32m\"2018-12-18\"\u001b[39m),\n",
                            "  (\u001b[32m122\u001b[39m, \u001b[32m\"US\"\u001b[39m, \u001b[32m\"declined\"\u001b[39m, \u001b[32m2000\u001b[39m, \u001b[32m\"2018-12-19\"\u001b[39m),\n",
                            "  (\u001b[32m123\u001b[39m, \u001b[32m\"US\"\u001b[39m, \u001b[32m\"approved\"\u001b[39m, \u001b[32m2000\u001b[39m, \u001b[32m\"2019-01-01\"\u001b[39m),\n",
                            "  (\u001b[32m124\u001b[39m, \u001b[32m\"DE\"\u001b[39m, \u001b[32m\"approved\"\u001b[39m, \u001b[32m2000\u001b[39m, \u001b[32m\"2019-01-07\"\u001b[39m),\n",
                            "  (\u001b[32m124\u001b[39m, \u001b[32mnull\u001b[39m, \u001b[32m\"approved\"\u001b[39m, \u001b[32m2000\u001b[39m, \u001b[32m\"2019-01-07\"\u001b[39m)\n",
                            ")\n",
                            "\u001b[36mtransactionsDS\u001b[39m: \u001b[32mDataset\u001b[39m[\u001b[32mTransaction\u001b[39m] = [id: int, country: string ... 3 more fields]"
                        ]
                    },
                    "execution_count": 2,
                    "metadata": {},
                    "output_type": "execute_result"
                }
            ],
            "source": [
                "import spark.implicits._\n",
                "\n",
                "case class Transaction(id: Int, country: String, state: String, amount: Int, trans_date: java.sql.Date)\n",
                "\n",
                "val transactionData: Seq[(Int, String, String, Int, String)] = Seq(\n",
                "  (121, \"US\", \"approved\", 1000, \"2018-12-18\"),\n",
                "  (122, \"US\", \"declined\", 2000, \"2018-12-19\"),\n",
                "  (123, \"US\", \"approved\", 2000, \"2019-01-01\"),\n",
                "  (124, \"DE\", \"approved\", 2000, \"2019-01-07\"),\n",
                "  (124, null, \"approved\", 2000, \"2019-01-07\")\n",
                ")\n",
                "\n",
                "val transactionsDS = transactionData\n",
                "  .toDF(\"id\", \"country\", \"state\", \"amount\", \"trans_date\")\n",
                "  .withColumn(\"trans_date\", to_date(col(\"trans_date\")))\n",
                "  .as[Transaction]\n"
            ]
        },
        {
            "cell_type": "markdown",
            "metadata": {},
            "source": [
                "Write an SQL query to find for each month and country, the number of transactions and their total amount, the number of approved transactions and their total amount.\n",
                "\n",
                "Return the result table in any order.\n",
                "\n",
                "The query result format is in the following example.\n",
                "\n",
                "| month    | country | trans_count | approved_count | trans_total_amount | approved_total_amount |\n",
                "|----------|---------|-------------|----------------|--------------------|-----------------------|\n",
                "| 2018-12  | US      | 2           | 1              | 3000               | 1000                  |\n",
                "| 2019-01  | US      | 1           | 1              | 2000               | 2000                  |\n",
                "| 2019-01  | DE      | 1           | 1              | 2000               | 2000                  |"
            ]
        },
        {
            "cell_type": "code",
            "execution_count": 3,
            "metadata": {},
            "outputs": [
                {
                    "name": "stdout",
                    "output_type": "stream",
                    "text": [
                        "+---+-------+--------+------+----------+\n",
                        "| id|country|   state|amount|trans_date|\n",
                        "+---+-------+--------+------+----------+\n",
                        "|121|     US|approved|  1000|2018-12-18|\n",
                        "|122|     US|declined|  2000|2018-12-19|\n",
                        "|123|     US|approved|  2000|2019-01-01|\n",
                        "|124|     DE|approved|  2000|2019-01-07|\n",
                        "|124|   null|approved|  2000|2019-01-07|\n",
                        "+---+-------+--------+------+----------+\n",
                        "\n"
                    ]
                }
            ],
            "source": [
                "transactionsDS.show()"
            ]
        },
        {
            "cell_type": "code",
            "execution_count": 4,
            "metadata": {},
            "outputs": [
                {
                    "name": "stdout",
                    "output_type": "stream",
                    "text": [
                        "+-------+-------+-----------+--------------+------------------+---------------------+\n",
                        "|  month|country|trans_count|approved_count|trans_total_amount|approved_total_amount|\n",
                        "+-------+-------+-----------+--------------+------------------+---------------------+\n",
                        "|2018-12|     US|          2|             1|              3000|                 1000|\n",
                        "|2019-01|     US|          1|             1|              2000|                 2000|\n",
                        "|2019-01|     DE|          1|             1|              2000|                 2000|\n",
                        "|2019-01|   null|          1|             1|              2000|                 2000|\n",
                        "+-------+-------+-----------+--------------+------------------+---------------------+\n",
                        "\n"
                    ]
                }
            ],
            "source": [
                "transactionsDS.withColumn(\"month\", date_format(col(\"trans_date\"), \"yyyy-MM\"))\n",
                "    .withColumn(\"state\", when(col(\"state\") === \"approved\", 1).otherwise(0))\n",
                "    .groupBy(col(\"month\"), col(\"country\"))\n",
                "    .agg(\n",
                "        count(lit(1)).as(\"trans_count\"),\n",
                "        sum(col(\"state\")).as(\"approved_count\"),\n",
                "        sum(col(\"amount\")).as(\"trans_total_amount\"),\n",
                "        sum(col(\"amount\") * col(\"state\")).as(\"approved_total_amount\")\n",
                "    )\n",
                "    .show()"
            ]
        },
        {
            "cell_type": "code",
            "execution_count": 5,
            "metadata": {},
            "outputs": [],
            "source": [
                "spark.stop"
            ]
        }
    ],
    "metadata": {
        "kernelspec": {
            "display_name": "Scala (2.13.10)",
            "language": "scala",
            "name": "scala213"
        },
        "language_info": {
            "codemirror_mode": "text/x-scala",
            "file_extension": ".sc",
            "mimetype": "text/x-scala",
            "name": "scala",
            "nbconvert_exporter": "script",
            "version": "2.13.10"
        }
    },
    "nbformat": 4,
    "nbformat_minor": 2
}
