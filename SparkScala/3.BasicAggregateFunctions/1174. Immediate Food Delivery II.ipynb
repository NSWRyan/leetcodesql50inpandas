{
    "cells": [
        {
            "cell_type": "code",
            "execution_count": 1,
            "metadata": {},
            "outputs": [
                {
                    "name": "stderr",
                    "output_type": "stream",
                    "text": [
                        "SLF4J: No SLF4J providers were found.\n",
                        "SLF4J: Defaulting to no-operation (NOP) logger implementation\n",
                        "SLF4J: See https://www.slf4j.org/codes.html#noProviders for further details.\n",
                        "Using Spark's default log4j profile: org/apache/spark/log4j2-defaults.properties\n"
                    ]
                },
                {
                    "name": "stdout",
                    "output_type": "stream",
                    "text": [
                        "Spark is ready!\n"
                    ]
                },
                {
                    "data": {
                        "text/plain": [
                            "\u001b[32mimport \u001b[39m\u001b[36m$ivy.$                                      \n",
                            "\u001b[39m\n",
                            "\u001b[32mimport \u001b[39m\u001b[36morg.apache.spark.sql._\n",
                            "\u001b[39m\n",
                            "\u001b[32mimport \u001b[39m\u001b[36morg.apache.spark.sql.functions._\n",
                            "\n",
                            "\u001b[39m\n",
                            "\u001b[36mspark\u001b[39m: \u001b[32mSparkSession\u001b[39m = org.apache.spark.sql.SparkSession@44a0a51f"
                        ]
                    },
                    "execution_count": 1,
                    "metadata": {},
                    "output_type": "execute_result"
                }
            ],
            "source": [
                "import $ivy.`org.apache.spark:spark-sql_2.13:3.3.2`\n",
                "import org.apache.spark.sql._\n",
                "import org.apache.spark.sql.functions._\n",
                "\n",
                "val spark = SparkSession.builder()\n",
                "  .appName(\"SparkTest\")\n",
                "  .master(\"local[*]\")\n",
                "  .getOrCreate()\n",
                "spark.sparkContext.setLogLevel(\"ERROR\")\n",
                "  \n",
                "// http://localhost:4040/jobs/\n",
                "println(\"Spark is ready!\")"
            ]
        },
        {
            "cell_type": "code",
            "execution_count": 2,
            "metadata": {},
            "outputs": [
                {
                    "data": {
                        "text/plain": [
                            "\u001b[32mimport \u001b[39m\u001b[36mspark.implicits._\n",
                            "\u001b[39m\n",
                            "\u001b[32mimport \u001b[39m\u001b[36mjava.sql.Date\n",
                            "\n",
                            "\u001b[39m\n",
                            "defined \u001b[32mclass\u001b[39m \u001b[36mDelivery\u001b[39m\n",
                            "\u001b[36mdeliveryData\u001b[39m: \u001b[32mSeq\u001b[39m[(\u001b[32mInt\u001b[39m, \u001b[32mInt\u001b[39m, \u001b[32mDate\u001b[39m, \u001b[32mDate\u001b[39m)] = \u001b[33mList\u001b[39m(\n",
                            "  (\u001b[32m1\u001b[39m, \u001b[32m1\u001b[39m, 2019-08-01, 2019-08-02),\n",
                            "  (\u001b[32m2\u001b[39m, \u001b[32m2\u001b[39m, 2019-08-02, 2019-08-02),\n",
                            "  (\u001b[32m3\u001b[39m, \u001b[32m1\u001b[39m, 2019-08-11, 2019-08-12),\n",
                            "  (\u001b[32m4\u001b[39m, \u001b[32m3\u001b[39m, 2019-08-24, 2019-08-24),\n",
                            "  (\u001b[32m5\u001b[39m, \u001b[32m3\u001b[39m, 2019-08-21, 2019-08-22),\n",
                            "  (\u001b[32m6\u001b[39m, \u001b[32m2\u001b[39m, 2019-08-11, 2019-08-13),\n",
                            "  (\u001b[32m7\u001b[39m, \u001b[32m4\u001b[39m, 2019-08-09, 2019-08-09)\n",
                            ")\n",
                            "\u001b[36mdeliveryDS\u001b[39m: \u001b[32mDataset\u001b[39m[\u001b[32mDelivery\u001b[39m] = [delivery_id: int, customer_id: int ... 2 more fields]"
                        ]
                    },
                    "execution_count": 2,
                    "metadata": {},
                    "output_type": "execute_result"
                }
            ],
            "source": [
                "import spark.implicits._\n",
                "import java.sql.Date\n",
                "\n",
                "case class Delivery(\n",
                "  delivery_id: Int,\n",
                "  customer_id: Int,\n",
                "  order_date: Date,\n",
                "  customer_pref_delivery_date: Date\n",
                ")\n",
                "\n",
                "val deliveryData: Seq[(Int, Int, Date, Date)] = Seq(\n",
                "  (1, 1, Date.valueOf(\"2019-08-01\"), Date.valueOf(\"2019-08-02\")),\n",
                "  (2, 2, Date.valueOf(\"2019-08-02\"), Date.valueOf(\"2019-08-02\")),\n",
                "  (3, 1, Date.valueOf(\"2019-08-11\"), Date.valueOf(\"2019-08-12\")),\n",
                "  (4, 3, Date.valueOf(\"2019-08-24\"), Date.valueOf(\"2019-08-24\")),\n",
                "  (5, 3, Date.valueOf(\"2019-08-21\"), Date.valueOf(\"2019-08-22\")),\n",
                "  (6, 2, Date.valueOf(\"2019-08-11\"), Date.valueOf(\"2019-08-13\")),\n",
                "  (7, 4, Date.valueOf(\"2019-08-09\"), Date.valueOf(\"2019-08-09\"))\n",
                ")\n",
                "\n",
                "val deliveryDS = deliveryData.toDF(\n",
                "  \"delivery_id\",\n",
                "  \"customer_id\",\n",
                "  \"order_date\",\n",
                "  \"customer_pref_delivery_date\"\n",
                ").as[Delivery]"
            ]
        },
        {
            "cell_type": "markdown",
            "metadata": {},
            "source": [
                "If the customer's preferred delivery date is the same as the order date, then the order is called immediate; otherwise, it is called scheduled.\n",
                "\n",
                "The first order of a customer is the order with the earliest order date that the customer made. It is guaranteed that a customer has precisely one first order.\n",
                "\n",
                "Write a solution to find the percentage of immediate orders in the first orders of all customers, rounded to 2 decimal places.\n",
                "\n",
                "The result format is in the following example.\n",
                "\n",
                "| immediate_percentage |\n",
                "|----------------------|\n",
                "| 50.00                |"
            ]
        },
        {
            "cell_type": "code",
            "execution_count": 3,
            "metadata": {},
            "outputs": [
                {
                    "name": "stdout",
                    "output_type": "stream",
                    "text": [
                        "+-----------+-----------+----------+---------------------------+\n",
                        "|delivery_id|customer_id|order_date|customer_pref_delivery_date|\n",
                        "+-----------+-----------+----------+---------------------------+\n",
                        "|          1|          1|2019-08-01|                 2019-08-02|\n",
                        "|          2|          2|2019-08-02|                 2019-08-02|\n",
                        "|          3|          1|2019-08-11|                 2019-08-12|\n",
                        "|          4|          3|2019-08-24|                 2019-08-24|\n",
                        "|          5|          3|2019-08-21|                 2019-08-22|\n",
                        "|          6|          2|2019-08-11|                 2019-08-13|\n",
                        "|          7|          4|2019-08-09|                 2019-08-09|\n",
                        "+-----------+-----------+----------+---------------------------+\n",
                        "\n"
                    ]
                }
            ],
            "source": [
                "deliveryDS.show()"
            ]
        },
        {
            "cell_type": "code",
            "execution_count": 4,
            "metadata": {},
            "outputs": [
                {
                    "name": "stdout",
                    "output_type": "stream",
                    "text": [
                        "+--------------------+\n",
                        "|immediate_percentage|\n",
                        "+--------------------+\n",
                        "|                50.0|\n",
                        "+--------------------+\n",
                        "\n"
                    ]
                }
            ],
            "source": [
                "deliveryDS.groupBy(\"customer_id\")\n",
                "    .agg(min(col(\"order_date\")).as(\"order_date\"))\n",
                "    .join(deliveryDS, Seq(\"customer_id\", \"order_date\"))\n",
                "    .withColumn(\"enable\", when(col(\"order_date\") === col(\"customer_pref_delivery_date\"), 1).otherwise(0))\n",
                "    .select(col(\"enable\"))\n",
                "    .agg(round(sum(col(\"enable\")) * 100 / count(lit(1)), 2).as(\"immediate_percentage\"))\n",
                "    .show()"
            ]
        },
        {
            "cell_type": "code",
            "execution_count": 5,
            "metadata": {},
            "outputs": [],
            "source": [
                "spark.stop"
            ]
        }
    ],
    "metadata": {
        "kernelspec": {
            "display_name": "Scala (2.13.10)",
            "language": "scala",
            "name": "scala213"
        },
        "language_info": {
            "codemirror_mode": "text/x-scala",
            "file_extension": ".sc",
            "mimetype": "text/x-scala",
            "name": "scala",
            "nbconvert_exporter": "script",
            "version": "2.13.10"
        }
    },
    "nbformat": 4,
    "nbformat_minor": 2
}
