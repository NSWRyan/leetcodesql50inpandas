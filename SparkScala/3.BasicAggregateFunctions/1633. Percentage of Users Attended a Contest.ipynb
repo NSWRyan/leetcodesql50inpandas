{
    "cells": [
        {
            "cell_type": "code",
            "execution_count": 1,
            "metadata": {},
            "outputs": [
                {
                    "name": "stderr",
                    "output_type": "stream",
                    "text": [
                        "SLF4J: No SLF4J providers were found.\n",
                        "SLF4J: Defaulting to no-operation (NOP) logger implementation\n",
                        "SLF4J: See https://www.slf4j.org/codes.html#noProviders for further details.\n",
                        "Using Spark's default log4j profile: org/apache/spark/log4j2-defaults.properties\n"
                    ]
                },
                {
                    "name": "stdout",
                    "output_type": "stream",
                    "text": [
                        "Spark is ready!\n"
                    ]
                },
                {
                    "data": {
                        "text/plain": [
                            "\u001b[32mimport \u001b[39m\u001b[36m$ivy.$                                      \n",
                            "\u001b[39m\n",
                            "\u001b[32mimport \u001b[39m\u001b[36morg.apache.spark.sql._\n",
                            "\u001b[39m\n",
                            "\u001b[32mimport \u001b[39m\u001b[36morg.apache.spark.sql.functions._\n",
                            "\n",
                            "\u001b[39m\n",
                            "\u001b[36mspark\u001b[39m: \u001b[32mSparkSession\u001b[39m = org.apache.spark.sql.SparkSession@722ddbaf"
                        ]
                    },
                    "execution_count": 1,
                    "metadata": {},
                    "output_type": "execute_result"
                }
            ],
            "source": [
                "import $ivy.`org.apache.spark:spark-sql_2.13:3.3.2`\n",
                "import org.apache.spark.sql._\n",
                "import org.apache.spark.sql.functions._\n",
                "\n",
                "val spark = SparkSession.builder()\n",
                "  .appName(\"SparkTest\")\n",
                "  .master(\"local[*]\")\n",
                "  .getOrCreate()\n",
                "spark.sparkContext.setLogLevel(\"ERROR\")\n",
                "  \n",
                "// http://localhost:4040/jobs/\n",
                "println(\"Spark is ready!\")"
            ]
        },
        {
            "cell_type": "code",
            "execution_count": 2,
            "metadata": {},
            "outputs": [
                {
                    "name": "stdout",
                    "output_type": "stream",
                    "text": [
                        "+-------+---------+\n",
                        "|user_id|user_name|\n",
                        "+-------+---------+\n",
                        "|      6|    Alice|\n",
                        "|      2|      Bob|\n",
                        "|      7|     Alex|\n",
                        "+-------+---------+\n",
                        "\n",
                        "+----------+-------+\n",
                        "|contest_id|user_id|\n",
                        "+----------+-------+\n",
                        "|       215|      6|\n",
                        "|       209|      2|\n",
                        "|       208|      2|\n",
                        "|       210|      6|\n",
                        "|       208|      6|\n",
                        "|       209|      7|\n",
                        "|       209|      6|\n",
                        "|       215|      7|\n",
                        "|       208|      7|\n",
                        "|       210|      2|\n",
                        "|       207|      2|\n",
                        "|       210|      7|\n",
                        "+----------+-------+\n",
                        "\n"
                    ]
                },
                {
                    "data": {
                        "text/plain": [
                            "\u001b[32mimport \u001b[39m\u001b[36mspark.implicits._\n",
                            "\n",
                            "\u001b[39m\n",
                            "defined \u001b[32mclass\u001b[39m \u001b[36mUser\u001b[39m\n",
                            "defined \u001b[32mclass\u001b[39m \u001b[36mRegister\u001b[39m\n",
                            "\u001b[36muserData\u001b[39m: \u001b[32mSeq\u001b[39m[(\u001b[32mInt\u001b[39m, \u001b[32mString\u001b[39m)] = \u001b[33mList\u001b[39m((\u001b[32m6\u001b[39m, \u001b[32m\"Alice\"\u001b[39m), (\u001b[32m2\u001b[39m, \u001b[32m\"Bob\"\u001b[39m), (\u001b[32m7\u001b[39m, \u001b[32m\"Alex\"\u001b[39m))\n",
                            "\u001b[36mregisterData\u001b[39m: \u001b[32mSeq\u001b[39m[(\u001b[32mInt\u001b[39m, \u001b[32mInt\u001b[39m)] = \u001b[33mList\u001b[39m(\n",
                            "  (\u001b[32m215\u001b[39m, \u001b[32m6\u001b[39m),\n",
                            "  (\u001b[32m209\u001b[39m, \u001b[32m2\u001b[39m),\n",
                            "  (\u001b[32m208\u001b[39m, \u001b[32m2\u001b[39m),\n",
                            "  (\u001b[32m210\u001b[39m, \u001b[32m6\u001b[39m),\n",
                            "  (\u001b[32m208\u001b[39m, \u001b[32m6\u001b[39m),\n",
                            "  (\u001b[32m209\u001b[39m, \u001b[32m7\u001b[39m),\n",
                            "  (\u001b[32m209\u001b[39m, \u001b[32m6\u001b[39m),\n",
                            "  (\u001b[32m215\u001b[39m, \u001b[32m7\u001b[39m),\n",
                            "  (\u001b[32m208\u001b[39m, \u001b[32m7\u001b[39m),\n",
                            "  (\u001b[32m210\u001b[39m, \u001b[32m2\u001b[39m),\n",
                            "  (\u001b[32m207\u001b[39m, \u001b[32m2\u001b[39m),\n",
                            "  (\u001b[32m210\u001b[39m, \u001b[32m7\u001b[39m)\n",
                            ")\n",
                            "\u001b[36musersDS\u001b[39m: \u001b[32mDataset\u001b[39m[\u001b[32mUser\u001b[39m] = [user_id: int, user_name: string]\n",
                            "\u001b[36mregisterDS\u001b[39m: \u001b[32mDataset\u001b[39m[\u001b[32mRegister\u001b[39m] = [contest_id: int, user_id: int]"
                        ]
                    },
                    "execution_count": 2,
                    "metadata": {},
                    "output_type": "execute_result"
                }
            ],
            "source": [
                "import spark.implicits._\n",
                "\n",
                "case class User(user_id: Int, user_name: String)\n",
                "case class Register(contest_id: Int, user_id: Int)\n",
                "\n",
                "val userData: Seq[(Int, String)] = Seq(\n",
                "  (6, \"Alice\"),\n",
                "  (2, \"Bob\"),\n",
                "  (7, \"Alex\")\n",
                ")\n",
                "\n",
                "val registerData: Seq[(Int, Int)] = Seq(\n",
                "  (215, 6),\n",
                "  (209, 2),\n",
                "  (208, 2),\n",
                "  (210, 6),\n",
                "  (208, 6),\n",
                "  (209, 7),\n",
                "  (209, 6),\n",
                "  (215, 7),\n",
                "  (208, 7),\n",
                "  (210, 2),\n",
                "  (207, 2),\n",
                "  (210, 7)\n",
                ")\n",
                "\n",
                "val usersDS = userData.toDF(\"user_id\", \"user_name\").as[User]\n",
                "val registerDS = registerData.toDF(\"contest_id\", \"user_id\").as[Register]\n",
                "\n",
                "usersDS.show()\n",
                "registerDS.show()"
            ]
        },
        {
            "cell_type": "markdown",
            "metadata": {},
            "source": [
                "Write a solution to find the percentage of the users registered in each contest rounded to two decimals.\n",
                "\n",
                "Return the result table ordered by percentage in descending order. In case of a tie, order it by contest_id in ascending order.\n",
                "\n",
                "The result format is in the following example.\n",
                "\n",
                "\n",
                "| contest_id | percentage |\n",
                "|------------|------------|\n",
                "| 208        | 100.0      |\n",
                "| 209        | 100.0      |\n",
                "| 210        | 100.0      |\n",
                "| 215        | 66.67      |\n",
                "| 207        | 33.33      |"
            ]
        },
        {
            "cell_type": "code",
            "execution_count": 3,
            "metadata": {},
            "outputs": [
                {
                    "name": "stdout",
                    "output_type": "stream",
                    "text": [
                        "+----------+----------+\n",
                        "|contest_id|percentage|\n",
                        "+----------+----------+\n",
                        "|       208|     100.0|\n",
                        "|       209|     100.0|\n",
                        "|       210|     100.0|\n",
                        "|       215|     66.67|\n",
                        "|       207|     33.33|\n",
                        "+----------+----------+\n",
                        "\n"
                    ]
                },
                {
                    "data": {
                        "text/plain": [
                            "\u001b[36muserCount\u001b[39m: \u001b[32mLong\u001b[39m = \u001b[32m3L\u001b[39m"
                        ]
                    },
                    "execution_count": 3,
                    "metadata": {},
                    "output_type": "execute_result"
                }
            ],
            "source": [
                "val userCount = usersDS.select(\"user_id\")\n",
                "    .dropDuplicates()\n",
                "    .count()\n",
                "registerDS.groupBy(\"contest_id\")\n",
                "    .agg(round((count(\"user_id\") * 100.0 / userCount), 2).as(\"percentage\"))\n",
                "    .sort(col(\"percentage\").desc, col(\"contest_id\").asc)\n",
                "    .show()\n"
            ]
        },
        {
            "cell_type": "code",
            "execution_count": 4,
            "metadata": {},
            "outputs": [],
            "source": [
                "spark.stop"
            ]
        }
    ],
    "metadata": {
        "kernelspec": {
            "display_name": "Scala (2.13.10)",
            "language": "scala",
            "name": "scala213"
        },
        "language_info": {
            "codemirror_mode": "text/x-scala",
            "file_extension": ".sc",
            "mimetype": "text/x-scala",
            "name": "scala",
            "nbconvert_exporter": "script",
            "version": "2.13.10"
        }
    },
    "nbformat": 4,
    "nbformat_minor": 2
}
