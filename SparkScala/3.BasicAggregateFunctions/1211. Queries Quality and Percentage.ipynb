{
    "cells": [
        {
            "cell_type": "code",
            "execution_count": 1,
            "metadata": {},
            "outputs": [
                {
                    "name": "stderr",
                    "output_type": "stream",
                    "text": [
                        "SLF4J: No SLF4J providers were found.\n",
                        "SLF4J: Defaulting to no-operation (NOP) logger implementation\n",
                        "SLF4J: See https://www.slf4j.org/codes.html#noProviders for further details.\n",
                        "Using Spark's default log4j profile: org/apache/spark/log4j2-defaults.properties\n"
                    ]
                },
                {
                    "name": "stdout",
                    "output_type": "stream",
                    "text": [
                        "Spark is ready!\n"
                    ]
                },
                {
                    "data": {
                        "text/plain": [
                            "\u001b[32mimport \u001b[39m\u001b[36m$ivy.$                                      \n",
                            "\u001b[39m\n",
                            "\u001b[32mimport \u001b[39m\u001b[36morg.apache.spark.sql._\n",
                            "\u001b[39m\n",
                            "\u001b[32mimport \u001b[39m\u001b[36morg.apache.spark.sql.functions._\n",
                            "\n",
                            "\u001b[39m\n",
                            "\u001b[36mspark\u001b[39m: \u001b[32mSparkSession\u001b[39m = org.apache.spark.sql.SparkSession@3594d4dd"
                        ]
                    },
                    "execution_count": 1,
                    "metadata": {},
                    "output_type": "execute_result"
                }
            ],
            "source": [
                "import $ivy.`org.apache.spark:spark-sql_2.13:3.3.2`\n",
                "import org.apache.spark.sql._\n",
                "import org.apache.spark.sql.functions._\n",
                "\n",
                "val spark = SparkSession.builder()\n",
                "  .appName(\"SparkTest\")\n",
                "  .master(\"local[*]\")\n",
                "  .getOrCreate()\n",
                "spark.sparkContext.setLogLevel(\"ERROR\")\n",
                "  \n",
                "// http://localhost:4040/jobs/\n",
                "println(\"Spark is ready!\")"
            ]
        },
        {
            "cell_type": "code",
            "execution_count": 2,
            "metadata": {},
            "outputs": [
                {
                    "name": "stdout",
                    "output_type": "stream",
                    "text": [
                        "+----------+----------------+--------+------+\n",
                        "|query_name|          result|position|rating|\n",
                        "+----------+----------------+--------+------+\n",
                        "|       Dog|Golden Retriever|       1|     5|\n",
                        "|       Dog| German Shepherd|       2|     5|\n",
                        "|       Dog|            Mule|     200|     1|\n",
                        "|       Cat|         Shirazi|       5|     2|\n",
                        "|       Cat|         Siamese|       3|     3|\n",
                        "|       Cat|          Sphynx|       7|     4|\n",
                        "+----------+----------------+--------+------+\n",
                        "\n"
                    ]
                },
                {
                    "data": {
                        "text/plain": [
                            "\u001b[32mimport \u001b[39m\u001b[36mspark.implicits._\n",
                            "\n",
                            "\u001b[39m\n",
                            "defined \u001b[32mclass\u001b[39m \u001b[36mQuery\u001b[39m\n",
                            "\u001b[36mqueryData\u001b[39m: \u001b[32mSeq\u001b[39m[(\u001b[32mString\u001b[39m, \u001b[32mString\u001b[39m, \u001b[32mInt\u001b[39m, \u001b[32mInt\u001b[39m)] = \u001b[33mList\u001b[39m(\n",
                            "  (\u001b[32m\"Dog\"\u001b[39m, \u001b[32m\"Golden Retriever\"\u001b[39m, \u001b[32m1\u001b[39m, \u001b[32m5\u001b[39m),\n",
                            "  (\u001b[32m\"Dog\"\u001b[39m, \u001b[32m\"German Shepherd\"\u001b[39m, \u001b[32m2\u001b[39m, \u001b[32m5\u001b[39m),\n",
                            "  (\u001b[32m\"Dog\"\u001b[39m, \u001b[32m\"Mule\"\u001b[39m, \u001b[32m200\u001b[39m, \u001b[32m1\u001b[39m),\n",
                            "  (\u001b[32m\"Cat\"\u001b[39m, \u001b[32m\"Shirazi\"\u001b[39m, \u001b[32m5\u001b[39m, \u001b[32m2\u001b[39m),\n",
                            "  (\u001b[32m\"Cat\"\u001b[39m, \u001b[32m\"Siamese\"\u001b[39m, \u001b[32m3\u001b[39m, \u001b[32m3\u001b[39m),\n",
                            "  (\u001b[32m\"Cat\"\u001b[39m, \u001b[32m\"Sphynx\"\u001b[39m, \u001b[32m7\u001b[39m, \u001b[32m4\u001b[39m)\n",
                            ")\n",
                            "\u001b[36mqueriesDS\u001b[39m: \u001b[32mDataset\u001b[39m[\u001b[32mQuery\u001b[39m] = [query_name: string, result: string ... 2 more fields]"
                        ]
                    },
                    "execution_count": 2,
                    "metadata": {},
                    "output_type": "execute_result"
                }
            ],
            "source": [
                "import spark.implicits._\n",
                "\n",
                "case class Query(query_name: String, result: String, position: Int, rating: Int)\n",
                "\n",
                "val queryData: Seq[(String, String, Int, Int)] = Seq(\n",
                "  (\"Dog\", \"Golden Retriever\", 1, 5),\n",
                "  (\"Dog\", \"German Shepherd\", 2, 5),\n",
                "  (\"Dog\", \"Mule\", 200, 1),\n",
                "  (\"Cat\", \"Shirazi\", 5, 2),\n",
                "  (\"Cat\", \"Siamese\", 3, 3),\n",
                "  (\"Cat\", \"Sphynx\", 7, 4)\n",
                ")\n",
                "\n",
                "val queriesDS = queryData.toDF(\"query_name\", \"result\", \"position\", \"rating\").as[Query]\n",
                "\n",
                "queriesDS.show()"
            ]
        },
        {
            "cell_type": "markdown",
            "metadata": {},
            "source": [
                "We define query quality as:\n",
                "\n",
                "The average of the ratio between query rating and its position.\n",
                "\n",
                "We also define poor query percentage as:\n",
                "\n",
                "The percentage of all queries with rating less than 3.\n",
                "\n",
                "Write a solution to find each query_name, the quality and poor_query_percentage.\n",
                "\n",
                "Both quality and poor_query_percentage should be rounded to 2 decimal places.\n",
                "\n",
                "Return the result table in any order.\n",
                "\n",
                "The result format is in the following example.\n",
                "\n",
                "| query_name | quality | poor_query_percentage |\n",
                "|------------|---------|-----------------------|\n",
                "| Dog        | 2.50    | 33.33                 |\n",
                "| Cat        | 0.66    | 33.33                 |"
            ]
        },
        {
            "cell_type": "code",
            "execution_count": 3,
            "metadata": {},
            "outputs": [
                {
                    "name": "stdout",
                    "output_type": "stream",
                    "text": [
                        "+----------+-------+---------------------+\n",
                        "|query_name|quality|poor_query_percentage|\n",
                        "+----------+-------+---------------------+\n",
                        "|       Dog|    2.5|                33.33|\n",
                        "|       Cat|   0.66|                33.33|\n",
                        "+----------+-------+---------------------+\n",
                        "\n"
                    ]
                }
            ],
            "source": [
                "queriesDS.withColumn(\n",
                "        \"bad\",\n",
                "        when(col(\"rating\") < 3, 1).otherwise(0)\n",
                "    )\n",
                "    .groupBy(\"query_name\")\n",
                "    .agg(round(avg(col(\"rating\") / col(\"position\")), 2).as(\"quality\"), \n",
                "        round(sum(col(\"bad\")) * 100.0 / count(lit(1)), 2).as(\"poor_query_percentage\")\n",
                "    )\n",
                "    .show()"
            ]
        },
        {
            "cell_type": "code",
            "execution_count": 4,
            "metadata": {},
            "outputs": [],
            "source": [
                "spark.stop"
            ]
        }
    ],
    "metadata": {
        "kernelspec": {
            "display_name": "Scala (2.13.10)",
            "language": "scala",
            "name": "scala213"
        },
        "language_info": {
            "codemirror_mode": "text/x-scala",
            "file_extension": ".sc",
            "mimetype": "text/x-scala",
            "name": "scala",
            "nbconvert_exporter": "script",
            "version": "2.13.10"
        }
    },
    "nbformat": 4,
    "nbformat_minor": 2
}
