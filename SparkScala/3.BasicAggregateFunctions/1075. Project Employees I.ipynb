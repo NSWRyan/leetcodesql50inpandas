{
    "cells": [
        {
            "cell_type": "code",
            "execution_count": 1,
            "metadata": {},
            "outputs": [
                {
                    "name": "stderr",
                    "output_type": "stream",
                    "text": [
                        "SLF4J: No SLF4J providers were found.\n",
                        "SLF4J: Defaulting to no-operation (NOP) logger implementation\n",
                        "SLF4J: See https://www.slf4j.org/codes.html#noProviders for further details.\n",
                        "Using Spark's default log4j profile: org/apache/spark/log4j2-defaults.properties\n"
                    ]
                },
                {
                    "name": "stdout",
                    "output_type": "stream",
                    "text": [
                        "Spark is ready!\n"
                    ]
                },
                {
                    "data": {
                        "text/plain": [
                            "\u001b[32mimport \u001b[39m\u001b[36m$ivy.$                                      \n",
                            "\u001b[39m\n",
                            "\u001b[32mimport \u001b[39m\u001b[36morg.apache.spark.sql._\n",
                            "\u001b[39m\n",
                            "\u001b[32mimport \u001b[39m\u001b[36morg.apache.spark.sql.functions._\n",
                            "\n",
                            "\u001b[39m\n",
                            "\u001b[36mspark\u001b[39m: \u001b[32mSparkSession\u001b[39m = org.apache.spark.sql.SparkSession@3c63bd1"
                        ]
                    },
                    "execution_count": 1,
                    "metadata": {},
                    "output_type": "execute_result"
                }
            ],
            "source": [
                "import $ivy.`org.apache.spark:spark-sql_2.13:3.3.2`\n",
                "import org.apache.spark.sql._\n",
                "import org.apache.spark.sql.functions._\n",
                "\n",
                "val spark = SparkSession.builder()\n",
                "  .appName(\"SparkTest\")\n",
                "  .master(\"local[*]\")\n",
                "  .getOrCreate()\n",
                "spark.sparkContext.setLogLevel(\"ERROR\")\n",
                "  \n",
                "// http://localhost:4040/jobs/\n",
                "println(\"Spark is ready!\")"
            ]
        },
        {
            "cell_type": "code",
            "execution_count": 2,
            "metadata": {},
            "outputs": [
                {
                    "name": "stdout",
                    "output_type": "stream",
                    "text": [
                        "+----------+-----------+\n",
                        "|project_id|employee_id|\n",
                        "+----------+-----------+\n",
                        "|         1|          1|\n",
                        "|         1|          2|\n",
                        "|         1|          3|\n",
                        "|         2|          1|\n",
                        "|         2|          4|\n",
                        "+----------+-----------+\n",
                        "\n",
                        "+-----------+------+----------------+\n",
                        "|employee_id|  name|experience_years|\n",
                        "+-----------+------+----------------+\n",
                        "|          1|Khaled|               3|\n",
                        "|          2|   Ali|               2|\n",
                        "|          3|  John|               1|\n",
                        "|          4|   Doe|               2|\n",
                        "+-----------+------+----------------+\n",
                        "\n"
                    ]
                },
                {
                    "data": {
                        "text/plain": [
                            "\u001b[32mimport \u001b[39m\u001b[36mspark.implicits._\n",
                            "// Data\n",
                            "\u001b[39m\n",
                            "defined \u001b[32mclass\u001b[39m \u001b[36mProject\u001b[39m\n",
                            "defined \u001b[32mclass\u001b[39m \u001b[36mEmployee\u001b[39m\n",
                            "\u001b[36mdata\u001b[39m: \u001b[32mSeq\u001b[39m[(\u001b[32mInt\u001b[39m, \u001b[32mInt\u001b[39m)] = \u001b[33mList\u001b[39m((\u001b[32m1\u001b[39m, \u001b[32m1\u001b[39m), (\u001b[32m1\u001b[39m, \u001b[32m2\u001b[39m), (\u001b[32m1\u001b[39m, \u001b[32m3\u001b[39m), (\u001b[32m2\u001b[39m, \u001b[32m1\u001b[39m), (\u001b[32m2\u001b[39m, \u001b[32m4\u001b[39m))\n",
                            "\u001b[36mdata2\u001b[39m: \u001b[32mSeq\u001b[39m[(\u001b[32mInt\u001b[39m, \u001b[32mString\u001b[39m, \u001b[32mInt\u001b[39m)] = \u001b[33mList\u001b[39m(\n",
                            "  (\u001b[32m1\u001b[39m, \u001b[32m\"Khaled\"\u001b[39m, \u001b[32m3\u001b[39m),\n",
                            "  (\u001b[32m2\u001b[39m, \u001b[32m\"Ali\"\u001b[39m, \u001b[32m2\u001b[39m),\n",
                            "  (\u001b[32m3\u001b[39m, \u001b[32m\"John\"\u001b[39m, \u001b[32m1\u001b[39m),\n",
                            "  (\u001b[32m4\u001b[39m, \u001b[32m\"Doe\"\u001b[39m, \u001b[32m2\u001b[39m)\n",
                            ")\n",
                            "\u001b[36mprojectDS\u001b[39m: \u001b[32mDataset\u001b[39m[\u001b[32mProject\u001b[39m] = [project_id: int, employee_id: int]\n",
                            "\u001b[36memployeeDS\u001b[39m: \u001b[32mDataset\u001b[39m[\u001b[32mEmployee\u001b[39m] = [employee_id: int, name: string ... 1 more field]"
                        ]
                    },
                    "execution_count": 2,
                    "metadata": {},
                    "output_type": "execute_result"
                }
            ],
            "source": [
                "import spark.implicits._\n",
                "// Data\n",
                "case class Project(project_id: Int, employee_id: Int)\n",
                "case class Employee(employee_id: Int, name: String, experience_years: Int)\n",
                "val data = Seq[(Int, Int)](\n",
                "  (1, 1), (1, 2), (1, 3), (2, 1), (2, 4)\n",
                ")\n",
                "val data2 = Seq[(Int, String, Int)](\n",
                "  (1, \"Khaled\", 3), \n",
                "  (2, \"Ali\", 2), \n",
                "  (3, \"John\", 1), \n",
                "  (4, \"Doe\", 2)\n",
                ")\n",
                "\n",
                "\n",
                "val projectDS: Dataset[Project] = data.toDF(\"project_id\", \"employee_id\")\n",
                "  .as[Project]\n",
                "val employeeDS: Dataset[Employee] = data2.toDF(\"employee_id\", \"name\", \"experience_years\")\n",
                "  .as[Employee]\n",
                "\n",
                "projectDS.show()\n",
                "employeeDS.show()"
            ]
        },
        {
            "cell_type": "markdown",
            "metadata": {},
            "source": [
                "Write an SQL query that reports the average experience years of all the employees for each project, rounded to 2 digits.\n",
                "\n",
                "Return the result table in any order.\n",
                "\n",
                "The query result format is in the following example.\n",
                "\n",
                "| project_id  | average_years |\n",
                "|-------------|---------------|\n",
                "| 1           | 2.00          |\n",
                "| 2           | 2.50          |"
            ]
        },
        {
            "cell_type": "code",
            "execution_count": 5,
            "metadata": {},
            "outputs": [
                {
                    "name": "stdout",
                    "output_type": "stream",
                    "text": [
                        "+----------+-------------+\n",
                        "|project_id|average_years|\n",
                        "+----------+-------------+\n",
                        "|         1|          2.0|\n",
                        "|         2|          2.5|\n",
                        "+----------+-------------+\n",
                        "\n"
                    ]
                }
            ],
            "source": [
                "projectDS.join(employeeDS, Seq(\"employee_id\"), \"inner\")\n",
                "    .groupBy(\"project_id\")\n",
                "    .agg(round(avg(\"experience_years\"), 2).as(\"average_years\"))\n",
                "    .show()\n",
                "\n"
            ]
        },
        {
            "cell_type": "code",
            "execution_count": 6,
            "metadata": {},
            "outputs": [],
            "source": [
                "spark.stop"
            ]
        }
    ],
    "metadata": {
        "kernelspec": {
            "display_name": "Scala (2.13.10)",
            "language": "scala",
            "name": "scala213"
        },
        "language_info": {
            "codemirror_mode": "text/x-scala",
            "file_extension": ".sc",
            "mimetype": "text/x-scala",
            "name": "scala",
            "nbconvert_exporter": "script",
            "version": "2.13.10"
        }
    },
    "nbformat": 4,
    "nbformat_minor": 2
}
