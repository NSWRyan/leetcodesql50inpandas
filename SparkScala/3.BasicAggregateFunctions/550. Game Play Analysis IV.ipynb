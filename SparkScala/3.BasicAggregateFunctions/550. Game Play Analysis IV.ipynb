{
    "cells": [
        {
            "cell_type": "code",
            "execution_count": 1,
            "metadata": {},
            "outputs": [
                {
                    "name": "stderr",
                    "output_type": "stream",
                    "text": [
                        "SLF4J: No SLF4J providers were found.\n",
                        "SLF4J: Defaulting to no-operation (NOP) logger implementation\n",
                        "SLF4J: See https://www.slf4j.org/codes.html#noProviders for further details.\n",
                        "Using Spark's default log4j profile: org/apache/spark/log4j2-defaults.properties\n"
                    ]
                },
                {
                    "name": "stdout",
                    "output_type": "stream",
                    "text": [
                        "Spark is ready!\n"
                    ]
                },
                {
                    "data": {
                        "text/plain": [
                            "\u001b[32mimport \u001b[39m\u001b[36m$ivy.$                                      \n",
                            "\u001b[39m\n",
                            "\u001b[32mimport \u001b[39m\u001b[36morg.apache.spark.sql._\n",
                            "\u001b[39m\n",
                            "\u001b[32mimport \u001b[39m\u001b[36morg.apache.spark.sql.functions._\n",
                            "\n",
                            "\u001b[39m\n",
                            "\u001b[36mspark\u001b[39m: \u001b[32mSparkSession\u001b[39m = org.apache.spark.sql.SparkSession@25bef652"
                        ]
                    },
                    "execution_count": 1,
                    "metadata": {},
                    "output_type": "execute_result"
                }
            ],
            "source": [
                "import $ivy.`org.apache.spark:spark-sql_2.13:3.3.2`\n",
                "import org.apache.spark.sql._\n",
                "import org.apache.spark.sql.functions._\n",
                "\n",
                "val spark = SparkSession.builder()\n",
                "  .appName(\"SparkTest\")\n",
                "  .master(\"local[*]\")\n",
                "  .getOrCreate()\n",
                "spark.sparkContext.setLogLevel(\"ERROR\")\n",
                "  \n",
                "// http://localhost:4040/jobs/\n",
                "println(\"Spark is ready!\")"
            ]
        },
        {
            "cell_type": "code",
            "execution_count": 2,
            "metadata": {},
            "outputs": [
                {
                    "data": {
                        "text/plain": [
                            "\u001b[32mimport \u001b[39m\u001b[36mspark.implicits._\n",
                            "\u001b[39m\n",
                            "\u001b[32mimport \u001b[39m\u001b[36mjava.sql.Date\n",
                            "\n",
                            "\u001b[39m\n",
                            "defined \u001b[32mclass\u001b[39m \u001b[36mActivity\u001b[39m\n",
                            "\u001b[36mactivityData\u001b[39m: \u001b[32mSeq\u001b[39m[(\u001b[32mInt\u001b[39m, \u001b[32mInt\u001b[39m, \u001b[32mDate\u001b[39m, \u001b[32mInt\u001b[39m)] = \u001b[33mList\u001b[39m(\n",
                            "  (\u001b[32m1\u001b[39m, \u001b[32m2\u001b[39m, 2016-03-01, \u001b[32m5\u001b[39m),\n",
                            "  (\u001b[32m1\u001b[39m, \u001b[32m2\u001b[39m, 2016-03-02, \u001b[32m6\u001b[39m),\n",
                            "  (\u001b[32m2\u001b[39m, \u001b[32m3\u001b[39m, 2017-06-25, \u001b[32m1\u001b[39m),\n",
                            "  (\u001b[32m3\u001b[39m, \u001b[32m1\u001b[39m, 2016-03-02, \u001b[32m0\u001b[39m),\n",
                            "  (\u001b[32m3\u001b[39m, \u001b[32m4\u001b[39m, 2018-07-03, \u001b[32m5\u001b[39m)\n",
                            ")\n",
                            "\u001b[36mactivityDS\u001b[39m: \u001b[32mDataset\u001b[39m[\u001b[32mActivity\u001b[39m] = [player_id: int, device_id: int ... 2 more fields]"
                        ]
                    },
                    "execution_count": 2,
                    "metadata": {},
                    "output_type": "execute_result"
                }
            ],
            "source": [
                "import spark.implicits._\n",
                "import java.sql.Date\n",
                "\n",
                "case class Activity(\n",
                "  player_id: Int,\n",
                "  device_id: Int,\n",
                "  event_date: Date,\n",
                "  games_played: Int\n",
                ")\n",
                "\n",
                "val activityData: Seq[(Int, Int, Date, Int)] = Seq(\n",
                "  (1, 2, Date.valueOf(\"2016-03-01\"), 5),\n",
                "  (1, 2, Date.valueOf(\"2016-03-02\"), 6),\n",
                "  (2, 3, Date.valueOf(\"2017-06-25\"), 1),\n",
                "  (3, 1, Date.valueOf(\"2016-03-02\"), 0),\n",
                "  (3, 4, Date.valueOf(\"2018-07-03\"), 5)\n",
                ")\n",
                "\n",
                "val activityDS = activityData.toDF(\n",
                "  \"player_id\",\n",
                "  \"device_id\",\n",
                "  \"event_date\",\n",
                "  \"games_played\"\n",
                ").as[Activity]"
            ]
        },
        {
            "cell_type": "markdown",
            "metadata": {},
            "source": [
                "Write a solution to report the fraction of players that logged in again on the day after the day they first logged in, rounded to 2 decimal places. In other words, you need to count the number of players that logged in for at least two consecutive days starting from their first login date, then divide that number by the total number of players.\n",
                "\n",
                "The result format is in the following example.\n",
                "| fraction  |\n",
                "|-----------|\n",
                "| 0.33      |"
            ]
        },
        {
            "cell_type": "code",
            "execution_count": 3,
            "metadata": {},
            "outputs": [
                {
                    "name": "stdout",
                    "output_type": "stream",
                    "text": [
                        "+---------+---------+----------+------------+\n",
                        "|player_id|device_id|event_date|games_played|\n",
                        "+---------+---------+----------+------------+\n",
                        "|        1|        2|2016-03-01|           5|\n",
                        "|        1|        2|2016-03-02|           6|\n",
                        "|        2|        3|2017-06-25|           1|\n",
                        "|        3|        1|2016-03-02|           0|\n",
                        "|        3|        4|2018-07-03|           5|\n",
                        "+---------+---------+----------+------------+\n",
                        "\n"
                    ]
                },
                {
                    "data": {
                        "text/plain": [
                            "\u001b[36mplayerCount\u001b[39m: \u001b[32mLong\u001b[39m = \u001b[32m3L\u001b[39m"
                        ]
                    },
                    "execution_count": 3,
                    "metadata": {},
                    "output_type": "execute_result"
                }
            ],
            "source": [
                "activityDS.show()\n",
                "\n",
                "val playerCount = activityDS.select(col(\"player_id\"))\n",
                "    .dropDuplicates().count()"
            ]
        },
        {
            "cell_type": "code",
            "execution_count": null,
            "metadata": {},
            "outputs": [
                {
                    "name": "stderr",
                    "output_type": "stream",
                    "text": [
                        "(console):7:5 expected end-of-input\n",
                        "    .groupBy(col(\"a.player_id\"))\n",
                        "    ^"
                    ]
                },
                {
                    "ename": "",
                    "evalue": "",
                    "output_type": "error",
                    "traceback": [
                        "(console):7:5 expected end-of-input\n    .groupBy(col(\"a.player_id\"))\n    ^"
                    ]
                }
            ],
            "source": [
                "activityDS.as(\"a\").groupBy(col(\"player_id\"))\n",
                "    .agg(min(\"event_date\").as(\"event_date_first\"))\n",
                "    .join(\n",
                "        activityDS.as(\"b\"), \n",
                "        (col(\"a.player_id\") === col(\"b.player_id\")) &&\n",
                "        (date_add(col(\"event_date_first\"), 1) === col(\"event_date\"))\n",
                "    )\n",
                "    .groupBy(col(\"a.player_id\"))\n",
                "    .agg(round(count(lit(1))/playerCount, 2).as(\"fraction\"))\n",
                "    .select(col(\"fraction\"))\n",
                "    .show()"
            ]
        },
        {
            "cell_type": "code",
            "execution_count": null,
            "metadata": {},
            "outputs": [],
            "source": [
                "spark.stop"
            ]
        }
    ],
    "metadata": {
        "kernelspec": {
            "display_name": "Scala (2.13.10)",
            "language": "scala",
            "name": "scala213"
        },
        "language_info": {
            "codemirror_mode": "text/x-scala",
            "file_extension": ".sc",
            "mimetype": "text/x-scala",
            "name": "scala",
            "nbconvert_exporter": "script",
            "version": "2.13.10"
        }
    },
    "nbformat": 4,
    "nbformat_minor": 2
}
