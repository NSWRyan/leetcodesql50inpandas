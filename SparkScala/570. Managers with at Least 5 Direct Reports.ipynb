{
 "cells": [
  {
   "cell_type": "code",
   "execution_count": 1,
   "metadata": {},
   "outputs": [
    {
     "name": "stderr",
     "output_type": "stream",
     "text": [
      "SLF4J: No SLF4J providers were found.\n",
      "SLF4J: Defaulting to no-operation (NOP) logger implementation\n",
      "SLF4J: See https://www.slf4j.org/codes.html#noProviders for further details.\n",
      "Using Spark's default log4j profile: org/apache/spark/log4j2-defaults.properties\n"
     ]
    },
    {
     "name": "stdout",
     "output_type": "stream",
     "text": [
      "Spark is ready!\n"
     ]
    },
    {
     "data": {
      "text/plain": [
       "\u001b[32mimport \u001b[39m\u001b[36m$ivy.$                                      \n",
       "\u001b[39m\n",
       "\u001b[32mimport \u001b[39m\u001b[36morg.apache.spark.sql._\n",
       "\u001b[39m\n",
       "\u001b[32mimport \u001b[39m\u001b[36morg.apache.spark.sql.functions._\n",
       "\n",
       "\u001b[39m\n",
       "\u001b[36mspark\u001b[39m: \u001b[32mSparkSession\u001b[39m = org.apache.spark.sql.SparkSession@1fcbeb4c\n",
       "\u001b[32mimport \u001b[39m\u001b[36mspark.implicits._\u001b[39m"
      ]
     },
     "execution_count": 1,
     "metadata": {},
     "output_type": "execute_result"
    }
   ],
   "source": [
    "import $ivy.`org.apache.spark:spark-sql_2.13:3.3.2`\n",
    "import org.apache.spark.sql._\n",
    "import org.apache.spark.sql.functions._\n",
    "\n",
    "val spark = SparkSession.builder()\n",
    "  .appName(\"SparkTest\")\n",
    "  .master(\"local[*]\")  // Runs on local machine with 1 local worker / thread, so we can see the impact on COPY_ON_WRITE\n",
    "  .getOrCreate()\n",
    "spark.sparkContext.setLogLevel(\"ERROR\")\n",
    "  \n",
    "// http://localhost:4040/jobs/\n",
    "println(\"Spark is ready!\")\n",
    "\n",
    "import spark.implicits._"
   ]
  },
  {
   "cell_type": "code",
   "execution_count": 3,
   "metadata": {},
   "outputs": [
    {
     "name": "stdout",
     "output_type": "stream",
     "text": [
      "+---+-----+----------+---------+\n",
      "| id| name|department|managerId|\n",
      "+---+-----+----------+---------+\n",
      "|101| John|         A|     null|\n",
      "|102|  Dan|         A|      101|\n",
      "|103|James|         A|      101|\n",
      "|104|  Amy|         A|      101|\n",
      "|105| Anne|         A|      101|\n",
      "|106|  Ron|         B|      101|\n",
      "+---+-----+----------+---------+\n",
      "\n"
     ]
    },
    {
     "data": {
      "text/plain": [
       "defined \u001b[32mclass\u001b[39m \u001b[36mEmployee\u001b[39m\n",
       "\u001b[36mdata\u001b[39m: \u001b[32mSeq\u001b[39m[\u001b[32mEmployee\u001b[39m] = \u001b[33mList\u001b[39m(\n",
       "  \u001b[33mEmployee\u001b[39m(id = \u001b[32m101\u001b[39m, name = \u001b[32m\"John\"\u001b[39m, department = \u001b[32m\"A\"\u001b[39m, managerId = \u001b[32mNone\u001b[39m),\n",
       "  \u001b[33mEmployee\u001b[39m(\n",
       "    id = \u001b[32m102\u001b[39m,\n",
       "    name = \u001b[32m\"Dan\"\u001b[39m,\n",
       "    department = \u001b[32m\"A\"\u001b[39m,\n",
       "    managerId = \u001b[33mSome\u001b[39m(value = \u001b[32m101\u001b[39m)\n",
       "  ),\n",
       "  \u001b[33mEmployee\u001b[39m(\n",
       "    id = \u001b[32m103\u001b[39m,\n",
       "    name = \u001b[32m\"James\"\u001b[39m,\n",
       "    department = \u001b[32m\"A\"\u001b[39m,\n",
       "    managerId = \u001b[33mSome\u001b[39m(value = \u001b[32m101\u001b[39m)\n",
       "  ),\n",
       "  \u001b[33mEmployee\u001b[39m(\n",
       "    id = \u001b[32m104\u001b[39m,\n",
       "    name = \u001b[32m\"Amy\"\u001b[39m,\n",
       "    department = \u001b[32m\"A\"\u001b[39m,\n",
       "    managerId = \u001b[33mSome\u001b[39m(value = \u001b[32m101\u001b[39m)\n",
       "  ),\n",
       "  \u001b[33mEmployee\u001b[39m(\n",
       "    id = \u001b[32m105\u001b[39m,\n",
       "    name = \u001b[32m\"Anne\"\u001b[39m,\n",
       "    department = \u001b[32m\"A\"\u001b[39m,\n",
       "    managerId = \u001b[33mSome\u001b[39m(value = \u001b[32m101\u001b[39m)\n",
       "  ),\n",
       "  \u001b[33mEmployee\u001b[39m(\n",
       "    id = \u001b[32m106\u001b[39m,\n",
       "    name = \u001b[32m\"Ron\"\u001b[39m,\n",
       "    department = \u001b[32m\"B\"\u001b[39m,\n",
       "    managerId = \u001b[33mSome\u001b[39m(value = \u001b[32m101\u001b[39m)\n",
       "  )\n",
       ")\n",
       "\u001b[36memployeeDs\u001b[39m: \u001b[32mDataset\u001b[39m[\u001b[32mEmployee\u001b[39m] = [id: int, name: string ... 2 more fields]"
      ]
     },
     "execution_count": 3,
     "metadata": {},
     "output_type": "execute_result"
    }
   ],
   "source": [
    "case class Employee(id:Int, name:String, department:String, managerId:Option[Int])\n",
    "val data = Seq(\n",
    "  Employee(101, \"John\", \"A\", None), \n",
    "  Employee(102, \"Dan\", \"A\", Some(101)), \n",
    "  Employee(103, \"James\", \"A\", Some(101)), \n",
    "  Employee(104, \"Amy\", \"A\", Some(101)), \n",
    "  Employee(105, \"Anne\", \"A\", Some(101)), \n",
    "  Employee(106, \"Ron\", \"B\", Some(101))\n",
    ")\n",
    "\n",
    "val employeeDs : Dataset[Employee] = data.toDS()\n",
    "employeeDs.show"
   ]
  },
  {
   "cell_type": "markdown",
   "metadata": {},
   "source": [
    "Write a solution to find managers with at least five direct reports.\n",
    "\n",
    "Return the result table in any order.\n",
    "\n",
    "The result format is in the following example.\n",
    "| name |\n",
    "|------|\n",
    "| John |"
   ]
  },
  {
   "cell_type": "code",
   "execution_count": 25,
   "metadata": {},
   "outputs": [
    {
     "name": "stdout",
     "output_type": "stream",
     "text": [
      "+----+\n",
      "|name|\n",
      "+----+\n",
      "|John|\n",
      "+----+\n",
      "\n"
     ]
    },
    {
     "data": {
      "text/plain": [
       "\u001b[36mmanagerCountDF\u001b[39m: \u001b[32mDataset\u001b[39m[\u001b[32mRow\u001b[39m] = [managerId: int, cnt: bigint]"
      ]
     },
     "execution_count": 25,
     "metadata": {},
     "output_type": "execute_result"
    }
   ],
   "source": [
    "val managerCountDF = employeeDs.groupBy(col(\"managerId\")).agg(count(lit(1)).alias(\"cnt\")).filter(col(\"cnt\") >= 5)\n",
    "managerCountDF.as(\"a\").join(employeeDs.select(col(\"id\"), col(\"name\")).as(\"b\"), col(\"b.id\") === col(\"a.managerId\"), \"leftouter\").select(col(\"name\")).show()"
   ]
  },
  {
   "cell_type": "code",
   "execution_count": null,
   "metadata": {},
   "outputs": [],
   "source": [
    "spark.stop()"
   ]
  }
 ],
 "metadata": {
  "kernelspec": {
   "display_name": "Scala (2.13.10)",
   "language": "scala",
   "name": "scala213"
  },
  "language_info": {
   "codemirror_mode": "text/x-scala",
   "file_extension": ".sc",
   "mimetype": "text/x-scala",
   "name": "scala",
   "nbconvert_exporter": "script",
   "version": "2.13.10"
  }
 },
 "nbformat": 4,
 "nbformat_minor": 2
}
